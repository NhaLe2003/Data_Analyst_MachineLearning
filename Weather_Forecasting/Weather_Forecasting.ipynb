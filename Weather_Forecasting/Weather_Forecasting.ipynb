{
 "cells": [
  {
   "cell_type": "code",
   "execution_count": 1,
   "id": "7bb126ac",
   "metadata": {},
   "outputs": [],
   "source": [
    "import numpy as np\n",
    "import pandas as pd\n",
    "import matplotlib.pyplot as plt\n",
    "import seaborn as sns\n",
    "import plotly.express as px\n",
    "%matplotlib inline"
   ]
  },
  {
   "cell_type": "code",
   "execution_count": 3,
   "id": "f4c66b41",
   "metadata": {},
   "outputs": [],
   "source": [
    "## reading the data\n",
    "df = pd.read_csv(\"D:\\\\Python\\\\Data_Analysis\\\\Weather_Forecasting\\\\DailyDelhiClimateTest.csv\")"
   ]
  },
  {
   "cell_type": "code",
   "execution_count": 4,
   "id": "98f7b9df",
   "metadata": {},
   "outputs": [
    {
     "data": {
      "text/html": [
       "<div>\n",
       "<style scoped>\n",
       "    .dataframe tbody tr th:only-of-type {\n",
       "        vertical-align: middle;\n",
       "    }\n",
       "\n",
       "    .dataframe tbody tr th {\n",
       "        vertical-align: top;\n",
       "    }\n",
       "\n",
       "    .dataframe thead th {\n",
       "        text-align: right;\n",
       "    }\n",
       "</style>\n",
       "<table border=\"1\" class=\"dataframe\">\n",
       "  <thead>\n",
       "    <tr style=\"text-align: right;\">\n",
       "      <th></th>\n",
       "      <th>date</th>\n",
       "      <th>meantemp</th>\n",
       "      <th>humidity</th>\n",
       "      <th>wind_speed</th>\n",
       "      <th>meanpressure</th>\n",
       "    </tr>\n",
       "  </thead>\n",
       "  <tbody>\n",
       "    <tr>\n",
       "      <th>0</th>\n",
       "      <td>2017-01-01</td>\n",
       "      <td>15.913043</td>\n",
       "      <td>85.869565</td>\n",
       "      <td>2.743478</td>\n",
       "      <td>59.000000</td>\n",
       "    </tr>\n",
       "    <tr>\n",
       "      <th>1</th>\n",
       "      <td>2017-01-02</td>\n",
       "      <td>18.500000</td>\n",
       "      <td>77.222222</td>\n",
       "      <td>2.894444</td>\n",
       "      <td>1018.277778</td>\n",
       "    </tr>\n",
       "    <tr>\n",
       "      <th>2</th>\n",
       "      <td>2017-01-03</td>\n",
       "      <td>17.111111</td>\n",
       "      <td>81.888889</td>\n",
       "      <td>4.016667</td>\n",
       "      <td>1018.333333</td>\n",
       "    </tr>\n",
       "    <tr>\n",
       "      <th>3</th>\n",
       "      <td>2017-01-04</td>\n",
       "      <td>18.700000</td>\n",
       "      <td>70.050000</td>\n",
       "      <td>4.545000</td>\n",
       "      <td>1015.700000</td>\n",
       "    </tr>\n",
       "    <tr>\n",
       "      <th>4</th>\n",
       "      <td>2017-01-05</td>\n",
       "      <td>18.388889</td>\n",
       "      <td>74.944444</td>\n",
       "      <td>3.300000</td>\n",
       "      <td>1014.333333</td>\n",
       "    </tr>\n",
       "  </tbody>\n",
       "</table>\n",
       "</div>"
      ],
      "text/plain": [
       "         date   meantemp   humidity  wind_speed  meanpressure\n",
       "0  2017-01-01  15.913043  85.869565    2.743478     59.000000\n",
       "1  2017-01-02  18.500000  77.222222    2.894444   1018.277778\n",
       "2  2017-01-03  17.111111  81.888889    4.016667   1018.333333\n",
       "3  2017-01-04  18.700000  70.050000    4.545000   1015.700000\n",
       "4  2017-01-05  18.388889  74.944444    3.300000   1014.333333"
      ]
     },
     "execution_count": 4,
     "metadata": {},
     "output_type": "execute_result"
    }
   ],
   "source": [
    "df.head()"
   ]
  },
  {
   "cell_type": "code",
   "execution_count": 5,
   "id": "2de38b60",
   "metadata": {},
   "outputs": [
    {
     "data": {
      "text/html": [
       "<div>\n",
       "<style scoped>\n",
       "    .dataframe tbody tr th:only-of-type {\n",
       "        vertical-align: middle;\n",
       "    }\n",
       "\n",
       "    .dataframe tbody tr th {\n",
       "        vertical-align: top;\n",
       "    }\n",
       "\n",
       "    .dataframe thead th {\n",
       "        text-align: right;\n",
       "    }\n",
       "</style>\n",
       "<table border=\"1\" class=\"dataframe\">\n",
       "  <thead>\n",
       "    <tr style=\"text-align: right;\">\n",
       "      <th></th>\n",
       "      <th>meantemp</th>\n",
       "      <th>humidity</th>\n",
       "      <th>wind_speed</th>\n",
       "      <th>meanpressure</th>\n",
       "    </tr>\n",
       "  </thead>\n",
       "  <tbody>\n",
       "    <tr>\n",
       "      <th>count</th>\n",
       "      <td>114.000000</td>\n",
       "      <td>114.000000</td>\n",
       "      <td>114.000000</td>\n",
       "      <td>114.000000</td>\n",
       "    </tr>\n",
       "    <tr>\n",
       "      <th>mean</th>\n",
       "      <td>21.713079</td>\n",
       "      <td>56.258362</td>\n",
       "      <td>8.143924</td>\n",
       "      <td>1004.035090</td>\n",
       "    </tr>\n",
       "    <tr>\n",
       "      <th>std</th>\n",
       "      <td>6.360072</td>\n",
       "      <td>19.068083</td>\n",
       "      <td>3.588049</td>\n",
       "      <td>89.474692</td>\n",
       "    </tr>\n",
       "    <tr>\n",
       "      <th>min</th>\n",
       "      <td>11.000000</td>\n",
       "      <td>17.750000</td>\n",
       "      <td>1.387500</td>\n",
       "      <td>59.000000</td>\n",
       "    </tr>\n",
       "    <tr>\n",
       "      <th>25%</th>\n",
       "      <td>16.437198</td>\n",
       "      <td>39.625000</td>\n",
       "      <td>5.563542</td>\n",
       "      <td>1007.437500</td>\n",
       "    </tr>\n",
       "    <tr>\n",
       "      <th>50%</th>\n",
       "      <td>19.875000</td>\n",
       "      <td>57.750000</td>\n",
       "      <td>8.069444</td>\n",
       "      <td>1012.739316</td>\n",
       "    </tr>\n",
       "    <tr>\n",
       "      <th>75%</th>\n",
       "      <td>27.705357</td>\n",
       "      <td>71.902778</td>\n",
       "      <td>10.068750</td>\n",
       "      <td>1016.739583</td>\n",
       "    </tr>\n",
       "    <tr>\n",
       "      <th>max</th>\n",
       "      <td>34.500000</td>\n",
       "      <td>95.833333</td>\n",
       "      <td>19.314286</td>\n",
       "      <td>1022.809524</td>\n",
       "    </tr>\n",
       "  </tbody>\n",
       "</table>\n",
       "</div>"
      ],
      "text/plain": [
       "         meantemp    humidity  wind_speed  meanpressure\n",
       "count  114.000000  114.000000  114.000000    114.000000\n",
       "mean    21.713079   56.258362    8.143924   1004.035090\n",
       "std      6.360072   19.068083    3.588049     89.474692\n",
       "min     11.000000   17.750000    1.387500     59.000000\n",
       "25%     16.437198   39.625000    5.563542   1007.437500\n",
       "50%     19.875000   57.750000    8.069444   1012.739316\n",
       "75%     27.705357   71.902778   10.068750   1016.739583\n",
       "max     34.500000   95.833333   19.314286   1022.809524"
      ]
     },
     "execution_count": 5,
     "metadata": {},
     "output_type": "execute_result"
    }
   ],
   "source": [
    "df.describe()"
   ]
  },
  {
   "cell_type": "code",
   "execution_count": 6,
   "id": "e2bdf057",
   "metadata": {},
   "outputs": [
    {
     "name": "stdout",
     "output_type": "stream",
     "text": [
      "<class 'pandas.core.frame.DataFrame'>\n",
      "RangeIndex: 114 entries, 0 to 113\n",
      "Data columns (total 5 columns):\n",
      " #   Column        Non-Null Count  Dtype  \n",
      "---  ------        --------------  -----  \n",
      " 0   date          114 non-null    object \n",
      " 1   meantemp      114 non-null    float64\n",
      " 2   humidity      114 non-null    float64\n",
      " 3   wind_speed    114 non-null    float64\n",
      " 4   meanpressure  114 non-null    float64\n",
      "dtypes: float64(4), object(1)\n",
      "memory usage: 4.6+ KB\n"
     ]
    }
   ],
   "source": [
    "df.info()"
   ]
  },
  {
   "cell_type": "code",
   "execution_count": 7,
   "id": "67832ff7",
   "metadata": {},
   "outputs": [
    {
     "data": {
      "text/plain": [
       "date            0\n",
       "meantemp        0\n",
       "humidity        0\n",
       "wind_speed      0\n",
       "meanpressure    0\n",
       "dtype: int64"
      ]
     },
     "execution_count": 7,
     "metadata": {},
     "output_type": "execute_result"
    }
   ],
   "source": [
    "df.isnull().sum()"
   ]
  },
  {
   "cell_type": "code",
   "execution_count": 8,
   "id": "bc2e34c9",
   "metadata": {},
   "outputs": [
    {
     "data": {
      "application/vnd.plotly.v1+json": {
       "config": {
        "plotlyServerURL": "https://plot.ly"
       },
       "data": [
        {
         "hovertemplate": "date=%{x}<br>meantemp=%{y}<extra></extra>",
         "legendgroup": "",
         "line": {
          "color": "#636efa",
          "dash": "solid"
         },
         "marker": {
          "symbol": "circle"
         },
         "mode": "lines",
         "name": "",
         "orientation": "v",
         "showlegend": false,
         "type": "scatter",
         "x": [
          "2017-01-01",
          "2017-01-02",
          "2017-01-03",
          "2017-01-04",
          "2017-01-05",
          "2017-01-06",
          "2017-01-07",
          "2017-01-08",
          "2017-01-09",
          "2017-01-10",
          "2017-01-11",
          "2017-01-12",
          "2017-01-13",
          "2017-01-14",
          "2017-01-15",
          "2017-01-16",
          "2017-01-17",
          "2017-01-18",
          "2017-01-19",
          "2017-01-20",
          "2017-01-21",
          "2017-01-22",
          "2017-01-23",
          "2017-01-24",
          "2017-01-25",
          "2017-01-26",
          "2017-01-27",
          "2017-01-28",
          "2017-01-29",
          "2017-01-30",
          "2017-01-31",
          "2017-02-01",
          "2017-02-02",
          "2017-02-03",
          "2017-02-04",
          "2017-02-05",
          "2017-02-06",
          "2017-02-07",
          "2017-02-08",
          "2017-02-09",
          "2017-02-10",
          "2017-02-11",
          "2017-02-12",
          "2017-02-13",
          "2017-02-14",
          "2017-02-15",
          "2017-02-16",
          "2017-02-17",
          "2017-02-18",
          "2017-02-19",
          "2017-02-20",
          "2017-02-21",
          "2017-02-22",
          "2017-02-23",
          "2017-02-24",
          "2017-02-25",
          "2017-02-26",
          "2017-02-27",
          "2017-02-28",
          "2017-03-01",
          "2017-03-02",
          "2017-03-03",
          "2017-03-04",
          "2017-03-05",
          "2017-03-06",
          "2017-03-07",
          "2017-03-08",
          "2017-03-09",
          "2017-03-10",
          "2017-03-11",
          "2017-03-12",
          "2017-03-13",
          "2017-03-14",
          "2017-03-15",
          "2017-03-16",
          "2017-03-17",
          "2017-03-18",
          "2017-03-19",
          "2017-03-20",
          "2017-03-21",
          "2017-03-22",
          "2017-03-23",
          "2017-03-24",
          "2017-03-25",
          "2017-03-26",
          "2017-03-27",
          "2017-03-28",
          "2017-03-29",
          "2017-03-30",
          "2017-03-31",
          "2017-04-01",
          "2017-04-02",
          "2017-04-03",
          "2017-04-04",
          "2017-04-05",
          "2017-04-06",
          "2017-04-07",
          "2017-04-08",
          "2017-04-09",
          "2017-04-10",
          "2017-04-11",
          "2017-04-12",
          "2017-04-13",
          "2017-04-14",
          "2017-04-15",
          "2017-04-16",
          "2017-04-17",
          "2017-04-18",
          "2017-04-19",
          "2017-04-20",
          "2017-04-21",
          "2017-04-22",
          "2017-04-23",
          "2017-04-24"
         ],
         "xaxis": "x",
         "y": {
          "bdata": "velNb3rTL0AAAAAAAIAyQMdxHMdxHDFAMzMzMzOzMkA5juM4jmMyQNFFF110UTNAq6qqqqpqLUDlNZTXUF4vQEmSJEmSJC1AjuM4juM4KEAAAAAAAAAmQEN5DeU1lCdAeHh4eHh4KkBmZmZmZmYqQKc3velNbzBAzczMzMxMLUAbx3Ecx3EnQFVVVVVVFSpA0PM8z/M8LUBsKK+hvIYuQC1kIQtZyC5AcT0K16NwMkAeHh4eHh4yQIYsZCELWTJAAAAAAAAANUDbtm3bti0wQAAAAAAAgDBAuuiiiy66LUBVVVVVVVUvQBzHcRzHcTBAAAAAAAAgMEAAAAAAAIAuQBdddNFFFzFARhdddNFFL0AzMzMzM7MyQBvKayivoTJAOY7jOI7jMEAAAAAAAEAuQGZmZmZmZi9AAAAAAADALkBVVVVVVVUtQAAAAAAAQC9AAAAAAABAMEBVVVVVVVUwQAAAAAAA4DBAJUmSJEmSMUAAAAAAAEA0QM3MzMzMTDVAAAAAAAAgNUBddNFFF102QAAAAAAAYDdAVFVVVVXVNUAAAAAAACAzQAAAAAAAoDJAAAAAAAAgM0AAAAAAAAAzQAAAAAAAwDJAAAAAAADgM0BUVVVVVVU3QGIndmIndjhAAAAAAADAN0AAAAAAAIA0QAAAAAAAIDNAAAAAAADAM0AAAAAAAAA0QAAAAAAAoDZAjC666KKLNUCSJEmSJMk0QAAAAAAA8DNAiIiIiIiIMkAAAAAAAGAxQBzHcRzHcTFAAAAAAAAAMkAAAAAAAOAzQAAAAAAAADhAZmZmZmbmNEAUO7ETO7E4QKuqqqqqqjhAVFVVVVVVN0AAAAAAAAA5QAAAAAAAQDtAAAAAAAAAPECrqqqqquo8QAAAAAAAgDpAmpmZmZkZPUAAAAAAAIA9QDmO4ziO4z1AAAAAAAAAP0CSJEmSJEk9QAAAAAAAoD5AAAAAAABgP0AAAAAAAMA9QAAAAAAAgD5A7+7u7u7uPkCxEzuxEzs9QI7jOI7jOD9AAAAAAAAAO0AAAAAAAKA5QAAAAAAAIDtAt23btm3bO0AAAAAAAEA9QAAAAAAAQD1Aq6qqqqqqPUAAAAAAAIA+QI7jOI7jOD9AAAAAAAAAP0ByHMdxHEdAQAAAAAAAAEFAAAAAAADAQEAAAAAAAEBBQAAAAAAAIEFAMzMzMzNzQEAAAAAAAHBAQAAAAAAAAEBA",
          "dtype": "f8"
         },
         "yaxis": "y"
        }
       ],
       "layout": {
        "legend": {
         "tracegroupgap": 0
        },
        "template": {
         "data": {
          "bar": [
           {
            "error_x": {
             "color": "#2a3f5f"
            },
            "error_y": {
             "color": "#2a3f5f"
            },
            "marker": {
             "line": {
              "color": "#E5ECF6",
              "width": 0.5
             },
             "pattern": {
              "fillmode": "overlay",
              "size": 10,
              "solidity": 0.2
             }
            },
            "type": "bar"
           }
          ],
          "barpolar": [
           {
            "marker": {
             "line": {
              "color": "#E5ECF6",
              "width": 0.5
             },
             "pattern": {
              "fillmode": "overlay",
              "size": 10,
              "solidity": 0.2
             }
            },
            "type": "barpolar"
           }
          ],
          "carpet": [
           {
            "aaxis": {
             "endlinecolor": "#2a3f5f",
             "gridcolor": "white",
             "linecolor": "white",
             "minorgridcolor": "white",
             "startlinecolor": "#2a3f5f"
            },
            "baxis": {
             "endlinecolor": "#2a3f5f",
             "gridcolor": "white",
             "linecolor": "white",
             "minorgridcolor": "white",
             "startlinecolor": "#2a3f5f"
            },
            "type": "carpet"
           }
          ],
          "choropleth": [
           {
            "colorbar": {
             "outlinewidth": 0,
             "ticks": ""
            },
            "type": "choropleth"
           }
          ],
          "contour": [
           {
            "colorbar": {
             "outlinewidth": 0,
             "ticks": ""
            },
            "colorscale": [
             [
              0,
              "#0d0887"
             ],
             [
              0.1111111111111111,
              "#46039f"
             ],
             [
              0.2222222222222222,
              "#7201a8"
             ],
             [
              0.3333333333333333,
              "#9c179e"
             ],
             [
              0.4444444444444444,
              "#bd3786"
             ],
             [
              0.5555555555555556,
              "#d8576b"
             ],
             [
              0.6666666666666666,
              "#ed7953"
             ],
             [
              0.7777777777777778,
              "#fb9f3a"
             ],
             [
              0.8888888888888888,
              "#fdca26"
             ],
             [
              1,
              "#f0f921"
             ]
            ],
            "type": "contour"
           }
          ],
          "contourcarpet": [
           {
            "colorbar": {
             "outlinewidth": 0,
             "ticks": ""
            },
            "type": "contourcarpet"
           }
          ],
          "heatmap": [
           {
            "colorbar": {
             "outlinewidth": 0,
             "ticks": ""
            },
            "colorscale": [
             [
              0,
              "#0d0887"
             ],
             [
              0.1111111111111111,
              "#46039f"
             ],
             [
              0.2222222222222222,
              "#7201a8"
             ],
             [
              0.3333333333333333,
              "#9c179e"
             ],
             [
              0.4444444444444444,
              "#bd3786"
             ],
             [
              0.5555555555555556,
              "#d8576b"
             ],
             [
              0.6666666666666666,
              "#ed7953"
             ],
             [
              0.7777777777777778,
              "#fb9f3a"
             ],
             [
              0.8888888888888888,
              "#fdca26"
             ],
             [
              1,
              "#f0f921"
             ]
            ],
            "type": "heatmap"
           }
          ],
          "histogram": [
           {
            "marker": {
             "pattern": {
              "fillmode": "overlay",
              "size": 10,
              "solidity": 0.2
             }
            },
            "type": "histogram"
           }
          ],
          "histogram2d": [
           {
            "colorbar": {
             "outlinewidth": 0,
             "ticks": ""
            },
            "colorscale": [
             [
              0,
              "#0d0887"
             ],
             [
              0.1111111111111111,
              "#46039f"
             ],
             [
              0.2222222222222222,
              "#7201a8"
             ],
             [
              0.3333333333333333,
              "#9c179e"
             ],
             [
              0.4444444444444444,
              "#bd3786"
             ],
             [
              0.5555555555555556,
              "#d8576b"
             ],
             [
              0.6666666666666666,
              "#ed7953"
             ],
             [
              0.7777777777777778,
              "#fb9f3a"
             ],
             [
              0.8888888888888888,
              "#fdca26"
             ],
             [
              1,
              "#f0f921"
             ]
            ],
            "type": "histogram2d"
           }
          ],
          "histogram2dcontour": [
           {
            "colorbar": {
             "outlinewidth": 0,
             "ticks": ""
            },
            "colorscale": [
             [
              0,
              "#0d0887"
             ],
             [
              0.1111111111111111,
              "#46039f"
             ],
             [
              0.2222222222222222,
              "#7201a8"
             ],
             [
              0.3333333333333333,
              "#9c179e"
             ],
             [
              0.4444444444444444,
              "#bd3786"
             ],
             [
              0.5555555555555556,
              "#d8576b"
             ],
             [
              0.6666666666666666,
              "#ed7953"
             ],
             [
              0.7777777777777778,
              "#fb9f3a"
             ],
             [
              0.8888888888888888,
              "#fdca26"
             ],
             [
              1,
              "#f0f921"
             ]
            ],
            "type": "histogram2dcontour"
           }
          ],
          "mesh3d": [
           {
            "colorbar": {
             "outlinewidth": 0,
             "ticks": ""
            },
            "type": "mesh3d"
           }
          ],
          "parcoords": [
           {
            "line": {
             "colorbar": {
              "outlinewidth": 0,
              "ticks": ""
             }
            },
            "type": "parcoords"
           }
          ],
          "pie": [
           {
            "automargin": true,
            "type": "pie"
           }
          ],
          "scatter": [
           {
            "fillpattern": {
             "fillmode": "overlay",
             "size": 10,
             "solidity": 0.2
            },
            "type": "scatter"
           }
          ],
          "scatter3d": [
           {
            "line": {
             "colorbar": {
              "outlinewidth": 0,
              "ticks": ""
             }
            },
            "marker": {
             "colorbar": {
              "outlinewidth": 0,
              "ticks": ""
             }
            },
            "type": "scatter3d"
           }
          ],
          "scattercarpet": [
           {
            "marker": {
             "colorbar": {
              "outlinewidth": 0,
              "ticks": ""
             }
            },
            "type": "scattercarpet"
           }
          ],
          "scattergeo": [
           {
            "marker": {
             "colorbar": {
              "outlinewidth": 0,
              "ticks": ""
             }
            },
            "type": "scattergeo"
           }
          ],
          "scattergl": [
           {
            "marker": {
             "colorbar": {
              "outlinewidth": 0,
              "ticks": ""
             }
            },
            "type": "scattergl"
           }
          ],
          "scattermap": [
           {
            "marker": {
             "colorbar": {
              "outlinewidth": 0,
              "ticks": ""
             }
            },
            "type": "scattermap"
           }
          ],
          "scattermapbox": [
           {
            "marker": {
             "colorbar": {
              "outlinewidth": 0,
              "ticks": ""
             }
            },
            "type": "scattermapbox"
           }
          ],
          "scatterpolar": [
           {
            "marker": {
             "colorbar": {
              "outlinewidth": 0,
              "ticks": ""
             }
            },
            "type": "scatterpolar"
           }
          ],
          "scatterpolargl": [
           {
            "marker": {
             "colorbar": {
              "outlinewidth": 0,
              "ticks": ""
             }
            },
            "type": "scatterpolargl"
           }
          ],
          "scatterternary": [
           {
            "marker": {
             "colorbar": {
              "outlinewidth": 0,
              "ticks": ""
             }
            },
            "type": "scatterternary"
           }
          ],
          "surface": [
           {
            "colorbar": {
             "outlinewidth": 0,
             "ticks": ""
            },
            "colorscale": [
             [
              0,
              "#0d0887"
             ],
             [
              0.1111111111111111,
              "#46039f"
             ],
             [
              0.2222222222222222,
              "#7201a8"
             ],
             [
              0.3333333333333333,
              "#9c179e"
             ],
             [
              0.4444444444444444,
              "#bd3786"
             ],
             [
              0.5555555555555556,
              "#d8576b"
             ],
             [
              0.6666666666666666,
              "#ed7953"
             ],
             [
              0.7777777777777778,
              "#fb9f3a"
             ],
             [
              0.8888888888888888,
              "#fdca26"
             ],
             [
              1,
              "#f0f921"
             ]
            ],
            "type": "surface"
           }
          ],
          "table": [
           {
            "cells": {
             "fill": {
              "color": "#EBF0F8"
             },
             "line": {
              "color": "white"
             }
            },
            "header": {
             "fill": {
              "color": "#C8D4E3"
             },
             "line": {
              "color": "white"
             }
            },
            "type": "table"
           }
          ]
         },
         "layout": {
          "annotationdefaults": {
           "arrowcolor": "#2a3f5f",
           "arrowhead": 0,
           "arrowwidth": 1
          },
          "autotypenumbers": "strict",
          "coloraxis": {
           "colorbar": {
            "outlinewidth": 0,
            "ticks": ""
           }
          },
          "colorscale": {
           "diverging": [
            [
             0,
             "#8e0152"
            ],
            [
             0.1,
             "#c51b7d"
            ],
            [
             0.2,
             "#de77ae"
            ],
            [
             0.3,
             "#f1b6da"
            ],
            [
             0.4,
             "#fde0ef"
            ],
            [
             0.5,
             "#f7f7f7"
            ],
            [
             0.6,
             "#e6f5d0"
            ],
            [
             0.7,
             "#b8e186"
            ],
            [
             0.8,
             "#7fbc41"
            ],
            [
             0.9,
             "#4d9221"
            ],
            [
             1,
             "#276419"
            ]
           ],
           "sequential": [
            [
             0,
             "#0d0887"
            ],
            [
             0.1111111111111111,
             "#46039f"
            ],
            [
             0.2222222222222222,
             "#7201a8"
            ],
            [
             0.3333333333333333,
             "#9c179e"
            ],
            [
             0.4444444444444444,
             "#bd3786"
            ],
            [
             0.5555555555555556,
             "#d8576b"
            ],
            [
             0.6666666666666666,
             "#ed7953"
            ],
            [
             0.7777777777777778,
             "#fb9f3a"
            ],
            [
             0.8888888888888888,
             "#fdca26"
            ],
            [
             1,
             "#f0f921"
            ]
           ],
           "sequentialminus": [
            [
             0,
             "#0d0887"
            ],
            [
             0.1111111111111111,
             "#46039f"
            ],
            [
             0.2222222222222222,
             "#7201a8"
            ],
            [
             0.3333333333333333,
             "#9c179e"
            ],
            [
             0.4444444444444444,
             "#bd3786"
            ],
            [
             0.5555555555555556,
             "#d8576b"
            ],
            [
             0.6666666666666666,
             "#ed7953"
            ],
            [
             0.7777777777777778,
             "#fb9f3a"
            ],
            [
             0.8888888888888888,
             "#fdca26"
            ],
            [
             1,
             "#f0f921"
            ]
           ]
          },
          "colorway": [
           "#636efa",
           "#EF553B",
           "#00cc96",
           "#ab63fa",
           "#FFA15A",
           "#19d3f3",
           "#FF6692",
           "#B6E880",
           "#FF97FF",
           "#FECB52"
          ],
          "font": {
           "color": "#2a3f5f"
          },
          "geo": {
           "bgcolor": "white",
           "lakecolor": "white",
           "landcolor": "#E5ECF6",
           "showlakes": true,
           "showland": true,
           "subunitcolor": "white"
          },
          "hoverlabel": {
           "align": "left"
          },
          "hovermode": "closest",
          "mapbox": {
           "style": "light"
          },
          "paper_bgcolor": "white",
          "plot_bgcolor": "#E5ECF6",
          "polar": {
           "angularaxis": {
            "gridcolor": "white",
            "linecolor": "white",
            "ticks": ""
           },
           "bgcolor": "#E5ECF6",
           "radialaxis": {
            "gridcolor": "white",
            "linecolor": "white",
            "ticks": ""
           }
          },
          "scene": {
           "xaxis": {
            "backgroundcolor": "#E5ECF6",
            "gridcolor": "white",
            "gridwidth": 2,
            "linecolor": "white",
            "showbackground": true,
            "ticks": "",
            "zerolinecolor": "white"
           },
           "yaxis": {
            "backgroundcolor": "#E5ECF6",
            "gridcolor": "white",
            "gridwidth": 2,
            "linecolor": "white",
            "showbackground": true,
            "ticks": "",
            "zerolinecolor": "white"
           },
           "zaxis": {
            "backgroundcolor": "#E5ECF6",
            "gridcolor": "white",
            "gridwidth": 2,
            "linecolor": "white",
            "showbackground": true,
            "ticks": "",
            "zerolinecolor": "white"
           }
          },
          "shapedefaults": {
           "line": {
            "color": "#2a3f5f"
           }
          },
          "ternary": {
           "aaxis": {
            "gridcolor": "white",
            "linecolor": "white",
            "ticks": ""
           },
           "baxis": {
            "gridcolor": "white",
            "linecolor": "white",
            "ticks": ""
           },
           "bgcolor": "#E5ECF6",
           "caxis": {
            "gridcolor": "white",
            "linecolor": "white",
            "ticks": ""
           }
          },
          "title": {
           "x": 0.05
          },
          "xaxis": {
           "automargin": true,
           "gridcolor": "white",
           "linecolor": "white",
           "ticks": "",
           "title": {
            "standoff": 15
           },
           "zerolinecolor": "white",
           "zerolinewidth": 2
          },
          "yaxis": {
           "automargin": true,
           "gridcolor": "white",
           "linecolor": "white",
           "ticks": "",
           "title": {
            "standoff": 15
           },
           "zerolinecolor": "white",
           "zerolinewidth": 2
          }
         }
        },
        "title": {
         "text": "Mean Temperature Over Time"
        },
        "xaxis": {
         "anchor": "y",
         "domain": [
          0,
          1
         ],
         "title": {
          "text": "date"
         }
        },
        "yaxis": {
         "anchor": "x",
         "domain": [
          0,
          1
         ],
         "title": {
          "text": "meantemp"
         }
        }
       }
      }
     },
     "metadata": {},
     "output_type": "display_data"
    }
   ],
   "source": [
    "fig = px.line(df, x='date', y='meantemp', title='Mean Temperature Over Time')\n",
    "fig.show()"
   ]
  },
  {
   "cell_type": "code",
   "execution_count": 11,
   "id": "ccfe8902",
   "metadata": {},
   "outputs": [
    {
     "data": {
      "application/vnd.plotly.v1+json": {
       "config": {
        "plotlyServerURL": "https://plot.ly"
       },
       "data": [
        {
         "hovertemplate": "date=%{x}<br>humidity=%{y}<extra></extra>",
         "legendgroup": "",
         "line": {
          "color": "#636efa",
          "dash": "solid"
         },
         "marker": {
          "symbol": "circle"
         },
         "mode": "lines",
         "name": "",
         "orientation": "v",
         "showlegend": false,
         "type": "scatter",
         "x": [
          "2017-01-01",
          "2017-01-02",
          "2017-01-03",
          "2017-01-04",
          "2017-01-05",
          "2017-01-06",
          "2017-01-07",
          "2017-01-08",
          "2017-01-09",
          "2017-01-10",
          "2017-01-11",
          "2017-01-12",
          "2017-01-13",
          "2017-01-14",
          "2017-01-15",
          "2017-01-16",
          "2017-01-17",
          "2017-01-18",
          "2017-01-19",
          "2017-01-20",
          "2017-01-21",
          "2017-01-22",
          "2017-01-23",
          "2017-01-24",
          "2017-01-25",
          "2017-01-26",
          "2017-01-27",
          "2017-01-28",
          "2017-01-29",
          "2017-01-30",
          "2017-01-31",
          "2017-02-01",
          "2017-02-02",
          "2017-02-03",
          "2017-02-04",
          "2017-02-05",
          "2017-02-06",
          "2017-02-07",
          "2017-02-08",
          "2017-02-09",
          "2017-02-10",
          "2017-02-11",
          "2017-02-12",
          "2017-02-13",
          "2017-02-14",
          "2017-02-15",
          "2017-02-16",
          "2017-02-17",
          "2017-02-18",
          "2017-02-19",
          "2017-02-20",
          "2017-02-21",
          "2017-02-22",
          "2017-02-23",
          "2017-02-24",
          "2017-02-25",
          "2017-02-26",
          "2017-02-27",
          "2017-02-28",
          "2017-03-01",
          "2017-03-02",
          "2017-03-03",
          "2017-03-04",
          "2017-03-05",
          "2017-03-06",
          "2017-03-07",
          "2017-03-08",
          "2017-03-09",
          "2017-03-10",
          "2017-03-11",
          "2017-03-12",
          "2017-03-13",
          "2017-03-14",
          "2017-03-15",
          "2017-03-16",
          "2017-03-17",
          "2017-03-18",
          "2017-03-19",
          "2017-03-20",
          "2017-03-21",
          "2017-03-22",
          "2017-03-23",
          "2017-03-24",
          "2017-03-25",
          "2017-03-26",
          "2017-03-27",
          "2017-03-28",
          "2017-03-29",
          "2017-03-30",
          "2017-03-31",
          "2017-04-01",
          "2017-04-02",
          "2017-04-03",
          "2017-04-04",
          "2017-04-05",
          "2017-04-06",
          "2017-04-07",
          "2017-04-08",
          "2017-04-09",
          "2017-04-10",
          "2017-04-11",
          "2017-04-12",
          "2017-04-13",
          "2017-04-14",
          "2017-04-15",
          "2017-04-16",
          "2017-04-17",
          "2017-04-18",
          "2017-04-19",
          "2017-04-20",
          "2017-04-21",
          "2017-04-22",
          "2017-04-23",
          "2017-04-24"
         ],
         "xaxis": "x",
         "y": {
          "bdata": "05ve9KZ3VUDkOI7jOE5TQI7jOI7jeFRAMzMzMzODUUDHcRzHcbxSQHTRRRdd1FNAVFVVVVX1V0Abymsor+FUQD3P8zzPM1RAx3Ecx3H8UUByHMdxHAdSQFFeQ3kNpVJAxMPDw8PDUEBSuB6F65FSQBaykIUsJFJAzczMzMycU0DHcRzHcRxVQFVVVVVVlVNAkiRJkiTJUkDlNZTXUJ5QQNOb3vSmt1FAj8L1KFwPU0AAAAAAAABTQC1kIQtZCFFAPQrXo3B9UUCSJEmSJOlWQKuqqqqqQlNA0UUXXXSxVEAcx3Ecx3FUQDmO4ziOY1NAAAAAAAAAU0AAAAAAAKhTQKOLLrroolBAjC666KKLU0BmZmZmZmZTQIfyGspraFNAq6qqqqpqUUAAAAAAAOBPQJqZmZmZGVFAAAAAAAAYUUAcx3Ecx/FRQAAAAAAAAFBAAAAAAACYUUAAAAAAAMBQQAAAAAAAYFBA27Zt27btUEAAAAAAAGBMQJqZmZmZGVBAAAAAAACwUUBGF1100YVQQAAAAAAAEE5Aq6qqqqpaUUAAAAAAAJBMQAAAAAAAcEVAAAAAAAAwREBu27Zt2zZJQAAAAAAAgE1AAAAAAAAwTUBUVVVVVdVJQGIndmIn9kdAAAAAAAAgS0AAAAAAAEBFQAAAAAAAkEVAAAAAAACgRECO4ziO4zhFQAAAAAAAwERAXXTRRRddSkBJkiRJkkRRQAAAAAAA8FBAMzMzMzMzTkAAAAAAAFBMQKuqqqqqqkhAq6qqqqoqTEAAAAAAAGBLQJqZmZmZmUhAmpmZmZnZTUB2Yid2YidHQDmO4ziOI0pAVFVVVVVVS0AAAAAAAIBIQAAAAAAAgEZAAAAAAADgSEBUVVVVVdVCQAAAAAAAsENAzczMzMyMQkAAAAAAAFBDQFRVVVVVVURAAAAAAABAQUDatm3btm1CQAAAAAAA0EJAAAAAAACQQUAAAAAAAOBAQAAAAAAAwD1A3t3d3d3dP0AAAAAAAABHQAAAAAAAADpAAAAAAADgPUAAAAAAAGA9QAAAAAAAIDVA27Zt27ZtM0AAAAAAAMAxQAAAAAAAADpAx3Ecx3EcPUAAAAAAANBCQBzHcRzHcT5AAAAAAAAgQUCO4ziO4zhDQFRVVVVVVTtAAAAAAAAgOEAAAAAAAIA7QAAAAAAAsENAMzMzMzNzREAAAAAAAIA7QEmSJEmSJDtA",
          "dtype": "f8"
         },
         "yaxis": "y"
        }
       ],
       "layout": {
        "legend": {
         "tracegroupgap": 0
        },
        "template": {
         "data": {
          "bar": [
           {
            "error_x": {
             "color": "#2a3f5f"
            },
            "error_y": {
             "color": "#2a3f5f"
            },
            "marker": {
             "line": {
              "color": "#E5ECF6",
              "width": 0.5
             },
             "pattern": {
              "fillmode": "overlay",
              "size": 10,
              "solidity": 0.2
             }
            },
            "type": "bar"
           }
          ],
          "barpolar": [
           {
            "marker": {
             "line": {
              "color": "#E5ECF6",
              "width": 0.5
             },
             "pattern": {
              "fillmode": "overlay",
              "size": 10,
              "solidity": 0.2
             }
            },
            "type": "barpolar"
           }
          ],
          "carpet": [
           {
            "aaxis": {
             "endlinecolor": "#2a3f5f",
             "gridcolor": "white",
             "linecolor": "white",
             "minorgridcolor": "white",
             "startlinecolor": "#2a3f5f"
            },
            "baxis": {
             "endlinecolor": "#2a3f5f",
             "gridcolor": "white",
             "linecolor": "white",
             "minorgridcolor": "white",
             "startlinecolor": "#2a3f5f"
            },
            "type": "carpet"
           }
          ],
          "choropleth": [
           {
            "colorbar": {
             "outlinewidth": 0,
             "ticks": ""
            },
            "type": "choropleth"
           }
          ],
          "contour": [
           {
            "colorbar": {
             "outlinewidth": 0,
             "ticks": ""
            },
            "colorscale": [
             [
              0,
              "#0d0887"
             ],
             [
              0.1111111111111111,
              "#46039f"
             ],
             [
              0.2222222222222222,
              "#7201a8"
             ],
             [
              0.3333333333333333,
              "#9c179e"
             ],
             [
              0.4444444444444444,
              "#bd3786"
             ],
             [
              0.5555555555555556,
              "#d8576b"
             ],
             [
              0.6666666666666666,
              "#ed7953"
             ],
             [
              0.7777777777777778,
              "#fb9f3a"
             ],
             [
              0.8888888888888888,
              "#fdca26"
             ],
             [
              1,
              "#f0f921"
             ]
            ],
            "type": "contour"
           }
          ],
          "contourcarpet": [
           {
            "colorbar": {
             "outlinewidth": 0,
             "ticks": ""
            },
            "type": "contourcarpet"
           }
          ],
          "heatmap": [
           {
            "colorbar": {
             "outlinewidth": 0,
             "ticks": ""
            },
            "colorscale": [
             [
              0,
              "#0d0887"
             ],
             [
              0.1111111111111111,
              "#46039f"
             ],
             [
              0.2222222222222222,
              "#7201a8"
             ],
             [
              0.3333333333333333,
              "#9c179e"
             ],
             [
              0.4444444444444444,
              "#bd3786"
             ],
             [
              0.5555555555555556,
              "#d8576b"
             ],
             [
              0.6666666666666666,
              "#ed7953"
             ],
             [
              0.7777777777777778,
              "#fb9f3a"
             ],
             [
              0.8888888888888888,
              "#fdca26"
             ],
             [
              1,
              "#f0f921"
             ]
            ],
            "type": "heatmap"
           }
          ],
          "histogram": [
           {
            "marker": {
             "pattern": {
              "fillmode": "overlay",
              "size": 10,
              "solidity": 0.2
             }
            },
            "type": "histogram"
           }
          ],
          "histogram2d": [
           {
            "colorbar": {
             "outlinewidth": 0,
             "ticks": ""
            },
            "colorscale": [
             [
              0,
              "#0d0887"
             ],
             [
              0.1111111111111111,
              "#46039f"
             ],
             [
              0.2222222222222222,
              "#7201a8"
             ],
             [
              0.3333333333333333,
              "#9c179e"
             ],
             [
              0.4444444444444444,
              "#bd3786"
             ],
             [
              0.5555555555555556,
              "#d8576b"
             ],
             [
              0.6666666666666666,
              "#ed7953"
             ],
             [
              0.7777777777777778,
              "#fb9f3a"
             ],
             [
              0.8888888888888888,
              "#fdca26"
             ],
             [
              1,
              "#f0f921"
             ]
            ],
            "type": "histogram2d"
           }
          ],
          "histogram2dcontour": [
           {
            "colorbar": {
             "outlinewidth": 0,
             "ticks": ""
            },
            "colorscale": [
             [
              0,
              "#0d0887"
             ],
             [
              0.1111111111111111,
              "#46039f"
             ],
             [
              0.2222222222222222,
              "#7201a8"
             ],
             [
              0.3333333333333333,
              "#9c179e"
             ],
             [
              0.4444444444444444,
              "#bd3786"
             ],
             [
              0.5555555555555556,
              "#d8576b"
             ],
             [
              0.6666666666666666,
              "#ed7953"
             ],
             [
              0.7777777777777778,
              "#fb9f3a"
             ],
             [
              0.8888888888888888,
              "#fdca26"
             ],
             [
              1,
              "#f0f921"
             ]
            ],
            "type": "histogram2dcontour"
           }
          ],
          "mesh3d": [
           {
            "colorbar": {
             "outlinewidth": 0,
             "ticks": ""
            },
            "type": "mesh3d"
           }
          ],
          "parcoords": [
           {
            "line": {
             "colorbar": {
              "outlinewidth": 0,
              "ticks": ""
             }
            },
            "type": "parcoords"
           }
          ],
          "pie": [
           {
            "automargin": true,
            "type": "pie"
           }
          ],
          "scatter": [
           {
            "fillpattern": {
             "fillmode": "overlay",
             "size": 10,
             "solidity": 0.2
            },
            "type": "scatter"
           }
          ],
          "scatter3d": [
           {
            "line": {
             "colorbar": {
              "outlinewidth": 0,
              "ticks": ""
             }
            },
            "marker": {
             "colorbar": {
              "outlinewidth": 0,
              "ticks": ""
             }
            },
            "type": "scatter3d"
           }
          ],
          "scattercarpet": [
           {
            "marker": {
             "colorbar": {
              "outlinewidth": 0,
              "ticks": ""
             }
            },
            "type": "scattercarpet"
           }
          ],
          "scattergeo": [
           {
            "marker": {
             "colorbar": {
              "outlinewidth": 0,
              "ticks": ""
             }
            },
            "type": "scattergeo"
           }
          ],
          "scattergl": [
           {
            "marker": {
             "colorbar": {
              "outlinewidth": 0,
              "ticks": ""
             }
            },
            "type": "scattergl"
           }
          ],
          "scattermap": [
           {
            "marker": {
             "colorbar": {
              "outlinewidth": 0,
              "ticks": ""
             }
            },
            "type": "scattermap"
           }
          ],
          "scattermapbox": [
           {
            "marker": {
             "colorbar": {
              "outlinewidth": 0,
              "ticks": ""
             }
            },
            "type": "scattermapbox"
           }
          ],
          "scatterpolar": [
           {
            "marker": {
             "colorbar": {
              "outlinewidth": 0,
              "ticks": ""
             }
            },
            "type": "scatterpolar"
           }
          ],
          "scatterpolargl": [
           {
            "marker": {
             "colorbar": {
              "outlinewidth": 0,
              "ticks": ""
             }
            },
            "type": "scatterpolargl"
           }
          ],
          "scatterternary": [
           {
            "marker": {
             "colorbar": {
              "outlinewidth": 0,
              "ticks": ""
             }
            },
            "type": "scatterternary"
           }
          ],
          "surface": [
           {
            "colorbar": {
             "outlinewidth": 0,
             "ticks": ""
            },
            "colorscale": [
             [
              0,
              "#0d0887"
             ],
             [
              0.1111111111111111,
              "#46039f"
             ],
             [
              0.2222222222222222,
              "#7201a8"
             ],
             [
              0.3333333333333333,
              "#9c179e"
             ],
             [
              0.4444444444444444,
              "#bd3786"
             ],
             [
              0.5555555555555556,
              "#d8576b"
             ],
             [
              0.6666666666666666,
              "#ed7953"
             ],
             [
              0.7777777777777778,
              "#fb9f3a"
             ],
             [
              0.8888888888888888,
              "#fdca26"
             ],
             [
              1,
              "#f0f921"
             ]
            ],
            "type": "surface"
           }
          ],
          "table": [
           {
            "cells": {
             "fill": {
              "color": "#EBF0F8"
             },
             "line": {
              "color": "white"
             }
            },
            "header": {
             "fill": {
              "color": "#C8D4E3"
             },
             "line": {
              "color": "white"
             }
            },
            "type": "table"
           }
          ]
         },
         "layout": {
          "annotationdefaults": {
           "arrowcolor": "#2a3f5f",
           "arrowhead": 0,
           "arrowwidth": 1
          },
          "autotypenumbers": "strict",
          "coloraxis": {
           "colorbar": {
            "outlinewidth": 0,
            "ticks": ""
           }
          },
          "colorscale": {
           "diverging": [
            [
             0,
             "#8e0152"
            ],
            [
             0.1,
             "#c51b7d"
            ],
            [
             0.2,
             "#de77ae"
            ],
            [
             0.3,
             "#f1b6da"
            ],
            [
             0.4,
             "#fde0ef"
            ],
            [
             0.5,
             "#f7f7f7"
            ],
            [
             0.6,
             "#e6f5d0"
            ],
            [
             0.7,
             "#b8e186"
            ],
            [
             0.8,
             "#7fbc41"
            ],
            [
             0.9,
             "#4d9221"
            ],
            [
             1,
             "#276419"
            ]
           ],
           "sequential": [
            [
             0,
             "#0d0887"
            ],
            [
             0.1111111111111111,
             "#46039f"
            ],
            [
             0.2222222222222222,
             "#7201a8"
            ],
            [
             0.3333333333333333,
             "#9c179e"
            ],
            [
             0.4444444444444444,
             "#bd3786"
            ],
            [
             0.5555555555555556,
             "#d8576b"
            ],
            [
             0.6666666666666666,
             "#ed7953"
            ],
            [
             0.7777777777777778,
             "#fb9f3a"
            ],
            [
             0.8888888888888888,
             "#fdca26"
            ],
            [
             1,
             "#f0f921"
            ]
           ],
           "sequentialminus": [
            [
             0,
             "#0d0887"
            ],
            [
             0.1111111111111111,
             "#46039f"
            ],
            [
             0.2222222222222222,
             "#7201a8"
            ],
            [
             0.3333333333333333,
             "#9c179e"
            ],
            [
             0.4444444444444444,
             "#bd3786"
            ],
            [
             0.5555555555555556,
             "#d8576b"
            ],
            [
             0.6666666666666666,
             "#ed7953"
            ],
            [
             0.7777777777777778,
             "#fb9f3a"
            ],
            [
             0.8888888888888888,
             "#fdca26"
            ],
            [
             1,
             "#f0f921"
            ]
           ]
          },
          "colorway": [
           "#636efa",
           "#EF553B",
           "#00cc96",
           "#ab63fa",
           "#FFA15A",
           "#19d3f3",
           "#FF6692",
           "#B6E880",
           "#FF97FF",
           "#FECB52"
          ],
          "font": {
           "color": "#2a3f5f"
          },
          "geo": {
           "bgcolor": "white",
           "lakecolor": "white",
           "landcolor": "#E5ECF6",
           "showlakes": true,
           "showland": true,
           "subunitcolor": "white"
          },
          "hoverlabel": {
           "align": "left"
          },
          "hovermode": "closest",
          "mapbox": {
           "style": "light"
          },
          "paper_bgcolor": "white",
          "plot_bgcolor": "#E5ECF6",
          "polar": {
           "angularaxis": {
            "gridcolor": "white",
            "linecolor": "white",
            "ticks": ""
           },
           "bgcolor": "#E5ECF6",
           "radialaxis": {
            "gridcolor": "white",
            "linecolor": "white",
            "ticks": ""
           }
          },
          "scene": {
           "xaxis": {
            "backgroundcolor": "#E5ECF6",
            "gridcolor": "white",
            "gridwidth": 2,
            "linecolor": "white",
            "showbackground": true,
            "ticks": "",
            "zerolinecolor": "white"
           },
           "yaxis": {
            "backgroundcolor": "#E5ECF6",
            "gridcolor": "white",
            "gridwidth": 2,
            "linecolor": "white",
            "showbackground": true,
            "ticks": "",
            "zerolinecolor": "white"
           },
           "zaxis": {
            "backgroundcolor": "#E5ECF6",
            "gridcolor": "white",
            "gridwidth": 2,
            "linecolor": "white",
            "showbackground": true,
            "ticks": "",
            "zerolinecolor": "white"
           }
          },
          "shapedefaults": {
           "line": {
            "color": "#2a3f5f"
           }
          },
          "ternary": {
           "aaxis": {
            "gridcolor": "white",
            "linecolor": "white",
            "ticks": ""
           },
           "baxis": {
            "gridcolor": "white",
            "linecolor": "white",
            "ticks": ""
           },
           "bgcolor": "#E5ECF6",
           "caxis": {
            "gridcolor": "white",
            "linecolor": "white",
            "ticks": ""
           }
          },
          "title": {
           "x": 0.05
          },
          "xaxis": {
           "automargin": true,
           "gridcolor": "white",
           "linecolor": "white",
           "ticks": "",
           "title": {
            "standoff": 15
           },
           "zerolinecolor": "white",
           "zerolinewidth": 2
          },
          "yaxis": {
           "automargin": true,
           "gridcolor": "white",
           "linecolor": "white",
           "ticks": "",
           "title": {
            "standoff": 15
           },
           "zerolinecolor": "white",
           "zerolinewidth": 2
          }
         }
        },
        "title": {
         "text": "Humidity in Delhi Over Time"
        },
        "xaxis": {
         "anchor": "y",
         "domain": [
          0,
          1
         ],
         "title": {
          "text": "date"
         }
        },
        "yaxis": {
         "anchor": "x",
         "domain": [
          0,
          1
         ],
         "title": {
          "text": "humidity"
         }
        }
       }
      }
     },
     "metadata": {},
     "output_type": "display_data"
    }
   ],
   "source": [
    "fig = px.line(df,x= \"date\", y=\"humidity\", title=\"Humidity in Delhi Over Time\")\n",
    "fig.show()"
   ]
  },
  {
   "cell_type": "code",
   "execution_count": 13,
   "id": "7d1ef52b",
   "metadata": {},
   "outputs": [
    {
     "data": {
      "application/vnd.plotly.v1+json": {
       "config": {
        "plotlyServerURL": "https://plot.ly"
       },
       "data": [
        {
         "hovertemplate": "date=%{x}<br>wind_speed=%{y}<extra></extra>",
         "legendgroup": "",
         "line": {
          "color": "#636efa",
          "dash": "solid"
         },
         "marker": {
          "symbol": "circle"
         },
         "mode": "lines",
         "name": "",
         "orientation": "v",
         "showlegend": false,
         "type": "scatter",
         "x": [
          "2017-01-01",
          "2017-01-02",
          "2017-01-03",
          "2017-01-04",
          "2017-01-05",
          "2017-01-06",
          "2017-01-07",
          "2017-01-08",
          "2017-01-09",
          "2017-01-10",
          "2017-01-11",
          "2017-01-12",
          "2017-01-13",
          "2017-01-14",
          "2017-01-15",
          "2017-01-16",
          "2017-01-17",
          "2017-01-18",
          "2017-01-19",
          "2017-01-20",
          "2017-01-21",
          "2017-01-22",
          "2017-01-23",
          "2017-01-24",
          "2017-01-25",
          "2017-01-26",
          "2017-01-27",
          "2017-01-28",
          "2017-01-29",
          "2017-01-30",
          "2017-01-31",
          "2017-02-01",
          "2017-02-02",
          "2017-02-03",
          "2017-02-04",
          "2017-02-05",
          "2017-02-06",
          "2017-02-07",
          "2017-02-08",
          "2017-02-09",
          "2017-02-10",
          "2017-02-11",
          "2017-02-12",
          "2017-02-13",
          "2017-02-14",
          "2017-02-15",
          "2017-02-16",
          "2017-02-17",
          "2017-02-18",
          "2017-02-19",
          "2017-02-20",
          "2017-02-21",
          "2017-02-22",
          "2017-02-23",
          "2017-02-24",
          "2017-02-25",
          "2017-02-26",
          "2017-02-27",
          "2017-02-28",
          "2017-03-01",
          "2017-03-02",
          "2017-03-03",
          "2017-03-04",
          "2017-03-05",
          "2017-03-06",
          "2017-03-07",
          "2017-03-08",
          "2017-03-09",
          "2017-03-10",
          "2017-03-11",
          "2017-03-12",
          "2017-03-13",
          "2017-03-14",
          "2017-03-15",
          "2017-03-16",
          "2017-03-17",
          "2017-03-18",
          "2017-03-19",
          "2017-03-20",
          "2017-03-21",
          "2017-03-22",
          "2017-03-23",
          "2017-03-24",
          "2017-03-25",
          "2017-03-26",
          "2017-03-27",
          "2017-03-28",
          "2017-03-29",
          "2017-03-30",
          "2017-03-31",
          "2017-04-01",
          "2017-04-02",
          "2017-04-03",
          "2017-04-04",
          "2017-04-05",
          "2017-04-06",
          "2017-04-07",
          "2017-04-08",
          "2017-04-09",
          "2017-04-10",
          "2017-04-11",
          "2017-04-12",
          "2017-04-13",
          "2017-04-14",
          "2017-04-15",
          "2017-04-16",
          "2017-04-17",
          "2017-04-18",
          "2017-04-19",
          "2017-04-20",
          "2017-04-21",
          "2017-04-22",
          "2017-04-23",
          "2017-04-24"
         ],
         "xaxis": "x",
         "y": {
          "bdata": "H8b9uqTyBUB90id90icHQBERERERERBArkfhehQuEkBnZmZmZmYKQF100UUXXSFAVFVVVVUVJEAzMzMzMzP/P73iK77iKxpAjOM4juO4IkC1YAu2YIsjQBUII+1YgRpAvr29vb29GUC0yHa+nxoVQJGFLGQhCw1Aw/UoXI/CJEA+6ZM+6RMgQNvd3d3dHRhA0xqt0RqtJEA+t8Sp33MmQBeykIUsZCtARbbz/dR4F0ADAwMDAwMbQLGQhSxkIQtAT42XbhKDIUD5iq/4iu8gQHd3d3d3tyxAYu0b1r5hI0BswRZswZYkQJ/0SZ/0SRFAAAAAAACAEkBnZmZmZmYUQDesfcPaNwhArH3D2jes/T+kcD0K16MjQDIzMzMzMyBAbMEWbMEWIkDOzMzMzIweQFK4HoXrURBAAgAAAACAH0AiIiIiIiIiQJqZmZmZmQ9AAAAAAAAA+j8u2IIt2IIZQJqZmZmZ2RtAqIM6qIM6FkAAAAAAAOAkQI7C9ShcjyJAAAAAAAAAGUA5rH3D2jcYQP//////vxtA8O7u7u6uKEBmZmZmZqYdQDMzMzMzsyxAmpmZmZmpMEC3bdu2bdsnQJqZmZmZOSZAZ2ZmZmZmFECh9Emf9EkPQJdaqZVaqRlAuR6F61G4F0BmZmZmZqYdQDQzMzMzsyBAzczMzMzsI0BUVVVVVVUjQJqZmZmZGRhAh7VvWPuGJED5iq/4iq8gQM3MzMzM7CZAREREREREFkDMzMzMzIweQMZxHMdxHCJAbMEWbMEWEkA0MzMzM7McQD4K16NwPRZAehSuR+H6JkDiB37gB34cQCh90id9UiJAfdInfdInJEBmZmZmZoYiQAEAAAAAYCRAZ2ZmZmbmC0ATEREREREkQJqZmZmZ2SRA16NwPQqXMUDNzMzMzEwrQAZbsAVbsCFAZmZmZmZmKkC94iu+4islQMzMzMzMzBtAMzMzMzMTIkBmZmZmZoYiQAAAAAAAwBtApHA9CtejLEBR7MRO7MQsQHzSJ33SJytAmpmZmZmZEkDMzMzMzKwgQAAAAAAAQCxACHVQB3VQM0BmZmZmZgYvQJqZmZmZ+SJAchzHcRzHE0A0MzMzMzP2P97d3d3d3RdAzczMzMzMAEB3d3d3d3cVQOmTPumTPh9AzczMzMwMIkAAAAAAAEAWQJqZmZmZ2RtASOF6FK7HIUDNzMzMzOwjQAh1UAd1UChA",
          "dtype": "f8"
         },
         "yaxis": "y"
        }
       ],
       "layout": {
        "legend": {
         "tracegroupgap": 0
        },
        "template": {
         "data": {
          "bar": [
           {
            "error_x": {
             "color": "#2a3f5f"
            },
            "error_y": {
             "color": "#2a3f5f"
            },
            "marker": {
             "line": {
              "color": "#E5ECF6",
              "width": 0.5
             },
             "pattern": {
              "fillmode": "overlay",
              "size": 10,
              "solidity": 0.2
             }
            },
            "type": "bar"
           }
          ],
          "barpolar": [
           {
            "marker": {
             "line": {
              "color": "#E5ECF6",
              "width": 0.5
             },
             "pattern": {
              "fillmode": "overlay",
              "size": 10,
              "solidity": 0.2
             }
            },
            "type": "barpolar"
           }
          ],
          "carpet": [
           {
            "aaxis": {
             "endlinecolor": "#2a3f5f",
             "gridcolor": "white",
             "linecolor": "white",
             "minorgridcolor": "white",
             "startlinecolor": "#2a3f5f"
            },
            "baxis": {
             "endlinecolor": "#2a3f5f",
             "gridcolor": "white",
             "linecolor": "white",
             "minorgridcolor": "white",
             "startlinecolor": "#2a3f5f"
            },
            "type": "carpet"
           }
          ],
          "choropleth": [
           {
            "colorbar": {
             "outlinewidth": 0,
             "ticks": ""
            },
            "type": "choropleth"
           }
          ],
          "contour": [
           {
            "colorbar": {
             "outlinewidth": 0,
             "ticks": ""
            },
            "colorscale": [
             [
              0,
              "#0d0887"
             ],
             [
              0.1111111111111111,
              "#46039f"
             ],
             [
              0.2222222222222222,
              "#7201a8"
             ],
             [
              0.3333333333333333,
              "#9c179e"
             ],
             [
              0.4444444444444444,
              "#bd3786"
             ],
             [
              0.5555555555555556,
              "#d8576b"
             ],
             [
              0.6666666666666666,
              "#ed7953"
             ],
             [
              0.7777777777777778,
              "#fb9f3a"
             ],
             [
              0.8888888888888888,
              "#fdca26"
             ],
             [
              1,
              "#f0f921"
             ]
            ],
            "type": "contour"
           }
          ],
          "contourcarpet": [
           {
            "colorbar": {
             "outlinewidth": 0,
             "ticks": ""
            },
            "type": "contourcarpet"
           }
          ],
          "heatmap": [
           {
            "colorbar": {
             "outlinewidth": 0,
             "ticks": ""
            },
            "colorscale": [
             [
              0,
              "#0d0887"
             ],
             [
              0.1111111111111111,
              "#46039f"
             ],
             [
              0.2222222222222222,
              "#7201a8"
             ],
             [
              0.3333333333333333,
              "#9c179e"
             ],
             [
              0.4444444444444444,
              "#bd3786"
             ],
             [
              0.5555555555555556,
              "#d8576b"
             ],
             [
              0.6666666666666666,
              "#ed7953"
             ],
             [
              0.7777777777777778,
              "#fb9f3a"
             ],
             [
              0.8888888888888888,
              "#fdca26"
             ],
             [
              1,
              "#f0f921"
             ]
            ],
            "type": "heatmap"
           }
          ],
          "histogram": [
           {
            "marker": {
             "pattern": {
              "fillmode": "overlay",
              "size": 10,
              "solidity": 0.2
             }
            },
            "type": "histogram"
           }
          ],
          "histogram2d": [
           {
            "colorbar": {
             "outlinewidth": 0,
             "ticks": ""
            },
            "colorscale": [
             [
              0,
              "#0d0887"
             ],
             [
              0.1111111111111111,
              "#46039f"
             ],
             [
              0.2222222222222222,
              "#7201a8"
             ],
             [
              0.3333333333333333,
              "#9c179e"
             ],
             [
              0.4444444444444444,
              "#bd3786"
             ],
             [
              0.5555555555555556,
              "#d8576b"
             ],
             [
              0.6666666666666666,
              "#ed7953"
             ],
             [
              0.7777777777777778,
              "#fb9f3a"
             ],
             [
              0.8888888888888888,
              "#fdca26"
             ],
             [
              1,
              "#f0f921"
             ]
            ],
            "type": "histogram2d"
           }
          ],
          "histogram2dcontour": [
           {
            "colorbar": {
             "outlinewidth": 0,
             "ticks": ""
            },
            "colorscale": [
             [
              0,
              "#0d0887"
             ],
             [
              0.1111111111111111,
              "#46039f"
             ],
             [
              0.2222222222222222,
              "#7201a8"
             ],
             [
              0.3333333333333333,
              "#9c179e"
             ],
             [
              0.4444444444444444,
              "#bd3786"
             ],
             [
              0.5555555555555556,
              "#d8576b"
             ],
             [
              0.6666666666666666,
              "#ed7953"
             ],
             [
              0.7777777777777778,
              "#fb9f3a"
             ],
             [
              0.8888888888888888,
              "#fdca26"
             ],
             [
              1,
              "#f0f921"
             ]
            ],
            "type": "histogram2dcontour"
           }
          ],
          "mesh3d": [
           {
            "colorbar": {
             "outlinewidth": 0,
             "ticks": ""
            },
            "type": "mesh3d"
           }
          ],
          "parcoords": [
           {
            "line": {
             "colorbar": {
              "outlinewidth": 0,
              "ticks": ""
             }
            },
            "type": "parcoords"
           }
          ],
          "pie": [
           {
            "automargin": true,
            "type": "pie"
           }
          ],
          "scatter": [
           {
            "fillpattern": {
             "fillmode": "overlay",
             "size": 10,
             "solidity": 0.2
            },
            "type": "scatter"
           }
          ],
          "scatter3d": [
           {
            "line": {
             "colorbar": {
              "outlinewidth": 0,
              "ticks": ""
             }
            },
            "marker": {
             "colorbar": {
              "outlinewidth": 0,
              "ticks": ""
             }
            },
            "type": "scatter3d"
           }
          ],
          "scattercarpet": [
           {
            "marker": {
             "colorbar": {
              "outlinewidth": 0,
              "ticks": ""
             }
            },
            "type": "scattercarpet"
           }
          ],
          "scattergeo": [
           {
            "marker": {
             "colorbar": {
              "outlinewidth": 0,
              "ticks": ""
             }
            },
            "type": "scattergeo"
           }
          ],
          "scattergl": [
           {
            "marker": {
             "colorbar": {
              "outlinewidth": 0,
              "ticks": ""
             }
            },
            "type": "scattergl"
           }
          ],
          "scattermap": [
           {
            "marker": {
             "colorbar": {
              "outlinewidth": 0,
              "ticks": ""
             }
            },
            "type": "scattermap"
           }
          ],
          "scattermapbox": [
           {
            "marker": {
             "colorbar": {
              "outlinewidth": 0,
              "ticks": ""
             }
            },
            "type": "scattermapbox"
           }
          ],
          "scatterpolar": [
           {
            "marker": {
             "colorbar": {
              "outlinewidth": 0,
              "ticks": ""
             }
            },
            "type": "scatterpolar"
           }
          ],
          "scatterpolargl": [
           {
            "marker": {
             "colorbar": {
              "outlinewidth": 0,
              "ticks": ""
             }
            },
            "type": "scatterpolargl"
           }
          ],
          "scatterternary": [
           {
            "marker": {
             "colorbar": {
              "outlinewidth": 0,
              "ticks": ""
             }
            },
            "type": "scatterternary"
           }
          ],
          "surface": [
           {
            "colorbar": {
             "outlinewidth": 0,
             "ticks": ""
            },
            "colorscale": [
             [
              0,
              "#0d0887"
             ],
             [
              0.1111111111111111,
              "#46039f"
             ],
             [
              0.2222222222222222,
              "#7201a8"
             ],
             [
              0.3333333333333333,
              "#9c179e"
             ],
             [
              0.4444444444444444,
              "#bd3786"
             ],
             [
              0.5555555555555556,
              "#d8576b"
             ],
             [
              0.6666666666666666,
              "#ed7953"
             ],
             [
              0.7777777777777778,
              "#fb9f3a"
             ],
             [
              0.8888888888888888,
              "#fdca26"
             ],
             [
              1,
              "#f0f921"
             ]
            ],
            "type": "surface"
           }
          ],
          "table": [
           {
            "cells": {
             "fill": {
              "color": "#EBF0F8"
             },
             "line": {
              "color": "white"
             }
            },
            "header": {
             "fill": {
              "color": "#C8D4E3"
             },
             "line": {
              "color": "white"
             }
            },
            "type": "table"
           }
          ]
         },
         "layout": {
          "annotationdefaults": {
           "arrowcolor": "#2a3f5f",
           "arrowhead": 0,
           "arrowwidth": 1
          },
          "autotypenumbers": "strict",
          "coloraxis": {
           "colorbar": {
            "outlinewidth": 0,
            "ticks": ""
           }
          },
          "colorscale": {
           "diverging": [
            [
             0,
             "#8e0152"
            ],
            [
             0.1,
             "#c51b7d"
            ],
            [
             0.2,
             "#de77ae"
            ],
            [
             0.3,
             "#f1b6da"
            ],
            [
             0.4,
             "#fde0ef"
            ],
            [
             0.5,
             "#f7f7f7"
            ],
            [
             0.6,
             "#e6f5d0"
            ],
            [
             0.7,
             "#b8e186"
            ],
            [
             0.8,
             "#7fbc41"
            ],
            [
             0.9,
             "#4d9221"
            ],
            [
             1,
             "#276419"
            ]
           ],
           "sequential": [
            [
             0,
             "#0d0887"
            ],
            [
             0.1111111111111111,
             "#46039f"
            ],
            [
             0.2222222222222222,
             "#7201a8"
            ],
            [
             0.3333333333333333,
             "#9c179e"
            ],
            [
             0.4444444444444444,
             "#bd3786"
            ],
            [
             0.5555555555555556,
             "#d8576b"
            ],
            [
             0.6666666666666666,
             "#ed7953"
            ],
            [
             0.7777777777777778,
             "#fb9f3a"
            ],
            [
             0.8888888888888888,
             "#fdca26"
            ],
            [
             1,
             "#f0f921"
            ]
           ],
           "sequentialminus": [
            [
             0,
             "#0d0887"
            ],
            [
             0.1111111111111111,
             "#46039f"
            ],
            [
             0.2222222222222222,
             "#7201a8"
            ],
            [
             0.3333333333333333,
             "#9c179e"
            ],
            [
             0.4444444444444444,
             "#bd3786"
            ],
            [
             0.5555555555555556,
             "#d8576b"
            ],
            [
             0.6666666666666666,
             "#ed7953"
            ],
            [
             0.7777777777777778,
             "#fb9f3a"
            ],
            [
             0.8888888888888888,
             "#fdca26"
            ],
            [
             1,
             "#f0f921"
            ]
           ]
          },
          "colorway": [
           "#636efa",
           "#EF553B",
           "#00cc96",
           "#ab63fa",
           "#FFA15A",
           "#19d3f3",
           "#FF6692",
           "#B6E880",
           "#FF97FF",
           "#FECB52"
          ],
          "font": {
           "color": "#2a3f5f"
          },
          "geo": {
           "bgcolor": "white",
           "lakecolor": "white",
           "landcolor": "#E5ECF6",
           "showlakes": true,
           "showland": true,
           "subunitcolor": "white"
          },
          "hoverlabel": {
           "align": "left"
          },
          "hovermode": "closest",
          "mapbox": {
           "style": "light"
          },
          "paper_bgcolor": "white",
          "plot_bgcolor": "#E5ECF6",
          "polar": {
           "angularaxis": {
            "gridcolor": "white",
            "linecolor": "white",
            "ticks": ""
           },
           "bgcolor": "#E5ECF6",
           "radialaxis": {
            "gridcolor": "white",
            "linecolor": "white",
            "ticks": ""
           }
          },
          "scene": {
           "xaxis": {
            "backgroundcolor": "#E5ECF6",
            "gridcolor": "white",
            "gridwidth": 2,
            "linecolor": "white",
            "showbackground": true,
            "ticks": "",
            "zerolinecolor": "white"
           },
           "yaxis": {
            "backgroundcolor": "#E5ECF6",
            "gridcolor": "white",
            "gridwidth": 2,
            "linecolor": "white",
            "showbackground": true,
            "ticks": "",
            "zerolinecolor": "white"
           },
           "zaxis": {
            "backgroundcolor": "#E5ECF6",
            "gridcolor": "white",
            "gridwidth": 2,
            "linecolor": "white",
            "showbackground": true,
            "ticks": "",
            "zerolinecolor": "white"
           }
          },
          "shapedefaults": {
           "line": {
            "color": "#2a3f5f"
           }
          },
          "ternary": {
           "aaxis": {
            "gridcolor": "white",
            "linecolor": "white",
            "ticks": ""
           },
           "baxis": {
            "gridcolor": "white",
            "linecolor": "white",
            "ticks": ""
           },
           "bgcolor": "#E5ECF6",
           "caxis": {
            "gridcolor": "white",
            "linecolor": "white",
            "ticks": ""
           }
          },
          "title": {
           "x": 0.05
          },
          "xaxis": {
           "automargin": true,
           "gridcolor": "white",
           "linecolor": "white",
           "ticks": "",
           "title": {
            "standoff": 15
           },
           "zerolinecolor": "white",
           "zerolinewidth": 2
          },
          "yaxis": {
           "automargin": true,
           "gridcolor": "white",
           "linecolor": "white",
           "ticks": "",
           "title": {
            "standoff": 15
           },
           "zerolinecolor": "white",
           "zerolinewidth": 2
          }
         }
        },
        "title": {
         "text": "wind speed Over Time"
        },
        "xaxis": {
         "anchor": "y",
         "domain": [
          0,
          1
         ],
         "title": {
          "text": "date"
         }
        },
        "yaxis": {
         "anchor": "x",
         "domain": [
          0,
          1
         ],
         "title": {
          "text": "wind_speed"
         }
        }
       }
      }
     },
     "metadata": {},
     "output_type": "display_data"
    }
   ],
   "source": [
    "fig = px.line(df, x='date', y='wind_speed', title='wind speed Over Time')\n",
    "fig.show()"
   ]
  },
  {
   "cell_type": "code",
   "execution_count": null,
   "id": "6dcd8a79",
   "metadata": {},
   "outputs": [
    {
     "data": {
      "application/vnd.plotly.v1+json": {
       "config": {
        "plotlyServerURL": "https://plot.ly"
       },
       "data": [
        {
         "hovertemplate": "humidity=%{x}<br>meantemp=%{marker.size}<extra></extra>",
         "legendgroup": "",
         "marker": {
          "color": "#636efa",
          "size": {
           "bdata": "velNb3rTL0AAAAAAAIAyQMdxHMdxHDFAMzMzMzOzMkA5juM4jmMyQNFFF110UTNAq6qqqqpqLUDlNZTXUF4vQEmSJEmSJC1AjuM4juM4KEAAAAAAAAAmQEN5DeU1lCdAeHh4eHh4KkBmZmZmZmYqQKc3velNbzBAzczMzMxMLUAbx3Ecx3EnQFVVVVVVFSpA0PM8z/M8LUBsKK+hvIYuQC1kIQtZyC5AcT0K16NwMkAeHh4eHh4yQIYsZCELWTJAAAAAAAAANUDbtm3bti0wQAAAAAAAgDBAuuiiiy66LUBVVVVVVVUvQBzHcRzHcTBAAAAAAAAgMEAAAAAAAIAuQBdddNFFFzFARhdddNFFL0AzMzMzM7MyQBvKayivoTJAOY7jOI7jMEAAAAAAAEAuQGZmZmZmZi9AAAAAAADALkBVVVVVVVUtQAAAAAAAQC9AAAAAAABAMEBVVVVVVVUwQAAAAAAA4DBAJUmSJEmSMUAAAAAAAEA0QM3MzMzMTDVAAAAAAAAgNUBddNFFF102QAAAAAAAYDdAVFVVVVXVNUAAAAAAACAzQAAAAAAAoDJAAAAAAAAgM0AAAAAAAAAzQAAAAAAAwDJAAAAAAADgM0BUVVVVVVU3QGIndmIndjhAAAAAAADAN0AAAAAAAIA0QAAAAAAAIDNAAAAAAADAM0AAAAAAAAA0QAAAAAAAoDZAjC666KKLNUCSJEmSJMk0QAAAAAAA8DNAiIiIiIiIMkAAAAAAAGAxQBzHcRzHcTFAAAAAAAAAMkAAAAAAAOAzQAAAAAAAADhAZmZmZmbmNEAUO7ETO7E4QKuqqqqqqjhAVFVVVVVVN0AAAAAAAAA5QAAAAAAAQDtAAAAAAAAAPECrqqqqquo8QAAAAAAAgDpAmpmZmZkZPUAAAAAAAIA9QDmO4ziO4z1AAAAAAAAAP0CSJEmSJEk9QAAAAAAAoD5AAAAAAABgP0AAAAAAAMA9QAAAAAAAgD5A7+7u7u7uPkCxEzuxEzs9QI7jOI7jOD9AAAAAAAAAO0AAAAAAAKA5QAAAAAAAIDtAt23btm3bO0AAAAAAAEA9QAAAAAAAQD1Aq6qqqqqqPUAAAAAAAIA+QI7jOI7jOD9AAAAAAAAAP0ByHMdxHEdAQAAAAAAAAEFAAAAAAADAQEAAAAAAAEBBQAAAAAAAIEFAMzMzMzNzQEAAAAAAAHBAQAAAAAAAAEBA",
           "dtype": "f8"
          },
          "sizemode": "area",
          "sizeref": 0.08625,
          "symbol": "circle"
         },
         "mode": "markers",
         "name": "",
         "orientation": "v",
         "showlegend": false,
         "type": "scatter",
         "x": {
          "bdata": "05ve9KZ3VUDkOI7jOE5TQI7jOI7jeFRAMzMzMzODUUDHcRzHcbxSQHTRRRdd1FNAVFVVVVX1V0Abymsor+FUQD3P8zzPM1RAx3Ecx3H8UUByHMdxHAdSQFFeQ3kNpVJAxMPDw8PDUEBSuB6F65FSQBaykIUsJFJAzczMzMycU0DHcRzHcRxVQFVVVVVVlVNAkiRJkiTJUkDlNZTXUJ5QQNOb3vSmt1FAj8L1KFwPU0AAAAAAAABTQC1kIQtZCFFAPQrXo3B9UUCSJEmSJOlWQKuqqqqqQlNA0UUXXXSxVEAcx3Ecx3FUQDmO4ziOY1NAAAAAAAAAU0AAAAAAAKhTQKOLLrroolBAjC666KKLU0BmZmZmZmZTQIfyGspraFNAq6qqqqpqUUAAAAAAAOBPQJqZmZmZGVFAAAAAAAAYUUAcx3Ecx/FRQAAAAAAAAFBAAAAAAACYUUAAAAAAAMBQQAAAAAAAYFBA27Zt27btUEAAAAAAAGBMQJqZmZmZGVBAAAAAAACwUUBGF1100YVQQAAAAAAAEE5Aq6qqqqpaUUAAAAAAAJBMQAAAAAAAcEVAAAAAAAAwREBu27Zt2zZJQAAAAAAAgE1AAAAAAAAwTUBUVVVVVdVJQGIndmIn9kdAAAAAAAAgS0AAAAAAAEBFQAAAAAAAkEVAAAAAAACgRECO4ziO4zhFQAAAAAAAwERAXXTRRRddSkBJkiRJkkRRQAAAAAAA8FBAMzMzMzMzTkAAAAAAAFBMQKuqqqqqqkhAq6qqqqoqTEAAAAAAAGBLQJqZmZmZmUhAmpmZmZnZTUB2Yid2YidHQDmO4ziOI0pAVFVVVVVVS0AAAAAAAIBIQAAAAAAAgEZAAAAAAADgSEBUVVVVVdVCQAAAAAAAsENAzczMzMyMQkAAAAAAAFBDQFRVVVVVVURAAAAAAABAQUDatm3btm1CQAAAAAAA0EJAAAAAAACQQUAAAAAAAOBAQAAAAAAAwD1A3t3d3d3dP0AAAAAAAABHQAAAAAAAADpAAAAAAADgPUAAAAAAAGA9QAAAAAAAIDVA27Zt27ZtM0AAAAAAAMAxQAAAAAAAADpAx3Ecx3EcPUAAAAAAANBCQBzHcRzHcT5AAAAAAAAgQUCO4ziO4zhDQFRVVVVVVTtAAAAAAAAgOEAAAAAAAIA7QAAAAAAAsENAMzMzMzNzREAAAAAAAIA7QEmSJEmSJDtA",
          "dtype": "f8"
         },
         "xaxis": "x",
         "y": {
          "bdata": "velNb3rTL0AAAAAAAIAyQMdxHMdxHDFAMzMzMzOzMkA5juM4jmMyQNFFF110UTNAq6qqqqpqLUDlNZTXUF4vQEmSJEmSJC1AjuM4juM4KEAAAAAAAAAmQEN5DeU1lCdAeHh4eHh4KkBmZmZmZmYqQKc3velNbzBAzczMzMxMLUAbx3Ecx3EnQFVVVVVVFSpA0PM8z/M8LUBsKK+hvIYuQC1kIQtZyC5AcT0K16NwMkAeHh4eHh4yQIYsZCELWTJAAAAAAAAANUDbtm3bti0wQAAAAAAAgDBAuuiiiy66LUBVVVVVVVUvQBzHcRzHcTBAAAAAAAAgMEAAAAAAAIAuQBdddNFFFzFARhdddNFFL0AzMzMzM7MyQBvKayivoTJAOY7jOI7jMEAAAAAAAEAuQGZmZmZmZi9AAAAAAADALkBVVVVVVVUtQAAAAAAAQC9AAAAAAABAMEBVVVVVVVUwQAAAAAAA4DBAJUmSJEmSMUAAAAAAAEA0QM3MzMzMTDVAAAAAAAAgNUBddNFFF102QAAAAAAAYDdAVFVVVVXVNUAAAAAAACAzQAAAAAAAoDJAAAAAAAAgM0AAAAAAAAAzQAAAAAAAwDJAAAAAAADgM0BUVVVVVVU3QGIndmIndjhAAAAAAADAN0AAAAAAAIA0QAAAAAAAIDNAAAAAAADAM0AAAAAAAAA0QAAAAAAAoDZAjC666KKLNUCSJEmSJMk0QAAAAAAA8DNAiIiIiIiIMkAAAAAAAGAxQBzHcRzHcTFAAAAAAAAAMkAAAAAAAOAzQAAAAAAAADhAZmZmZmbmNEAUO7ETO7E4QKuqqqqqqjhAVFVVVVVVN0AAAAAAAAA5QAAAAAAAQDtAAAAAAAAAPECrqqqqquo8QAAAAAAAgDpAmpmZmZkZPUAAAAAAAIA9QDmO4ziO4z1AAAAAAAAAP0CSJEmSJEk9QAAAAAAAoD5AAAAAAABgP0AAAAAAAMA9QAAAAAAAgD5A7+7u7u7uPkCxEzuxEzs9QI7jOI7jOD9AAAAAAAAAO0AAAAAAAKA5QAAAAAAAIDtAt23btm3bO0AAAAAAAEA9QAAAAAAAQD1Aq6qqqqqqPUAAAAAAAIA+QI7jOI7jOD9AAAAAAAAAP0ByHMdxHEdAQAAAAAAAAEFAAAAAAADAQEAAAAAAAEBBQAAAAAAAIEFAMzMzMzNzQEAAAAAAAHBAQAAAAAAAAEBA",
          "dtype": "f8"
         },
         "yaxis": "y"
        },
        {
         "hovertemplate": "<b>OLS trendline</b><br>meantemp = -0.286091 * humidity + 37.8081<br>R<sup>2</sup>=0.735694<br><br>humidity=%{x}<br>meantemp=%{y} <b>(trend)</b><extra></extra>",
         "legendgroup": "",
         "marker": {
          "color": "#636efa",
          "symbol": "circle"
         },
         "mode": "lines",
         "name": "",
         "showlegend": false,
         "type": "scatter",
         "x": {
          "bdata": "AAAAAADAMUDbtm3btm0zQAAAAAAAIDVAAAAAAAAgOEAAAAAAAAA6QAAAAAAAADpASZIkSZIkO0BUVVVVVVU7QAAAAAAAgDtAAAAAAACAO0DHcRzHcRw9QAAAAAAAYD1AAAAAAADAPUAAAAAAAOA9QBzHcRzHcT5A3t3d3d3dP0AAAAAAAOBAQAAAAAAAIEFAAAAAAABAQUAAAAAAAJBBQNq2bdu2bUJAzczMzMyMQkAAAAAAANBCQAAAAAAA0EJAVFVVVVXVQkCO4ziO4zhDQAAAAAAAUENAAAAAAACwQ0AAAAAAALBDQAAAAAAAMERAVFVVVVVVREAzMzMzM3NEQAAAAAAAoERAAAAAAADARECO4ziO4zhFQAAAAAAAQEVAAAAAAABwRUAAAAAAAJBFQAAAAAAAgEZAAAAAAAAAR0B2Yid2YidHQGIndmIn9kdAAAAAAACASECamZmZmZlIQKuqqqqqqkhAAAAAAADgSEBu27Zt2zZJQFRVVVVV1UlAOY7jOI4jSkBddNFFF11KQAAAAAAAIEtAVFVVVVVVS0AAAAAAAGBLQKuqqqqqKkxAAAAAAABQTEAAAAAAAGBMQAAAAAAAkExAAAAAAAAwTUAAAAAAAIBNQJqZmZmZ2U1AAAAAAAAQTkAzMzMzMzNOQAAAAAAA4E9AAAAAAAAAUECamZmZmRlQQAAAAAAAYFBARhdddNGFUEDlNZTXUJ5QQKOLLrroolBAAAAAAADAUEDEw8PDw8NQQNu2bdu27VBAAAAAAADwUEAtZCELWQhRQAAAAAAAGFFAmpmZmZkZUUBJkiRJkkRRQKuqqqqqWlFAq6qqqqpqUUA9CtejcH1RQDMzMzMzg1FAAAAAAACYUUAAAAAAALBRQNOb3vSmt1FAHMdxHMfxUUDHcRzHcfxRQHIcx3EcB1JAFrKQhSwkUkBSuB6F65FSQFFeQ3kNpVJAx3Ecx3G8UkCSJEmSJMlSQAAAAAAAAFNAAAAAAAAAU0CPwvUoXA9TQKuqqqqqQlNA5DiO4zhOU0A5juM4jmNTQGZmZmZmZlNAh/IaymtoU0CMLrroootTQFVVVVVVlVNAzczMzMycU0AAAAAAAKhTQHTRRRdd1FNAPc/zPM8zVEAcx3Ecx3FUQI7jOI7jeFRA0UUXXXSxVEAbymsor+FUQMdxHMdxHFVA05ve9KZ3VUCSJEmSJOlWQFRVVVVV9VdA",
          "dtype": "f8"
         },
         "xaxis": "x",
         "y": {
          "bdata": "KGSpYW9dQEAoTQ5q9x9AQGeXGRawwz9AtN2tX/jnPkCkiaqNpV4+QKSJqo2lXj5AF0912vEKPkAAcOyR/vw9QMusdLLJ8D1Ay6x0ssnwPUAko5mXyno9QLxYceB2Zz1AheGj6f9LPUAeDwpC2EI9QICJ25sjGT1ANn/MBvqwPECWlGn2Cic8QPlKAlhsAjxAKqbOCB3wO0Alis3CVsI7QGjdMGd6QztAXCdPBLExO0AQGsmqPQs7QBAayao9CztARCnrcjAIO0Ci72a1Oc86QNSG+m0AwjpAaJhfgBKLOkBomF+AEos6QCwFkUPVQTpAkG9/vHgsOkDg9wrqYRs6QFhEXK6/ATpAiZ8oX3DvOUC0oizCRKo5QE4MWiIzpjlAF5WMK7yKOUBI8FjcbHg5QDicVQoa7zhA/AiHzdylOEDqjILOU484QIoBq5MEGThASk8bFyXKN0DYMSU+f7s3QODIK1i7sTdA3WCAKTeTN0AZxhh3hGE3QAEcnx/XBjdAlKWSQRXaNkAmto2RKbk2QFHK3pejSTZATmIzaR8rNkCzgHf5BCU2QD/Cha4OsTVApCx0J7KbNUA8Wtp/ipI1QAbjDIkTdzVA+6oK/YYbNUD2jgm3wO00QOYnrD98ujRAUymh0lubNEDWwE7IN4c0QJtTNNbdkTNAzK4Ah45/M0DncxTVQmIzQPPRyquyETNAZkx/k2vmMkCJXaPVYsoyQMAgCjIhxTJAGfWU0NajMkDoZB/rh58yQIGwk4CGbzJArQb64uhsMkCHQ0cGDFEyQKfq+JwiPzJA+Sba4U09MkD5esQbIQwyQJ5mTCjY8jFAz8EY2YjgMUB+dFoSDcsxQAq066N1xDFAMMRbI6isMUD6TI4sMZExQIHG2WpviDFAi27WH+tFMUBWq15AtjkxQCHo5mCBLTFAJzxlOz8MMUDYXpZdqI4wQGNIklTDeDBAo/Hyif5dMEDrs7lzdk8wQAHIUa2vEDBAAchRra8QMEDw4lS4N/4vQPCHSnHKiC9AUrZx4lduL0CAqZJkhD0vQN64QcsBNy9AFqKwoWEyL0BaU9h/yOEuQEI2iumWyy5AkL4VF4C6LkAIC2fb3aAuQBp5jphUOy5A3I2ji+FgLUBuXIl/DdMsQNICPwDHwixAaK7MaFBBLEDesTr97dIrQNr1kJBxTCtABkx+tbF7KkAobdIQCC4nQB4VTJk3yCRA",
          "dtype": "f8"
         },
         "yaxis": "y"
        }
       ],
       "layout": {
        "legend": {
         "itemsizing": "constant",
         "tracegroupgap": 0
        },
        "template": {
         "data": {
          "bar": [
           {
            "error_x": {
             "color": "#2a3f5f"
            },
            "error_y": {
             "color": "#2a3f5f"
            },
            "marker": {
             "line": {
              "color": "#E5ECF6",
              "width": 0.5
             },
             "pattern": {
              "fillmode": "overlay",
              "size": 10,
              "solidity": 0.2
             }
            },
            "type": "bar"
           }
          ],
          "barpolar": [
           {
            "marker": {
             "line": {
              "color": "#E5ECF6",
              "width": 0.5
             },
             "pattern": {
              "fillmode": "overlay",
              "size": 10,
              "solidity": 0.2
             }
            },
            "type": "barpolar"
           }
          ],
          "carpet": [
           {
            "aaxis": {
             "endlinecolor": "#2a3f5f",
             "gridcolor": "white",
             "linecolor": "white",
             "minorgridcolor": "white",
             "startlinecolor": "#2a3f5f"
            },
            "baxis": {
             "endlinecolor": "#2a3f5f",
             "gridcolor": "white",
             "linecolor": "white",
             "minorgridcolor": "white",
             "startlinecolor": "#2a3f5f"
            },
            "type": "carpet"
           }
          ],
          "choropleth": [
           {
            "colorbar": {
             "outlinewidth": 0,
             "ticks": ""
            },
            "type": "choropleth"
           }
          ],
          "contour": [
           {
            "colorbar": {
             "outlinewidth": 0,
             "ticks": ""
            },
            "colorscale": [
             [
              0,
              "#0d0887"
             ],
             [
              0.1111111111111111,
              "#46039f"
             ],
             [
              0.2222222222222222,
              "#7201a8"
             ],
             [
              0.3333333333333333,
              "#9c179e"
             ],
             [
              0.4444444444444444,
              "#bd3786"
             ],
             [
              0.5555555555555556,
              "#d8576b"
             ],
             [
              0.6666666666666666,
              "#ed7953"
             ],
             [
              0.7777777777777778,
              "#fb9f3a"
             ],
             [
              0.8888888888888888,
              "#fdca26"
             ],
             [
              1,
              "#f0f921"
             ]
            ],
            "type": "contour"
           }
          ],
          "contourcarpet": [
           {
            "colorbar": {
             "outlinewidth": 0,
             "ticks": ""
            },
            "type": "contourcarpet"
           }
          ],
          "heatmap": [
           {
            "colorbar": {
             "outlinewidth": 0,
             "ticks": ""
            },
            "colorscale": [
             [
              0,
              "#0d0887"
             ],
             [
              0.1111111111111111,
              "#46039f"
             ],
             [
              0.2222222222222222,
              "#7201a8"
             ],
             [
              0.3333333333333333,
              "#9c179e"
             ],
             [
              0.4444444444444444,
              "#bd3786"
             ],
             [
              0.5555555555555556,
              "#d8576b"
             ],
             [
              0.6666666666666666,
              "#ed7953"
             ],
             [
              0.7777777777777778,
              "#fb9f3a"
             ],
             [
              0.8888888888888888,
              "#fdca26"
             ],
             [
              1,
              "#f0f921"
             ]
            ],
            "type": "heatmap"
           }
          ],
          "histogram": [
           {
            "marker": {
             "pattern": {
              "fillmode": "overlay",
              "size": 10,
              "solidity": 0.2
             }
            },
            "type": "histogram"
           }
          ],
          "histogram2d": [
           {
            "colorbar": {
             "outlinewidth": 0,
             "ticks": ""
            },
            "colorscale": [
             [
              0,
              "#0d0887"
             ],
             [
              0.1111111111111111,
              "#46039f"
             ],
             [
              0.2222222222222222,
              "#7201a8"
             ],
             [
              0.3333333333333333,
              "#9c179e"
             ],
             [
              0.4444444444444444,
              "#bd3786"
             ],
             [
              0.5555555555555556,
              "#d8576b"
             ],
             [
              0.6666666666666666,
              "#ed7953"
             ],
             [
              0.7777777777777778,
              "#fb9f3a"
             ],
             [
              0.8888888888888888,
              "#fdca26"
             ],
             [
              1,
              "#f0f921"
             ]
            ],
            "type": "histogram2d"
           }
          ],
          "histogram2dcontour": [
           {
            "colorbar": {
             "outlinewidth": 0,
             "ticks": ""
            },
            "colorscale": [
             [
              0,
              "#0d0887"
             ],
             [
              0.1111111111111111,
              "#46039f"
             ],
             [
              0.2222222222222222,
              "#7201a8"
             ],
             [
              0.3333333333333333,
              "#9c179e"
             ],
             [
              0.4444444444444444,
              "#bd3786"
             ],
             [
              0.5555555555555556,
              "#d8576b"
             ],
             [
              0.6666666666666666,
              "#ed7953"
             ],
             [
              0.7777777777777778,
              "#fb9f3a"
             ],
             [
              0.8888888888888888,
              "#fdca26"
             ],
             [
              1,
              "#f0f921"
             ]
            ],
            "type": "histogram2dcontour"
           }
          ],
          "mesh3d": [
           {
            "colorbar": {
             "outlinewidth": 0,
             "ticks": ""
            },
            "type": "mesh3d"
           }
          ],
          "parcoords": [
           {
            "line": {
             "colorbar": {
              "outlinewidth": 0,
              "ticks": ""
             }
            },
            "type": "parcoords"
           }
          ],
          "pie": [
           {
            "automargin": true,
            "type": "pie"
           }
          ],
          "scatter": [
           {
            "fillpattern": {
             "fillmode": "overlay",
             "size": 10,
             "solidity": 0.2
            },
            "type": "scatter"
           }
          ],
          "scatter3d": [
           {
            "line": {
             "colorbar": {
              "outlinewidth": 0,
              "ticks": ""
             }
            },
            "marker": {
             "colorbar": {
              "outlinewidth": 0,
              "ticks": ""
             }
            },
            "type": "scatter3d"
           }
          ],
          "scattercarpet": [
           {
            "marker": {
             "colorbar": {
              "outlinewidth": 0,
              "ticks": ""
             }
            },
            "type": "scattercarpet"
           }
          ],
          "scattergeo": [
           {
            "marker": {
             "colorbar": {
              "outlinewidth": 0,
              "ticks": ""
             }
            },
            "type": "scattergeo"
           }
          ],
          "scattergl": [
           {
            "marker": {
             "colorbar": {
              "outlinewidth": 0,
              "ticks": ""
             }
            },
            "type": "scattergl"
           }
          ],
          "scattermap": [
           {
            "marker": {
             "colorbar": {
              "outlinewidth": 0,
              "ticks": ""
             }
            },
            "type": "scattermap"
           }
          ],
          "scattermapbox": [
           {
            "marker": {
             "colorbar": {
              "outlinewidth": 0,
              "ticks": ""
             }
            },
            "type": "scattermapbox"
           }
          ],
          "scatterpolar": [
           {
            "marker": {
             "colorbar": {
              "outlinewidth": 0,
              "ticks": ""
             }
            },
            "type": "scatterpolar"
           }
          ],
          "scatterpolargl": [
           {
            "marker": {
             "colorbar": {
              "outlinewidth": 0,
              "ticks": ""
             }
            },
            "type": "scatterpolargl"
           }
          ],
          "scatterternary": [
           {
            "marker": {
             "colorbar": {
              "outlinewidth": 0,
              "ticks": ""
             }
            },
            "type": "scatterternary"
           }
          ],
          "surface": [
           {
            "colorbar": {
             "outlinewidth": 0,
             "ticks": ""
            },
            "colorscale": [
             [
              0,
              "#0d0887"
             ],
             [
              0.1111111111111111,
              "#46039f"
             ],
             [
              0.2222222222222222,
              "#7201a8"
             ],
             [
              0.3333333333333333,
              "#9c179e"
             ],
             [
              0.4444444444444444,
              "#bd3786"
             ],
             [
              0.5555555555555556,
              "#d8576b"
             ],
             [
              0.6666666666666666,
              "#ed7953"
             ],
             [
              0.7777777777777778,
              "#fb9f3a"
             ],
             [
              0.8888888888888888,
              "#fdca26"
             ],
             [
              1,
              "#f0f921"
             ]
            ],
            "type": "surface"
           }
          ],
          "table": [
           {
            "cells": {
             "fill": {
              "color": "#EBF0F8"
             },
             "line": {
              "color": "white"
             }
            },
            "header": {
             "fill": {
              "color": "#C8D4E3"
             },
             "line": {
              "color": "white"
             }
            },
            "type": "table"
           }
          ]
         },
         "layout": {
          "annotationdefaults": {
           "arrowcolor": "#2a3f5f",
           "arrowhead": 0,
           "arrowwidth": 1
          },
          "autotypenumbers": "strict",
          "coloraxis": {
           "colorbar": {
            "outlinewidth": 0,
            "ticks": ""
           }
          },
          "colorscale": {
           "diverging": [
            [
             0,
             "#8e0152"
            ],
            [
             0.1,
             "#c51b7d"
            ],
            [
             0.2,
             "#de77ae"
            ],
            [
             0.3,
             "#f1b6da"
            ],
            [
             0.4,
             "#fde0ef"
            ],
            [
             0.5,
             "#f7f7f7"
            ],
            [
             0.6,
             "#e6f5d0"
            ],
            [
             0.7,
             "#b8e186"
            ],
            [
             0.8,
             "#7fbc41"
            ],
            [
             0.9,
             "#4d9221"
            ],
            [
             1,
             "#276419"
            ]
           ],
           "sequential": [
            [
             0,
             "#0d0887"
            ],
            [
             0.1111111111111111,
             "#46039f"
            ],
            [
             0.2222222222222222,
             "#7201a8"
            ],
            [
             0.3333333333333333,
             "#9c179e"
            ],
            [
             0.4444444444444444,
             "#bd3786"
            ],
            [
             0.5555555555555556,
             "#d8576b"
            ],
            [
             0.6666666666666666,
             "#ed7953"
            ],
            [
             0.7777777777777778,
             "#fb9f3a"
            ],
            [
             0.8888888888888888,
             "#fdca26"
            ],
            [
             1,
             "#f0f921"
            ]
           ],
           "sequentialminus": [
            [
             0,
             "#0d0887"
            ],
            [
             0.1111111111111111,
             "#46039f"
            ],
            [
             0.2222222222222222,
             "#7201a8"
            ],
            [
             0.3333333333333333,
             "#9c179e"
            ],
            [
             0.4444444444444444,
             "#bd3786"
            ],
            [
             0.5555555555555556,
             "#d8576b"
            ],
            [
             0.6666666666666666,
             "#ed7953"
            ],
            [
             0.7777777777777778,
             "#fb9f3a"
            ],
            [
             0.8888888888888888,
             "#fdca26"
            ],
            [
             1,
             "#f0f921"
            ]
           ]
          },
          "colorway": [
           "#636efa",
           "#EF553B",
           "#00cc96",
           "#ab63fa",
           "#FFA15A",
           "#19d3f3",
           "#FF6692",
           "#B6E880",
           "#FF97FF",
           "#FECB52"
          ],
          "font": {
           "color": "#2a3f5f"
          },
          "geo": {
           "bgcolor": "white",
           "lakecolor": "white",
           "landcolor": "#E5ECF6",
           "showlakes": true,
           "showland": true,
           "subunitcolor": "white"
          },
          "hoverlabel": {
           "align": "left"
          },
          "hovermode": "closest",
          "mapbox": {
           "style": "light"
          },
          "paper_bgcolor": "white",
          "plot_bgcolor": "#E5ECF6",
          "polar": {
           "angularaxis": {
            "gridcolor": "white",
            "linecolor": "white",
            "ticks": ""
           },
           "bgcolor": "#E5ECF6",
           "radialaxis": {
            "gridcolor": "white",
            "linecolor": "white",
            "ticks": ""
           }
          },
          "scene": {
           "xaxis": {
            "backgroundcolor": "#E5ECF6",
            "gridcolor": "white",
            "gridwidth": 2,
            "linecolor": "white",
            "showbackground": true,
            "ticks": "",
            "zerolinecolor": "white"
           },
           "yaxis": {
            "backgroundcolor": "#E5ECF6",
            "gridcolor": "white",
            "gridwidth": 2,
            "linecolor": "white",
            "showbackground": true,
            "ticks": "",
            "zerolinecolor": "white"
           },
           "zaxis": {
            "backgroundcolor": "#E5ECF6",
            "gridcolor": "white",
            "gridwidth": 2,
            "linecolor": "white",
            "showbackground": true,
            "ticks": "",
            "zerolinecolor": "white"
           }
          },
          "shapedefaults": {
           "line": {
            "color": "#2a3f5f"
           }
          },
          "ternary": {
           "aaxis": {
            "gridcolor": "white",
            "linecolor": "white",
            "ticks": ""
           },
           "baxis": {
            "gridcolor": "white",
            "linecolor": "white",
            "ticks": ""
           },
           "bgcolor": "#E5ECF6",
           "caxis": {
            "gridcolor": "white",
            "linecolor": "white",
            "ticks": ""
           }
          },
          "title": {
           "x": 0.05
          },
          "xaxis": {
           "automargin": true,
           "gridcolor": "white",
           "linecolor": "white",
           "ticks": "",
           "title": {
            "standoff": 15
           },
           "zerolinecolor": "white",
           "zerolinewidth": 2
          },
          "yaxis": {
           "automargin": true,
           "gridcolor": "white",
           "linecolor": "white",
           "ticks": "",
           "title": {
            "standoff": 15
           },
           "zerolinecolor": "white",
           "zerolinewidth": 2
          }
         }
        },
        "title": {
         "text": "Mean Temperature vs Humidity"
        },
        "xaxis": {
         "anchor": "y",
         "domain": [
          0,
          1
         ],
         "title": {
          "text": "humidity"
         }
        },
        "yaxis": {
         "anchor": "x",
         "domain": [
          0,
          1
         ],
         "title": {
          "text": "meantemp"
         }
        }
       }
      }
     },
     "metadata": {},
     "output_type": "display_data"
    }
   ],
   "source": [
    "fig = px.scatter(data_frame=df, x='humidity', y='meantemp',size='meantemp', trendline='ols', title='Mean Temperature vs Humidity')\n",
    "fig.show()"
   ]
  },
  {
   "cell_type": "markdown",
   "id": "6af2150b",
   "metadata": {},
   "source": [
    "# Analyzing Temperature change"
   ]
  },
  {
   "cell_type": "code",
   "execution_count": 21,
   "id": "67b8cdcf",
   "metadata": {},
   "outputs": [
    {
     "data": {
      "text/html": [
       "<div>\n",
       "<style scoped>\n",
       "    .dataframe tbody tr th:only-of-type {\n",
       "        vertical-align: middle;\n",
       "    }\n",
       "\n",
       "    .dataframe tbody tr th {\n",
       "        vertical-align: top;\n",
       "    }\n",
       "\n",
       "    .dataframe thead th {\n",
       "        text-align: right;\n",
       "    }\n",
       "</style>\n",
       "<table border=\"1\" class=\"dataframe\">\n",
       "  <thead>\n",
       "    <tr style=\"text-align: right;\">\n",
       "      <th></th>\n",
       "      <th>date</th>\n",
       "      <th>meantemp</th>\n",
       "      <th>humidity</th>\n",
       "      <th>wind_speed</th>\n",
       "      <th>meanpressure</th>\n",
       "      <th>year</th>\n",
       "      <th>month</th>\n",
       "    </tr>\n",
       "  </thead>\n",
       "  <tbody>\n",
       "    <tr>\n",
       "      <th>0</th>\n",
       "      <td>2017-01-01</td>\n",
       "      <td>15.913043</td>\n",
       "      <td>85.869565</td>\n",
       "      <td>2.743478</td>\n",
       "      <td>59.000000</td>\n",
       "      <td>2017</td>\n",
       "      <td>1</td>\n",
       "    </tr>\n",
       "    <tr>\n",
       "      <th>1</th>\n",
       "      <td>2017-01-02</td>\n",
       "      <td>18.500000</td>\n",
       "      <td>77.222222</td>\n",
       "      <td>2.894444</td>\n",
       "      <td>1018.277778</td>\n",
       "      <td>2017</td>\n",
       "      <td>1</td>\n",
       "    </tr>\n",
       "    <tr>\n",
       "      <th>2</th>\n",
       "      <td>2017-01-03</td>\n",
       "      <td>17.111111</td>\n",
       "      <td>81.888889</td>\n",
       "      <td>4.016667</td>\n",
       "      <td>1018.333333</td>\n",
       "      <td>2017</td>\n",
       "      <td>1</td>\n",
       "    </tr>\n",
       "    <tr>\n",
       "      <th>3</th>\n",
       "      <td>2017-01-04</td>\n",
       "      <td>18.700000</td>\n",
       "      <td>70.050000</td>\n",
       "      <td>4.545000</td>\n",
       "      <td>1015.700000</td>\n",
       "      <td>2017</td>\n",
       "      <td>1</td>\n",
       "    </tr>\n",
       "    <tr>\n",
       "      <th>4</th>\n",
       "      <td>2017-01-05</td>\n",
       "      <td>18.388889</td>\n",
       "      <td>74.944444</td>\n",
       "      <td>3.300000</td>\n",
       "      <td>1014.333333</td>\n",
       "      <td>2017</td>\n",
       "      <td>1</td>\n",
       "    </tr>\n",
       "  </tbody>\n",
       "</table>\n",
       "</div>"
      ],
      "text/plain": [
       "        date   meantemp   humidity  wind_speed  meanpressure  year  month\n",
       "0 2017-01-01  15.913043  85.869565    2.743478     59.000000  2017      1\n",
       "1 2017-01-02  18.500000  77.222222    2.894444   1018.277778  2017      1\n",
       "2 2017-01-03  17.111111  81.888889    4.016667   1018.333333  2017      1\n",
       "3 2017-01-04  18.700000  70.050000    4.545000   1015.700000  2017      1\n",
       "4 2017-01-05  18.388889  74.944444    3.300000   1014.333333  2017      1"
      ]
     },
     "execution_count": 21,
     "metadata": {},
     "output_type": "execute_result"
    }
   ],
   "source": [
    "df[\"date\"] = pd.to_datetime(df[\"date\"], format=\"%Y-%m-%d\")\n",
    "df[\"year\"] = df[\"date\"].dt.year\n",
    "df[\"month\"] = df[\"date\"].dt.month\n",
    "df.head()"
   ]
  },
  {
   "cell_type": "code",
   "execution_count": 22,
   "id": "57bca779",
   "metadata": {},
   "outputs": [
    {
     "data": {
      "image/png": "[encoded data removed]",
      "text/plain": [
       "<Figure size 1200x600 with 1 Axes>"
      ]
     },
     "metadata": {},
     "output_type": "display_data"
    }
   ],
   "source": [
    "## Temperture change in Delhi over the years\n",
    "plt.style.use('fivethirtyeight')\n",
    "plt.figure(figsize=(12, 6))\n",
    "plt.title('Temperature Change in Delhi Over the Years')\n",
    "sns.lineplot(data=df, x='month', y='meantemp', hue = 'year')\n",
    "plt.show()"
   ]
  },
  {
   "cell_type": "code",
   "execution_count": 23,
   "id": "15fc4810",
   "metadata": {},
   "outputs": [],
   "source": [
    "forecast_data = df.rename(columns = {\"date\": \"ds\", \n",
    "                                       \"meantemp\": \"y\"})"
   ]
  },
  {
   "cell_type": "code",
   "execution_count": 24,
   "id": "3b1139ad",
   "metadata": {},
   "outputs": [
    {
     "data": {
      "text/html": [
       "<div>\n",
       "<style scoped>\n",
       "    .dataframe tbody tr th:only-of-type {\n",
       "        vertical-align: middle;\n",
       "    }\n",
       "\n",
       "    .dataframe tbody tr th {\n",
       "        vertical-align: top;\n",
       "    }\n",
       "\n",
       "    .dataframe thead th {\n",
       "        text-align: right;\n",
       "    }\n",
       "</style>\n",
       "<table border=\"1\" class=\"dataframe\">\n",
       "  <thead>\n",
       "    <tr style=\"text-align: right;\">\n",
       "      <th></th>\n",
       "      <th>ds</th>\n",
       "      <th>y</th>\n",
       "      <th>humidity</th>\n",
       "      <th>wind_speed</th>\n",
       "      <th>meanpressure</th>\n",
       "      <th>year</th>\n",
       "      <th>month</th>\n",
       "    </tr>\n",
       "  </thead>\n",
       "  <tbody>\n",
       "    <tr>\n",
       "      <th>0</th>\n",
       "      <td>2017-01-01</td>\n",
       "      <td>15.913043</td>\n",
       "      <td>85.869565</td>\n",
       "      <td>2.743478</td>\n",
       "      <td>59.000000</td>\n",
       "      <td>2017</td>\n",
       "      <td>1</td>\n",
       "    </tr>\n",
       "    <tr>\n",
       "      <th>1</th>\n",
       "      <td>2017-01-02</td>\n",
       "      <td>18.500000</td>\n",
       "      <td>77.222222</td>\n",
       "      <td>2.894444</td>\n",
       "      <td>1018.277778</td>\n",
       "      <td>2017</td>\n",
       "      <td>1</td>\n",
       "    </tr>\n",
       "    <tr>\n",
       "      <th>2</th>\n",
       "      <td>2017-01-03</td>\n",
       "      <td>17.111111</td>\n",
       "      <td>81.888889</td>\n",
       "      <td>4.016667</td>\n",
       "      <td>1018.333333</td>\n",
       "      <td>2017</td>\n",
       "      <td>1</td>\n",
       "    </tr>\n",
       "    <tr>\n",
       "      <th>3</th>\n",
       "      <td>2017-01-04</td>\n",
       "      <td>18.700000</td>\n",
       "      <td>70.050000</td>\n",
       "      <td>4.545000</td>\n",
       "      <td>1015.700000</td>\n",
       "      <td>2017</td>\n",
       "      <td>1</td>\n",
       "    </tr>\n",
       "    <tr>\n",
       "      <th>4</th>\n",
       "      <td>2017-01-05</td>\n",
       "      <td>18.388889</td>\n",
       "      <td>74.944444</td>\n",
       "      <td>3.300000</td>\n",
       "      <td>1014.333333</td>\n",
       "      <td>2017</td>\n",
       "      <td>1</td>\n",
       "    </tr>\n",
       "  </tbody>\n",
       "</table>\n",
       "</div>"
      ],
      "text/plain": [
       "          ds          y   humidity  wind_speed  meanpressure  year  month\n",
       "0 2017-01-01  15.913043  85.869565    2.743478     59.000000  2017      1\n",
       "1 2017-01-02  18.500000  77.222222    2.894444   1018.277778  2017      1\n",
       "2 2017-01-03  17.111111  81.888889    4.016667   1018.333333  2017      1\n",
       "3 2017-01-04  18.700000  70.050000    4.545000   1015.700000  2017      1\n",
       "4 2017-01-05  18.388889  74.944444    3.300000   1014.333333  2017      1"
      ]
     },
     "execution_count": 24,
     "metadata": {},
     "output_type": "execute_result"
    }
   ],
   "source": [
    "forecast_data.head()"
   ]
  },
  {
   "cell_type": "code",
   "execution_count": 25,
   "id": "77336ff3",
   "metadata": {},
   "outputs": [
    {
     "name": "stderr",
     "output_type": "stream",
     "text": [
      "d:\\Python\\Data_Analysis\\venv\\Lib\\site-packages\\tqdm\\auto.py:21: TqdmWarning:\n",
      "\n",
      "IProgress not found. Please update jupyter and ipywidgets. See https://ipywidgets.readthedocs.io/en/stable/user_install.html\n",
      "\n",
      "15:39:11 - cmdstanpy - INFO - Chain [1] start processing\n",
      "15:39:11 - cmdstanpy - INFO - Chain [1] done processing\n"
     ]
    },
    {
     "data": {
      "application/vnd.plotly.v1+json": {
       "config": {
        "plotlyServerURL": "https://plot.ly"
       },
       "data": [
        {
         "marker": {
          "color": "black",
          "size": 4
         },
         "mode": "markers",
         "name": "Actual",
         "type": "scatter",
         "x": [
          "2017-01-01T00:00:00.000000000",
          "2017-01-02T00:00:00.000000000",
          "2017-01-03T00:00:00.000000000",
          "2017-01-04T00:00:00.000000000",
          "2017-01-05T00:00:00.000000000",
          "2017-01-06T00:00:00.000000000",
          "2017-01-07T00:00:00.000000000",
          "2017-01-08T00:00:00.000000000",
          "2017-01-09T00:00:00.000000000",
          "2017-01-10T00:00:00.000000000",
          "2017-01-11T00:00:00.000000000",
          "2017-01-12T00:00:00.000000000",
          "2017-01-13T00:00:00.000000000",
          "2017-01-14T00:00:00.000000000",
          "2017-01-15T00:00:00.000000000",
          "2017-01-16T00:00:00.000000000",
          "2017-01-17T00:00:00.000000000",
          "2017-01-18T00:00:00.000000000",
          "2017-01-19T00:00:00.000000000",
          "2017-01-20T00:00:00.000000000",
          "2017-01-21T00:00:00.000000000",
          "2017-01-22T00:00:00.000000000",
          "2017-01-23T00:00:00.000000000",
          "2017-01-24T00:00:00.000000000",
          "2017-01-25T00:00:00.000000000",
          "2017-01-26T00:00:00.000000000",
          "2017-01-27T00:00:00.000000000",
          "2017-01-28T00:00:00.000000000",
          "2017-01-29T00:00:00.000000000",
          "2017-01-30T00:00:00.000000000",
          "2017-01-31T00:00:00.000000000",
          "2017-02-01T00:00:00.000000000",
          "2017-02-02T00:00:00.000000000",
          "2017-02-03T00:00:00.000000000",
          "2017-02-04T00:00:00.000000000",
          "2017-02-05T00:00:00.000000000",
          "2017-02-06T00:00:00.000000000",
          "2017-02-07T00:00:00.000000000",
          "2017-02-08T00:00:00.000000000",
          "2017-02-09T00:00:00.000000000",
          "2017-02-10T00:00:00.000000000",
          "2017-02-11T00:00:00.000000000",
          "2017-02-12T00:00:00.000000000",
          "2017-02-13T00:00:00.000000000",
          "2017-02-14T00:00:00.000000000",
          "2017-02-15T00:00:00.000000000",
          "2017-02-16T00:00:00.000000000",
          "2017-02-17T00:00:00.000000000",
          "2017-02-18T00:00:00.000000000",
          "2017-02-19T00:00:00.000000000",
          "2017-02-20T00:00:00.000000000",
          "2017-02-21T00:00:00.000000000",
          "2017-02-22T00:00:00.000000000",
          "2017-02-23T00:00:00.000000000",
          "2017-02-24T00:00:00.000000000",
          "2017-02-25T00:00:00.000000000",
          "2017-02-26T00:00:00.000000000",
          "2017-02-27T00:00:00.000000000",
          "2017-02-28T00:00:00.000000000",
          "2017-03-01T00:00:00.000000000",
          "2017-03-02T00:00:00.000000000",
          "2017-03-03T00:00:00.000000000",
          "2017-03-04T00:00:00.000000000",
          "2017-03-05T00:00:00.000000000",
          "2017-03-06T00:00:00.000000000",
          "2017-03-07T00:00:00.000000000",
          "2017-03-08T00:00:00.000000000",
          "2017-03-09T00:00:00.000000000",
          "2017-03-10T00:00:00.000000000",
          "2017-03-11T00:00:00.000000000",
          "2017-03-12T00:00:00.000000000",
          "2017-03-13T00:00:00.000000000",
          "2017-03-14T00:00:00.000000000",
          "2017-03-15T00:00:00.000000000",
          "2017-03-16T00:00:00.000000000",
          "2017-03-17T00:00:00.000000000",
          "2017-03-18T00:00:00.000000000",
          "2017-03-19T00:00:00.000000000",
          "2017-03-20T00:00:00.000000000",
          "2017-03-21T00:00:00.000000000",
          "2017-03-22T00:00:00.000000000",
          "2017-03-23T00:00:00.000000000",
          "2017-03-24T00:00:00.000000000",
          "2017-03-25T00:00:00.000000000",
          "2017-03-26T00:00:00.000000000",
          "2017-03-27T00:00:00.000000000",
          "2017-03-28T00:00:00.000000000",
          "2017-03-29T00:00:00.000000000",
          "2017-03-30T00:00:00.000000000",
          "2017-03-31T00:00:00.000000000",
          "2017-04-01T00:00:00.000000000",
          "2017-04-02T00:00:00.000000000",
          "2017-04-03T00:00:00.000000000",
          "2017-04-04T00:00:00.000000000",
          "2017-04-05T00:00:00.000000000",
          "2017-04-06T00:00:00.000000000",
          "2017-04-07T00:00:00.000000000",
          "2017-04-08T00:00:00.000000000",
          "2017-04-09T00:00:00.000000000",
          "2017-04-10T00:00:00.000000000",
          "2017-04-11T00:00:00.000000000",
          "2017-04-12T00:00:00.000000000",
          "2017-04-13T00:00:00.000000000",
          "2017-04-14T00:00:00.000000000",
          "2017-04-15T00:00:00.000000000",
          "2017-04-16T00:00:00.000000000",
          "2017-04-17T00:00:00.000000000",
          "2017-04-18T00:00:00.000000000",
          "2017-04-19T00:00:00.000000000",
          "2017-04-20T00:00:00.000000000",
          "2017-04-21T00:00:00.000000000",
          "2017-04-22T00:00:00.000000000",
          "2017-04-23T00:00:00.000000000",
          "2017-04-24T00:00:00.000000000"
         ],
         "y": {
          "bdata": "velNb3rTL0AAAAAAAIAyQMdxHMdxHDFAMzMzMzOzMkA5juM4jmMyQNFFF110UTNAq6qqqqpqLUDlNZTXUF4vQEmSJEmSJC1AjuM4juM4KEAAAAAAAAAmQEN5DeU1lCdAeHh4eHh4KkBmZmZmZmYqQKc3velNbzBAzczMzMxMLUAbx3Ecx3EnQFVVVVVVFSpA0PM8z/M8LUBsKK+hvIYuQC1kIQtZyC5AcT0K16NwMkAeHh4eHh4yQIYsZCELWTJAAAAAAAAANUDbtm3bti0wQAAAAAAAgDBAuuiiiy66LUBVVVVVVVUvQBzHcRzHcTBAAAAAAAAgMEAAAAAAAIAuQBdddNFFFzFARhdddNFFL0AzMzMzM7MyQBvKayivoTJAOY7jOI7jMEAAAAAAAEAuQGZmZmZmZi9AAAAAAADALkBVVVVVVVUtQAAAAAAAQC9AAAAAAABAMEBVVVVVVVUwQAAAAAAA4DBAJUmSJEmSMUAAAAAAAEA0QM3MzMzMTDVAAAAAAAAgNUBddNFFF102QAAAAAAAYDdAVFVVVVXVNUAAAAAAACAzQAAAAAAAoDJAAAAAAAAgM0AAAAAAAAAzQAAAAAAAwDJAAAAAAADgM0BUVVVVVVU3QGIndmIndjhAAAAAAADAN0AAAAAAAIA0QAAAAAAAIDNAAAAAAADAM0AAAAAAAAA0QAAAAAAAoDZAjC666KKLNUCSJEmSJMk0QAAAAAAA8DNAiIiIiIiIMkAAAAAAAGAxQBzHcRzHcTFAAAAAAAAAMkAAAAAAAOAzQAAAAAAAADhAZmZmZmbmNEAUO7ETO7E4QKuqqqqqqjhAVFVVVVVVN0AAAAAAAAA5QAAAAAAAQDtAAAAAAAAAPECrqqqqquo8QAAAAAAAgDpAmpmZmZkZPUAAAAAAAIA9QDmO4ziO4z1AAAAAAAAAP0CSJEmSJEk9QAAAAAAAoD5AAAAAAABgP0AAAAAAAMA9QAAAAAAAgD5A7+7u7u7uPkCxEzuxEzs9QI7jOI7jOD9AAAAAAAAAO0AAAAAAAKA5QAAAAAAAIDtAt23btm3bO0AAAAAAAEA9QAAAAAAAQD1Aq6qqqqqqPUAAAAAAAIA+QI7jOI7jOD9AAAAAAAAAP0ByHMdxHEdAQAAAAAAAAEFAAAAAAADAQEAAAAAAAEBBQAAAAAAAIEFAMzMzMzNzQEAAAAAAAHBAQAAAAAAAAEBA",
          "dtype": "f8"
         }
        },
        {
         "hoverinfo": "skip",
         "line": {
          "width": 0
         },
         "mode": "lines",
         "type": "scatter",
         "x": [
          "2017-01-01T00:00:00.000000000",
          "2017-01-02T00:00:00.000000000",
          "2017-01-03T00:00:00.000000000",
          "2017-01-04T00:00:00.000000000",
          "2017-01-05T00:00:00.000000000",
          "2017-01-06T00:00:00.000000000",
          "2017-01-07T00:00:00.000000000",
          "2017-01-08T00:00:00.000000000",
          "2017-01-09T00:00:00.000000000",
          "2017-01-10T00:00:00.000000000",
          "2017-01-11T00:00:00.000000000",
          "2017-01-12T00:00:00.000000000",
          "2017-01-13T00:00:00.000000000",
          "2017-01-14T00:00:00.000000000",
          "2017-01-15T00:00:00.000000000",
          "2017-01-16T00:00:00.000000000",
          "2017-01-17T00:00:00.000000000",
          "2017-01-18T00:00:00.000000000",
          "2017-01-19T00:00:00.000000000",
          "2017-01-20T00:00:00.000000000",
          "2017-01-21T00:00:00.000000000",
          "2017-01-22T00:00:00.000000000",
          "2017-01-23T00:00:00.000000000",
          "2017-01-24T00:00:00.000000000",
          "2017-01-25T00:00:00.000000000",
          "2017-01-26T00:00:00.000000000",
          "2017-01-27T00:00:00.000000000",
          "2017-01-28T00:00:00.000000000",
          "2017-01-29T00:00:00.000000000",
          "2017-01-30T00:00:00.000000000",
          "2017-01-31T00:00:00.000000000",
          "2017-02-01T00:00:00.000000000",
          "2017-02-02T00:00:00.000000000",
          "2017-02-03T00:00:00.000000000",
          "2017-02-04T00:00:00.000000000",
          "2017-02-05T00:00:00.000000000",
          "2017-02-06T00:00:00.000000000",
          "2017-02-07T00:00:00.000000000",
          "2017-02-08T00:00:00.000000000",
          "2017-02-09T00:00:00.000000000",
          "2017-02-10T00:00:00.000000000",
          "2017-02-11T00:00:00.000000000",
          "2017-02-12T00:00:00.000000000",
          "2017-02-13T00:00:00.000000000",
          "2017-02-14T00:00:00.000000000",
          "2017-02-15T00:00:00.000000000",
          "2017-02-16T00:00:00.000000000",
          "2017-02-17T00:00:00.000000000",
          "2017-02-18T00:00:00.000000000",
          "2017-02-19T00:00:00.000000000",
          "2017-02-20T00:00:00.000000000",
          "2017-02-21T00:00:00.000000000",
          "2017-02-22T00:00:00.000000000",
          "2017-02-23T00:00:00.000000000",
          "2017-02-24T00:00:00.000000000",
          "2017-02-25T00:00:00.000000000",
          "2017-02-26T00:00:00.000000000",
          "2017-02-27T00:00:00.000000000",
          "2017-02-28T00:00:00.000000000",
          "2017-03-01T00:00:00.000000000",
          "2017-03-02T00:00:00.000000000",
          "2017-03-03T00:00:00.000000000",
          "2017-03-04T00:00:00.000000000",
          "2017-03-05T00:00:00.000000000",
          "2017-03-06T00:00:00.000000000",
          "2017-03-07T00:00:00.000000000",
          "2017-03-08T00:00:00.000000000",
          "2017-03-09T00:00:00.000000000",
          "2017-03-10T00:00:00.000000000",
          "2017-03-11T00:00:00.000000000",
          "2017-03-12T00:00:00.000000000",
          "2017-03-13T00:00:00.000000000",
          "2017-03-14T00:00:00.000000000",
          "2017-03-15T00:00:00.000000000",
          "2017-03-16T00:00:00.000000000",
          "2017-03-17T00:00:00.000000000",
          "2017-03-18T00:00:00.000000000",
          "2017-03-19T00:00:00.000000000",
          "2017-03-20T00:00:00.000000000",
          "2017-03-21T00:00:00.000000000",
          "2017-03-22T00:00:00.000000000",
          "2017-03-23T00:00:00.000000000",
          "2017-03-24T00:00:00.000000000",
          "2017-03-25T00:00:00.000000000",
          "2017-03-26T00:00:00.000000000",
          "2017-03-27T00:00:00.000000000",
          "2017-03-28T00:00:00.000000000",
          "2017-03-29T00:00:00.000000000",
          "2017-03-30T00:00:00.000000000",
          "2017-03-31T00:00:00.000000000",
          "2017-04-01T00:00:00.000000000",
          "2017-04-02T00:00:00.000000000",
          "2017-04-03T00:00:00.000000000",
          "2017-04-04T00:00:00.000000000",
          "2017-04-05T00:00:00.000000000",
          "2017-04-06T00:00:00.000000000",
          "2017-04-07T00:00:00.000000000",
          "2017-04-08T00:00:00.000000000",
          "2017-04-09T00:00:00.000000000",
          "2017-04-10T00:00:00.000000000",
          "2017-04-11T00:00:00.000000000",
          "2017-04-12T00:00:00.000000000",
          "2017-04-13T00:00:00.000000000",
          "2017-04-14T00:00:00.000000000",
          "2017-04-15T00:00:00.000000000",
          "2017-04-16T00:00:00.000000000",
          "2017-04-17T00:00:00.000000000",
          "2017-04-18T00:00:00.000000000",
          "2017-04-19T00:00:00.000000000",
          "2017-04-20T00:00:00.000000000",
          "2017-04-21T00:00:00.000000000",
          "2017-04-22T00:00:00.000000000",
          "2017-04-23T00:00:00.000000000",
          "2017-04-24T00:00:00.000000000",
          "2017-04-25T00:00:00.000000000",
          "2017-04-26T00:00:00.000000000",
          "2017-04-27T00:00:00.000000000",
          "2017-04-28T00:00:00.000000000",
          "2017-04-29T00:00:00.000000000",
          "2017-04-30T00:00:00.000000000",
          "2017-05-01T00:00:00.000000000",
          "2017-05-02T00:00:00.000000000",
          "2017-05-03T00:00:00.000000000",
          "2017-05-04T00:00:00.000000000",
          "2017-05-05T00:00:00.000000000",
          "2017-05-06T00:00:00.000000000",
          "2017-05-07T00:00:00.000000000",
          "2017-05-08T00:00:00.000000000",
          "2017-05-09T00:00:00.000000000",
          "2017-05-10T00:00:00.000000000",
          "2017-05-11T00:00:00.000000000",
          "2017-05-12T00:00:00.000000000",
          "2017-05-13T00:00:00.000000000",
          "2017-05-14T00:00:00.000000000",
          "2017-05-15T00:00:00.000000000",
          "2017-05-16T00:00:00.000000000",
          "2017-05-17T00:00:00.000000000",
          "2017-05-18T00:00:00.000000000",
          "2017-05-19T00:00:00.000000000",
          "2017-05-20T00:00:00.000000000",
          "2017-05-21T00:00:00.000000000",
          "2017-05-22T00:00:00.000000000",
          "2017-05-23T00:00:00.000000000",
          "2017-05-24T00:00:00.000000000",
          "2017-05-25T00:00:00.000000000",
          "2017-05-26T00:00:00.000000000",
          "2017-05-27T00:00:00.000000000",
          "2017-05-28T00:00:00.000000000",
          "2017-05-29T00:00:00.000000000",
          "2017-05-30T00:00:00.000000000",
          "2017-05-31T00:00:00.000000000",
          "2017-06-01T00:00:00.000000000",
          "2017-06-02T00:00:00.000000000",
          "2017-06-03T00:00:00.000000000",
          "2017-06-04T00:00:00.000000000",
          "2017-06-05T00:00:00.000000000",
          "2017-06-06T00:00:00.000000000",
          "2017-06-07T00:00:00.000000000",
          "2017-06-08T00:00:00.000000000",
          "2017-06-09T00:00:00.000000000",
          "2017-06-10T00:00:00.000000000",
          "2017-06-11T00:00:00.000000000",
          "2017-06-12T00:00:00.000000000",
          "2017-06-13T00:00:00.000000000",
          "2017-06-14T00:00:00.000000000",
          "2017-06-15T00:00:00.000000000",
          "2017-06-16T00:00:00.000000000",
          "2017-06-17T00:00:00.000000000",
          "2017-06-18T00:00:00.000000000",
          "2017-06-19T00:00:00.000000000",
          "2017-06-20T00:00:00.000000000",
          "2017-06-21T00:00:00.000000000",
          "2017-06-22T00:00:00.000000000",
          "2017-06-23T00:00:00.000000000",
          "2017-06-24T00:00:00.000000000",
          "2017-06-25T00:00:00.000000000",
          "2017-06-26T00:00:00.000000000",
          "2017-06-27T00:00:00.000000000",
          "2017-06-28T00:00:00.000000000",
          "2017-06-29T00:00:00.000000000",
          "2017-06-30T00:00:00.000000000",
          "2017-07-01T00:00:00.000000000",
          "2017-07-02T00:00:00.000000000",
          "2017-07-03T00:00:00.000000000",
          "2017-07-04T00:00:00.000000000",
          "2017-07-05T00:00:00.000000000",
          "2017-07-06T00:00:00.000000000",
          "2017-07-07T00:00:00.000000000",
          "2017-07-08T00:00:00.000000000",
          "2017-07-09T00:00:00.000000000",
          "2017-07-10T00:00:00.000000000",
          "2017-07-11T00:00:00.000000000",
          "2017-07-12T00:00:00.000000000",
          "2017-07-13T00:00:00.000000000",
          "2017-07-14T00:00:00.000000000",
          "2017-07-15T00:00:00.000000000",
          "2017-07-16T00:00:00.000000000",
          "2017-07-17T00:00:00.000000000",
          "2017-07-18T00:00:00.000000000",
          "2017-07-19T00:00:00.000000000",
          "2017-07-20T00:00:00.000000000",
          "2017-07-21T00:00:00.000000000",
          "2017-07-22T00:00:00.000000000",
          "2017-07-23T00:00:00.000000000",
          "2017-07-24T00:00:00.000000000",
          "2017-07-25T00:00:00.000000000",
          "2017-07-26T00:00:00.000000000",
          "2017-07-27T00:00:00.000000000",
          "2017-07-28T00:00:00.000000000",
          "2017-07-29T00:00:00.000000000",
          "2017-07-30T00:00:00.000000000",
          "2017-07-31T00:00:00.000000000",
          "2017-08-01T00:00:00.000000000",
          "2017-08-02T00:00:00.000000000",
          "2017-08-03T00:00:00.000000000",
          "2017-08-04T00:00:00.000000000",
          "2017-08-05T00:00:00.000000000",
          "2017-08-06T00:00:00.000000000",
          "2017-08-07T00:00:00.000000000",
          "2017-08-08T00:00:00.000000000",
          "2017-08-09T00:00:00.000000000",
          "2017-08-10T00:00:00.000000000",
          "2017-08-11T00:00:00.000000000",
          "2017-08-12T00:00:00.000000000",
          "2017-08-13T00:00:00.000000000",
          "2017-08-14T00:00:00.000000000",
          "2017-08-15T00:00:00.000000000",
          "2017-08-16T00:00:00.000000000",
          "2017-08-17T00:00:00.000000000",
          "2017-08-18T00:00:00.000000000",
          "2017-08-19T00:00:00.000000000",
          "2017-08-20T00:00:00.000000000",
          "2017-08-21T00:00:00.000000000",
          "2017-08-22T00:00:00.000000000",
          "2017-08-23T00:00:00.000000000",
          "2017-08-24T00:00:00.000000000",
          "2017-08-25T00:00:00.000000000",
          "2017-08-26T00:00:00.000000000",
          "2017-08-27T00:00:00.000000000",
          "2017-08-28T00:00:00.000000000",
          "2017-08-29T00:00:00.000000000",
          "2017-08-30T00:00:00.000000000",
          "2017-08-31T00:00:00.000000000",
          "2017-09-01T00:00:00.000000000",
          "2017-09-02T00:00:00.000000000",
          "2017-09-03T00:00:00.000000000",
          "2017-09-04T00:00:00.000000000",
          "2017-09-05T00:00:00.000000000",
          "2017-09-06T00:00:00.000000000",
          "2017-09-07T00:00:00.000000000",
          "2017-09-08T00:00:00.000000000",
          "2017-09-09T00:00:00.000000000",
          "2017-09-10T00:00:00.000000000",
          "2017-09-11T00:00:00.000000000",
          "2017-09-12T00:00:00.000000000",
          "2017-09-13T00:00:00.000000000",
          "2017-09-14T00:00:00.000000000",
          "2017-09-15T00:00:00.000000000",
          "2017-09-16T00:00:00.000000000",
          "2017-09-17T00:00:00.000000000",
          "2017-09-18T00:00:00.000000000",
          "2017-09-19T00:00:00.000000000",
          "2017-09-20T00:00:00.000000000",
          "2017-09-21T00:00:00.000000000",
          "2017-09-22T00:00:00.000000000",
          "2017-09-23T00:00:00.000000000",
          "2017-09-24T00:00:00.000000000",
          "2017-09-25T00:00:00.000000000",
          "2017-09-26T00:00:00.000000000",
          "2017-09-27T00:00:00.000000000",
          "2017-09-28T00:00:00.000000000",
          "2017-09-29T00:00:00.000000000",
          "2017-09-30T00:00:00.000000000",
          "2017-10-01T00:00:00.000000000",
          "2017-10-02T00:00:00.000000000",
          "2017-10-03T00:00:00.000000000",
          "2017-10-04T00:00:00.000000000",
          "2017-10-05T00:00:00.000000000",
          "2017-10-06T00:00:00.000000000",
          "2017-10-07T00:00:00.000000000",
          "2017-10-08T00:00:00.000000000",
          "2017-10-09T00:00:00.000000000",
          "2017-10-10T00:00:00.000000000",
          "2017-10-11T00:00:00.000000000",
          "2017-10-12T00:00:00.000000000",
          "2017-10-13T00:00:00.000000000",
          "2017-10-14T00:00:00.000000000",
          "2017-10-15T00:00:00.000000000",
          "2017-10-16T00:00:00.000000000",
          "2017-10-17T00:00:00.000000000",
          "2017-10-18T00:00:00.000000000",
          "2017-10-19T00:00:00.000000000",
          "2017-10-20T00:00:00.000000000",
          "2017-10-21T00:00:00.000000000",
          "2017-10-22T00:00:00.000000000",
          "2017-10-23T00:00:00.000000000",
          "2017-10-24T00:00:00.000000000",
          "2017-10-25T00:00:00.000000000",
          "2017-10-26T00:00:00.000000000",
          "2017-10-27T00:00:00.000000000",
          "2017-10-28T00:00:00.000000000",
          "2017-10-29T00:00:00.000000000",
          "2017-10-30T00:00:00.000000000",
          "2017-10-31T00:00:00.000000000",
          "2017-11-01T00:00:00.000000000",
          "2017-11-02T00:00:00.000000000",
          "2017-11-03T00:00:00.000000000",
          "2017-11-04T00:00:00.000000000",
          "2017-11-05T00:00:00.000000000",
          "2017-11-06T00:00:00.000000000",
          "2017-11-07T00:00:00.000000000",
          "2017-11-08T00:00:00.000000000",
          "2017-11-09T00:00:00.000000000",
          "2017-11-10T00:00:00.000000000",
          "2017-11-11T00:00:00.000000000",
          "2017-11-12T00:00:00.000000000",
          "2017-11-13T00:00:00.000000000",
          "2017-11-14T00:00:00.000000000",
          "2017-11-15T00:00:00.000000000",
          "2017-11-16T00:00:00.000000000",
          "2017-11-17T00:00:00.000000000",
          "2017-11-18T00:00:00.000000000",
          "2017-11-19T00:00:00.000000000",
          "2017-11-20T00:00:00.000000000",
          "2017-11-21T00:00:00.000000000",
          "2017-11-22T00:00:00.000000000",
          "2017-11-23T00:00:00.000000000",
          "2017-11-24T00:00:00.000000000",
          "2017-11-25T00:00:00.000000000",
          "2017-11-26T00:00:00.000000000",
          "2017-11-27T00:00:00.000000000",
          "2017-11-28T00:00:00.000000000",
          "2017-11-29T00:00:00.000000000",
          "2017-11-30T00:00:00.000000000",
          "2017-12-01T00:00:00.000000000",
          "2017-12-02T00:00:00.000000000",
          "2017-12-03T00:00:00.000000000",
          "2017-12-04T00:00:00.000000000",
          "2017-12-05T00:00:00.000000000",
          "2017-12-06T00:00:00.000000000",
          "2017-12-07T00:00:00.000000000",
          "2017-12-08T00:00:00.000000000",
          "2017-12-09T00:00:00.000000000",
          "2017-12-10T00:00:00.000000000",
          "2017-12-11T00:00:00.000000000",
          "2017-12-12T00:00:00.000000000",
          "2017-12-13T00:00:00.000000000",
          "2017-12-14T00:00:00.000000000",
          "2017-12-15T00:00:00.000000000",
          "2017-12-16T00:00:00.000000000",
          "2017-12-17T00:00:00.000000000",
          "2017-12-18T00:00:00.000000000",
          "2017-12-19T00:00:00.000000000",
          "2017-12-20T00:00:00.000000000",
          "2017-12-21T00:00:00.000000000",
          "2017-12-22T00:00:00.000000000",
          "2017-12-23T00:00:00.000000000",
          "2017-12-24T00:00:00.000000000",
          "2017-12-25T00:00:00.000000000",
          "2017-12-26T00:00:00.000000000",
          "2017-12-27T00:00:00.000000000",
          "2017-12-28T00:00:00.000000000",
          "2017-12-29T00:00:00.000000000",
          "2017-12-30T00:00:00.000000000",
          "2017-12-31T00:00:00.000000000",
          "2018-01-01T00:00:00.000000000",
          "2018-01-02T00:00:00.000000000",
          "2018-01-03T00:00:00.000000000",
          "2018-01-04T00:00:00.000000000",
          "2018-01-05T00:00:00.000000000",
          "2018-01-06T00:00:00.000000000",
          "2018-01-07T00:00:00.000000000",
          "2018-01-08T00:00:00.000000000",
          "2018-01-09T00:00:00.000000000",
          "2018-01-10T00:00:00.000000000",
          "2018-01-11T00:00:00.000000000",
          "2018-01-12T00:00:00.000000000",
          "2018-01-13T00:00:00.000000000",
          "2018-01-14T00:00:00.000000000",
          "2018-01-15T00:00:00.000000000",
          "2018-01-16T00:00:00.000000000",
          "2018-01-17T00:00:00.000000000",
          "2018-01-18T00:00:00.000000000",
          "2018-01-19T00:00:00.000000000",
          "2018-01-20T00:00:00.000000000",
          "2018-01-21T00:00:00.000000000",
          "2018-01-22T00:00:00.000000000",
          "2018-01-23T00:00:00.000000000",
          "2018-01-24T00:00:00.000000000",
          "2018-01-25T00:00:00.000000000",
          "2018-01-26T00:00:00.000000000",
          "2018-01-27T00:00:00.000000000",
          "2018-01-28T00:00:00.000000000",
          "2018-01-29T00:00:00.000000000",
          "2018-01-30T00:00:00.000000000",
          "2018-01-31T00:00:00.000000000",
          "2018-02-01T00:00:00.000000000",
          "2018-02-02T00:00:00.000000000",
          "2018-02-03T00:00:00.000000000",
          "2018-02-04T00:00:00.000000000",
          "2018-02-05T00:00:00.000000000",
          "2018-02-06T00:00:00.000000000",
          "2018-02-07T00:00:00.000000000",
          "2018-02-08T00:00:00.000000000",
          "2018-02-09T00:00:00.000000000",
          "2018-02-10T00:00:00.000000000",
          "2018-02-11T00:00:00.000000000",
          "2018-02-12T00:00:00.000000000",
          "2018-02-13T00:00:00.000000000",
          "2018-02-14T00:00:00.000000000",
          "2018-02-15T00:00:00.000000000",
          "2018-02-16T00:00:00.000000000",
          "2018-02-17T00:00:00.000000000",
          "2018-02-18T00:00:00.000000000",
          "2018-02-19T00:00:00.000000000",
          "2018-02-20T00:00:00.000000000",
          "2018-02-21T00:00:00.000000000",
          "2018-02-22T00:00:00.000000000",
          "2018-02-23T00:00:00.000000000",
          "2018-02-24T00:00:00.000000000",
          "2018-02-25T00:00:00.000000000",
          "2018-02-26T00:00:00.000000000",
          "2018-02-27T00:00:00.000000000",
          "2018-02-28T00:00:00.000000000",
          "2018-03-01T00:00:00.000000000",
          "2018-03-02T00:00:00.000000000",
          "2018-03-03T00:00:00.000000000",
          "2018-03-04T00:00:00.000000000",
          "2018-03-05T00:00:00.000000000",
          "2018-03-06T00:00:00.000000000",
          "2018-03-07T00:00:00.000000000",
          "2018-03-08T00:00:00.000000000",
          "2018-03-09T00:00:00.000000000",
          "2018-03-10T00:00:00.000000000",
          "2018-03-11T00:00:00.000000000",
          "2018-03-12T00:00:00.000000000",
          "2018-03-13T00:00:00.000000000",
          "2018-03-14T00:00:00.000000000",
          "2018-03-15T00:00:00.000000000",
          "2018-03-16T00:00:00.000000000",
          "2018-03-17T00:00:00.000000000",
          "2018-03-18T00:00:00.000000000",
          "2018-03-19T00:00:00.000000000",
          "2018-03-20T00:00:00.000000000",
          "2018-03-21T00:00:00.000000000",
          "2018-03-22T00:00:00.000000000",
          "2018-03-23T00:00:00.000000000",
          "2018-03-24T00:00:00.000000000",
          "2018-03-25T00:00:00.000000000",
          "2018-03-26T00:00:00.000000000",
          "2018-03-27T00:00:00.000000000",
          "2018-03-28T00:00:00.000000000",
          "2018-03-29T00:00:00.000000000",
          "2018-03-30T00:00:00.000000000",
          "2018-03-31T00:00:00.000000000",
          "2018-04-01T00:00:00.000000000",
          "2018-04-02T00:00:00.000000000",
          "2018-04-03T00:00:00.000000000",
          "2018-04-04T00:00:00.000000000",
          "2018-04-05T00:00:00.000000000",
          "2018-04-06T00:00:00.000000000",
          "2018-04-07T00:00:00.000000000",
          "2018-04-08T00:00:00.000000000",
          "2018-04-09T00:00:00.000000000",
          "2018-04-10T00:00:00.000000000",
          "2018-04-11T00:00:00.000000000",
          "2018-04-12T00:00:00.000000000",
          "2018-04-13T00:00:00.000000000",
          "2018-04-14T00:00:00.000000000",
          "2018-04-15T00:00:00.000000000",
          "2018-04-16T00:00:00.000000000",
          "2018-04-17T00:00:00.000000000",
          "2018-04-18T00:00:00.000000000",
          "2018-04-19T00:00:00.000000000",
          "2018-04-20T00:00:00.000000000",
          "2018-04-21T00:00:00.000000000",
          "2018-04-22T00:00:00.000000000",
          "2018-04-23T00:00:00.000000000",
          "2018-04-24T00:00:00.000000000"
         ],
         "y": {
          "bdata": "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",
          "dtype": "f8"
         }
        },
        {
         "fill": "tonexty",
         "fillcolor": "rgba(0, 114, 178, 0.2)",
         "line": {
          "color": "#0072B2",
          "width": 2
         },
         "mode": "lines",
         "name": "Predicted",
         "type": "scatter",
         "x": [
          "2017-01-01T00:00:00.000000000",
          "2017-01-02T00:00:00.000000000",
          "2017-01-03T00:00:00.000000000",
          "2017-01-04T00:00:00.000000000",
          "2017-01-05T00:00:00.000000000",
          "2017-01-06T00:00:00.000000000",
          "2017-01-07T00:00:00.000000000",
          "2017-01-08T00:00:00.000000000",
          "2017-01-09T00:00:00.000000000",
          "2017-01-10T00:00:00.000000000",
          "2017-01-11T00:00:00.000000000",
          "2017-01-12T00:00:00.000000000",
          "2017-01-13T00:00:00.000000000",
          "2017-01-14T00:00:00.000000000",
          "2017-01-15T00:00:00.000000000",
          "2017-01-16T00:00:00.000000000",
          "2017-01-17T00:00:00.000000000",
          "2017-01-18T00:00:00.000000000",
          "2017-01-19T00:00:00.000000000",
          "2017-01-20T00:00:00.000000000",
          "2017-01-21T00:00:00.000000000",
          "2017-01-22T00:00:00.000000000",
          "2017-01-23T00:00:00.000000000",
          "2017-01-24T00:00:00.000000000",
          "2017-01-25T00:00:00.000000000",
          "2017-01-26T00:00:00.000000000",
          "2017-01-27T00:00:00.000000000",
          "2017-01-28T00:00:00.000000000",
          "2017-01-29T00:00:00.000000000",
          "2017-01-30T00:00:00.000000000",
          "2017-01-31T00:00:00.000000000",
          "2017-02-01T00:00:00.000000000",
          "2017-02-02T00:00:00.000000000",
          "2017-02-03T00:00:00.000000000",
          "2017-02-04T00:00:00.000000000",
          "2017-02-05T00:00:00.000000000",
          "2017-02-06T00:00:00.000000000",
          "2017-02-07T00:00:00.000000000",
          "2017-02-08T00:00:00.000000000",
          "2017-02-09T00:00:00.000000000",
          "2017-02-10T00:00:00.000000000",
          "2017-02-11T00:00:00.000000000",
          "2017-02-12T00:00:00.000000000",
          "2017-02-13T00:00:00.000000000",
          "2017-02-14T00:00:00.000000000",
          "2017-02-15T00:00:00.000000000",
          "2017-02-16T00:00:00.000000000",
          "2017-02-17T00:00:00.000000000",
          "2017-02-18T00:00:00.000000000",
          "2017-02-19T00:00:00.000000000",
          "2017-02-20T00:00:00.000000000",
          "2017-02-21T00:00:00.000000000",
          "2017-02-22T00:00:00.000000000",
          "2017-02-23T00:00:00.000000000",
          "2017-02-24T00:00:00.000000000",
          "2017-02-25T00:00:00.000000000",
          "2017-02-26T00:00:00.000000000",
          "2017-02-27T00:00:00.000000000",
          "2017-02-28T00:00:00.000000000",
          "2017-03-01T00:00:00.000000000",
          "2017-03-02T00:00:00.000000000",
          "2017-03-03T00:00:00.000000000",
          "2017-03-04T00:00:00.000000000",
          "2017-03-05T00:00:00.000000000",
          "2017-03-06T00:00:00.000000000",
          "2017-03-07T00:00:00.000000000",
          "2017-03-08T00:00:00.000000000",
          "2017-03-09T00:00:00.000000000",
          "2017-03-10T00:00:00.000000000",
          "2017-03-11T00:00:00.000000000",
          "2017-03-12T00:00:00.000000000",
          "2017-03-13T00:00:00.000000000",
          "2017-03-14T00:00:00.000000000",
          "2017-03-15T00:00:00.000000000",
          "2017-03-16T00:00:00.000000000",
          "2017-03-17T00:00:00.000000000",
          "2017-03-18T00:00:00.000000000",
          "2017-03-19T00:00:00.000000000",
          "2017-03-20T00:00:00.000000000",
          "2017-03-21T00:00:00.000000000",
          "2017-03-22T00:00:00.000000000",
          "2017-03-23T00:00:00.000000000",
          "2017-03-24T00:00:00.000000000",
          "2017-03-25T00:00:00.000000000",
          "2017-03-26T00:00:00.000000000",
          "2017-03-27T00:00:00.000000000",
          "2017-03-28T00:00:00.000000000",
          "2017-03-29T00:00:00.000000000",
          "2017-03-30T00:00:00.000000000",
          "2017-03-31T00:00:00.000000000",
          "2017-04-01T00:00:00.000000000",
          "2017-04-02T00:00:00.000000000",
          "2017-04-03T00:00:00.000000000",
          "2017-04-04T00:00:00.000000000",
          "2017-04-05T00:00:00.000000000",
          "2017-04-06T00:00:00.000000000",
          "2017-04-07T00:00:00.000000000",
          "2017-04-08T00:00:00.000000000",
          "2017-04-09T00:00:00.000000000",
          "2017-04-10T00:00:00.000000000",
          "2017-04-11T00:00:00.000000000",
          "2017-04-12T00:00:00.000000000",
          "2017-04-13T00:00:00.000000000",
          "2017-04-14T00:00:00.000000000",
          "2017-04-15T00:00:00.000000000",
          "2017-04-16T00:00:00.000000000",
          "2017-04-17T00:00:00.000000000",
          "2017-04-18T00:00:00.000000000",
          "2017-04-19T00:00:00.000000000",
          "2017-04-20T00:00:00.000000000",
          "2017-04-21T00:00:00.000000000",
          "2017-04-22T00:00:00.000000000",
          "2017-04-23T00:00:00.000000000",
          "2017-04-24T00:00:00.000000000",
          "2017-04-25T00:00:00.000000000",
          "2017-04-26T00:00:00.000000000",
          "2017-04-27T00:00:00.000000000",
          "2017-04-28T00:00:00.000000000",
          "2017-04-29T00:00:00.000000000",
          "2017-04-30T00:00:00.000000000",
          "2017-05-01T00:00:00.000000000",
          "2017-05-02T00:00:00.000000000",
          "2017-05-03T00:00:00.000000000",
          "2017-05-04T00:00:00.000000000",
          "2017-05-05T00:00:00.000000000",
          "2017-05-06T00:00:00.000000000",
          "2017-05-07T00:00:00.000000000",
          "2017-05-08T00:00:00.000000000",
          "2017-05-09T00:00:00.000000000",
          "2017-05-10T00:00:00.000000000",
          "2017-05-11T00:00:00.000000000",
          "2017-05-12T00:00:00.000000000",
          "2017-05-13T00:00:00.000000000",
          "2017-05-14T00:00:00.000000000",
          "2017-05-15T00:00:00.000000000",
          "2017-05-16T00:00:00.000000000",
          "2017-05-17T00:00:00.000000000",
          "2017-05-18T00:00:00.000000000",
          "2017-05-19T00:00:00.000000000",
          "2017-05-20T00:00:00.000000000",
          "2017-05-21T00:00:00.000000000",
          "2017-05-22T00:00:00.000000000",
          "2017-05-23T00:00:00.000000000",
          "2017-05-24T00:00:00.000000000",
          "2017-05-25T00:00:00.000000000",
          "2017-05-26T00:00:00.000000000",
          "2017-05-27T00:00:00.000000000",
          "2017-05-28T00:00:00.000000000",
          "2017-05-29T00:00:00.000000000",
          "2017-05-30T00:00:00.000000000",
          "2017-05-31T00:00:00.000000000",
          "2017-06-01T00:00:00.000000000",
          "2017-06-02T00:00:00.000000000",
          "2017-06-03T00:00:00.000000000",
          "2017-06-04T00:00:00.000000000",
          "2017-06-05T00:00:00.000000000",
          "2017-06-06T00:00:00.000000000",
          "2017-06-07T00:00:00.000000000",
          "2017-06-08T00:00:00.000000000",
          "2017-06-09T00:00:00.000000000",
          "2017-06-10T00:00:00.000000000",
          "2017-06-11T00:00:00.000000000",
          "2017-06-12T00:00:00.000000000",
          "2017-06-13T00:00:00.000000000",
          "2017-06-14T00:00:00.000000000",
          "2017-06-15T00:00:00.000000000",
          "2017-06-16T00:00:00.000000000",
          "2017-06-17T00:00:00.000000000",
          "2017-06-18T00:00:00.000000000",
          "2017-06-19T00:00:00.000000000",
          "2017-06-20T00:00:00.000000000",
          "2017-06-21T00:00:00.000000000",
          "2017-06-22T00:00:00.000000000",
          "2017-06-23T00:00:00.000000000",
          "2017-06-24T00:00:00.000000000",
          "2017-06-25T00:00:00.000000000",
          "2017-06-26T00:00:00.000000000",
          "2017-06-27T00:00:00.000000000",
          "2017-06-28T00:00:00.000000000",
          "2017-06-29T00:00:00.000000000",
          "2017-06-30T00:00:00.000000000",
          "2017-07-01T00:00:00.000000000",
          "2017-07-02T00:00:00.000000000",
          "2017-07-03T00:00:00.000000000",
          "2017-07-04T00:00:00.000000000",
          "2017-07-05T00:00:00.000000000",
          "2017-07-06T00:00:00.000000000",
          "2017-07-07T00:00:00.000000000",
          "2017-07-08T00:00:00.000000000",
          "2017-07-09T00:00:00.000000000",
          "2017-07-10T00:00:00.000000000",
          "2017-07-11T00:00:00.000000000",
          "2017-07-12T00:00:00.000000000",
          "2017-07-13T00:00:00.000000000",
          "2017-07-14T00:00:00.000000000",
          "2017-07-15T00:00:00.000000000",
          "2017-07-16T00:00:00.000000000",
          "2017-07-17T00:00:00.000000000",
          "2017-07-18T00:00:00.000000000",
          "2017-07-19T00:00:00.000000000",
          "2017-07-20T00:00:00.000000000",
          "2017-07-21T00:00:00.000000000",
          "2017-07-22T00:00:00.000000000",
          "2017-07-23T00:00:00.000000000",
          "2017-07-24T00:00:00.000000000",
          "2017-07-25T00:00:00.000000000",
          "2017-07-26T00:00:00.000000000",
          "2017-07-27T00:00:00.000000000",
          "2017-07-28T00:00:00.000000000",
          "2017-07-29T00:00:00.000000000",
          "2017-07-30T00:00:00.000000000",
          "2017-07-31T00:00:00.000000000",
          "2017-08-01T00:00:00.000000000",
          "2017-08-02T00:00:00.000000000",
          "2017-08-03T00:00:00.000000000",
          "2017-08-04T00:00:00.000000000",
          "2017-08-05T00:00:00.000000000",
          "2017-08-06T00:00:00.000000000",
          "2017-08-07T00:00:00.000000000",
          "2017-08-08T00:00:00.000000000",
          "2017-08-09T00:00:00.000000000",
          "2017-08-10T00:00:00.000000000",
          "2017-08-11T00:00:00.000000000",
          "2017-08-12T00:00:00.000000000",
          "2017-08-13T00:00:00.000000000",
          "2017-08-14T00:00:00.000000000",
          "2017-08-15T00:00:00.000000000",
          "2017-08-16T00:00:00.000000000",
          "2017-08-17T00:00:00.000000000",
          "2017-08-18T00:00:00.000000000",
          "2017-08-19T00:00:00.000000000",
          "2017-08-20T00:00:00.000000000",
          "2017-08-21T00:00:00.000000000",
          "2017-08-22T00:00:00.000000000",
          "2017-08-23T00:00:00.000000000",
          "2017-08-24T00:00:00.000000000",
          "2017-08-25T00:00:00.000000000",
          "2017-08-26T00:00:00.000000000",
          "2017-08-27T00:00:00.000000000",
          "2017-08-28T00:00:00.000000000",
          "2017-08-29T00:00:00.000000000",
          "2017-08-30T00:00:00.000000000",
          "2017-08-31T00:00:00.000000000",
          "2017-09-01T00:00:00.000000000",
          "2017-09-02T00:00:00.000000000",
          "2017-09-03T00:00:00.000000000",
          "2017-09-04T00:00:00.000000000",
          "2017-09-05T00:00:00.000000000",
          "2017-09-06T00:00:00.000000000",
          "2017-09-07T00:00:00.000000000",
          "2017-09-08T00:00:00.000000000",
          "2017-09-09T00:00:00.000000000",
          "2017-09-10T00:00:00.000000000",
          "2017-09-11T00:00:00.000000000",
          "2017-09-12T00:00:00.000000000",
          "2017-09-13T00:00:00.000000000",
          "2017-09-14T00:00:00.000000000",
          "2017-09-15T00:00:00.000000000",
          "2017-09-16T00:00:00.000000000",
          "2017-09-17T00:00:00.000000000",
          "2017-09-18T00:00:00.000000000",
          "2017-09-19T00:00:00.000000000",
          "2017-09-20T00:00:00.000000000",
          "2017-09-21T00:00:00.000000000",
          "2017-09-22T00:00:00.000000000",
          "2017-09-23T00:00:00.000000000",
          "2017-09-24T00:00:00.000000000",
          "2017-09-25T00:00:00.000000000",
          "2017-09-26T00:00:00.000000000",
          "2017-09-27T00:00:00.000000000",
          "2017-09-28T00:00:00.000000000",
          "2017-09-29T00:00:00.000000000",
          "2017-09-30T00:00:00.000000000",
          "2017-10-01T00:00:00.000000000",
          "2017-10-02T00:00:00.000000000",
          "2017-10-03T00:00:00.000000000",
          "2017-10-04T00:00:00.000000000",
          "2017-10-05T00:00:00.000000000",
          "2017-10-06T00:00:00.000000000",
          "2017-10-07T00:00:00.000000000",
          "2017-10-08T00:00:00.000000000",
          "2017-10-09T00:00:00.000000000",
          "2017-10-10T00:00:00.000000000",
          "2017-10-11T00:00:00.000000000",
          "2017-10-12T00:00:00.000000000",
          "2017-10-13T00:00:00.000000000",
          "2017-10-14T00:00:00.000000000",
          "2017-10-15T00:00:00.000000000",
          "2017-10-16T00:00:00.000000000",
          "2017-10-17T00:00:00.000000000",
          "2017-10-18T00:00:00.000000000",
          "2017-10-19T00:00:00.000000000",
          "2017-10-20T00:00:00.000000000",
          "2017-10-21T00:00:00.000000000",
          "2017-10-22T00:00:00.000000000",
          "2017-10-23T00:00:00.000000000",
          "2017-10-24T00:00:00.000000000",
          "2017-10-25T00:00:00.000000000",
          "2017-10-26T00:00:00.000000000",
          "2017-10-27T00:00:00.000000000",
          "2017-10-28T00:00:00.000000000",
          "2017-10-29T00:00:00.000000000",
          "2017-10-30T00:00:00.000000000",
          "2017-10-31T00:00:00.000000000",
          "2017-11-01T00:00:00.000000000",
          "2017-11-02T00:00:00.000000000",
          "2017-11-03T00:00:00.000000000",
          "2017-11-04T00:00:00.000000000",
          "2017-11-05T00:00:00.000000000",
          "2017-11-06T00:00:00.000000000",
          "2017-11-07T00:00:00.000000000",
          "2017-11-08T00:00:00.000000000",
          "2017-11-09T00:00:00.000000000",
          "2017-11-10T00:00:00.000000000",
          "2017-11-11T00:00:00.000000000",
          "2017-11-12T00:00:00.000000000",
          "2017-11-13T00:00:00.000000000",
          "2017-11-14T00:00:00.000000000",
          "2017-11-15T00:00:00.000000000",
          "2017-11-16T00:00:00.000000000",
          "2017-11-17T00:00:00.000000000",
          "2017-11-18T00:00:00.000000000",
          "2017-11-19T00:00:00.000000000",
          "2017-11-20T00:00:00.000000000",
          "2017-11-21T00:00:00.000000000",
          "2017-11-22T00:00:00.000000000",
          "2017-11-23T00:00:00.000000000",
          "2017-11-24T00:00:00.000000000",
          "2017-11-25T00:00:00.000000000",
          "2017-11-26T00:00:00.000000000",
          "2017-11-27T00:00:00.000000000",
          "2017-11-28T00:00:00.000000000",
          "2017-11-29T00:00:00.000000000",
          "2017-11-30T00:00:00.000000000",
          "2017-12-01T00:00:00.000000000",
          "2017-12-02T00:00:00.000000000",
          "2017-12-03T00:00:00.000000000",
          "2017-12-04T00:00:00.000000000",
          "2017-12-05T00:00:00.000000000",
          "2017-12-06T00:00:00.000000000",
          "2017-12-07T00:00:00.000000000",
          "2017-12-08T00:00:00.000000000",
          "2017-12-09T00:00:00.000000000",
          "2017-12-10T00:00:00.000000000",
          "2017-12-11T00:00:00.000000000",
          "2017-12-12T00:00:00.000000000",
          "2017-12-13T00:00:00.000000000",
          "2017-12-14T00:00:00.000000000",
          "2017-12-15T00:00:00.000000000",
          "2017-12-16T00:00:00.000000000",
          "2017-12-17T00:00:00.000000000",
          "2017-12-18T00:00:00.000000000",
          "2017-12-19T00:00:00.000000000",
          "2017-12-20T00:00:00.000000000",
          "2017-12-21T00:00:00.000000000",
          "2017-12-22T00:00:00.000000000",
          "2017-12-23T00:00:00.000000000",
          "2017-12-24T00:00:00.000000000",
          "2017-12-25T00:00:00.000000000",
          "2017-12-26T00:00:00.000000000",
          "2017-12-27T00:00:00.000000000",
          "2017-12-28T00:00:00.000000000",
          "2017-12-29T00:00:00.000000000",
          "2017-12-30T00:00:00.000000000",
          "2017-12-31T00:00:00.000000000",
          "2018-01-01T00:00:00.000000000",
          "2018-01-02T00:00:00.000000000",
          "2018-01-03T00:00:00.000000000",
          "2018-01-04T00:00:00.000000000",
          "2018-01-05T00:00:00.000000000",
          "2018-01-06T00:00:00.000000000",
          "2018-01-07T00:00:00.000000000",
          "2018-01-08T00:00:00.000000000",
          "2018-01-09T00:00:00.000000000",
          "2018-01-10T00:00:00.000000000",
          "2018-01-11T00:00:00.000000000",
          "2018-01-12T00:00:00.000000000",
          "2018-01-13T00:00:00.000000000",
          "2018-01-14T00:00:00.000000000",
          "2018-01-15T00:00:00.000000000",
          "2018-01-16T00:00:00.000000000",
          "2018-01-17T00:00:00.000000000",
          "2018-01-18T00:00:00.000000000",
          "2018-01-19T00:00:00.000000000",
          "2018-01-20T00:00:00.000000000",
          "2018-01-21T00:00:00.000000000",
          "2018-01-22T00:00:00.000000000",
          "2018-01-23T00:00:00.000000000",
          "2018-01-24T00:00:00.000000000",
          "2018-01-25T00:00:00.000000000",
          "2018-01-26T00:00:00.000000000",
          "2018-01-27T00:00:00.000000000",
          "2018-01-28T00:00:00.000000000",
          "2018-01-29T00:00:00.000000000",
          "2018-01-30T00:00:00.000000000",
          "2018-01-31T00:00:00.000000000",
          "2018-02-01T00:00:00.000000000",
          "2018-02-02T00:00:00.000000000",
          "2018-02-03T00:00:00.000000000",
          "2018-02-04T00:00:00.000000000",
          "2018-02-05T00:00:00.000000000",
          "2018-02-06T00:00:00.000000000",
          "2018-02-07T00:00:00.000000000",
          "2018-02-08T00:00:00.000000000",
          "2018-02-09T00:00:00.000000000",
          "2018-02-10T00:00:00.000000000",
          "2018-02-11T00:00:00.000000000",
          "2018-02-12T00:00:00.000000000",
          "2018-02-13T00:00:00.000000000",
          "2018-02-14T00:00:00.000000000",
          "2018-02-15T00:00:00.000000000",
          "2018-02-16T00:00:00.000000000",
          "2018-02-17T00:00:00.000000000",
          "2018-02-18T00:00:00.000000000",
          "2018-02-19T00:00:00.000000000",
          "2018-02-20T00:00:00.000000000",
          "2018-02-21T00:00:00.000000000",
          "2018-02-22T00:00:00.000000000",
          "2018-02-23T00:00:00.000000000",
          "2018-02-24T00:00:00.000000000",
          "2018-02-25T00:00:00.000000000",
          "2018-02-26T00:00:00.000000000",
          "2018-02-27T00:00:00.000000000",
          "2018-02-28T00:00:00.000000000",
          "2018-03-01T00:00:00.000000000",
          "2018-03-02T00:00:00.000000000",
          "2018-03-03T00:00:00.000000000",
          "2018-03-04T00:00:00.000000000",
          "2018-03-05T00:00:00.000000000",
          "2018-03-06T00:00:00.000000000",
          "2018-03-07T00:00:00.000000000",
          "2018-03-08T00:00:00.000000000",
          "2018-03-09T00:00:00.000000000",
          "2018-03-10T00:00:00.000000000",
          "2018-03-11T00:00:00.000000000",
          "2018-03-12T00:00:00.000000000",
          "2018-03-13T00:00:00.000000000",
          "2018-03-14T00:00:00.000000000",
          "2018-03-15T00:00:00.000000000",
          "2018-03-16T00:00:00.000000000",
          "2018-03-17T00:00:00.000000000",
          "2018-03-18T00:00:00.000000000",
          "2018-03-19T00:00:00.000000000",
          "2018-03-20T00:00:00.000000000",
          "2018-03-21T00:00:00.000000000",
          "2018-03-22T00:00:00.000000000",
          "2018-03-23T00:00:00.000000000",
          "2018-03-24T00:00:00.000000000",
          "2018-03-25T00:00:00.000000000",
          "2018-03-26T00:00:00.000000000",
          "2018-03-27T00:00:00.000000000",
          "2018-03-28T00:00:00.000000000",
          "2018-03-29T00:00:00.000000000",
          "2018-03-30T00:00:00.000000000",
          "2018-03-31T00:00:00.000000000",
          "2018-04-01T00:00:00.000000000",
          "2018-04-02T00:00:00.000000000",
          "2018-04-03T00:00:00.000000000",
          "2018-04-04T00:00:00.000000000",
          "2018-04-05T00:00:00.000000000",
          "2018-04-06T00:00:00.000000000",
          "2018-04-07T00:00:00.000000000",
          "2018-04-08T00:00:00.000000000",
          "2018-04-09T00:00:00.000000000",
          "2018-04-10T00:00:00.000000000",
          "2018-04-11T00:00:00.000000000",
          "2018-04-12T00:00:00.000000000",
          "2018-04-13T00:00:00.000000000",
          "2018-04-14T00:00:00.000000000",
          "2018-04-15T00:00:00.000000000",
          "2018-04-16T00:00:00.000000000",
          "2018-04-17T00:00:00.000000000",
          "2018-04-18T00:00:00.000000000",
          "2018-04-19T00:00:00.000000000",
          "2018-04-20T00:00:00.000000000",
          "2018-04-21T00:00:00.000000000",
          "2018-04-22T00:00:00.000000000",
          "2018-04-23T00:00:00.000000000",
          "2018-04-24T00:00:00.000000000"
         ],
         "y": {
          "bdata": "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",
          "dtype": "f8"
         }
        },
        {
         "fill": "tonexty",
         "fillcolor": "rgba(0, 114, 178, 0.2)",
         "hoverinfo": "skip",
         "line": {
          "width": 0
         },
         "mode": "lines",
         "type": "scatter",
         "x": [
          "2017-01-01T00:00:00.000000000",
          "2017-01-02T00:00:00.000000000",
          "2017-01-03T00:00:00.000000000",
          "2017-01-04T00:00:00.000000000",
          "2017-01-05T00:00:00.000000000",
          "2017-01-06T00:00:00.000000000",
          "2017-01-07T00:00:00.000000000",
          "2017-01-08T00:00:00.000000000",
          "2017-01-09T00:00:00.000000000",
          "2017-01-10T00:00:00.000000000",
          "2017-01-11T00:00:00.000000000",
          "2017-01-12T00:00:00.000000000",
          "2017-01-13T00:00:00.000000000",
          "2017-01-14T00:00:00.000000000",
          "2017-01-15T00:00:00.000000000",
          "2017-01-16T00:00:00.000000000",
          "2017-01-17T00:00:00.000000000",
          "2017-01-18T00:00:00.000000000",
          "2017-01-19T00:00:00.000000000",
          "2017-01-20T00:00:00.000000000",
          "2017-01-21T00:00:00.000000000",
          "2017-01-22T00:00:00.000000000",
          "2017-01-23T00:00:00.000000000",
          "2017-01-24T00:00:00.000000000",
          "2017-01-25T00:00:00.000000000",
          "2017-01-26T00:00:00.000000000",
          "2017-01-27T00:00:00.000000000",
          "2017-01-28T00:00:00.000000000",
          "2017-01-29T00:00:00.000000000",
          "2017-01-30T00:00:00.000000000",
          "2017-01-31T00:00:00.000000000",
          "2017-02-01T00:00:00.000000000",
          "2017-02-02T00:00:00.000000000",
          "2017-02-03T00:00:00.000000000",
          "2017-02-04T00:00:00.000000000",
          "2017-02-05T00:00:00.000000000",
          "2017-02-06T00:00:00.000000000",
          "2017-02-07T00:00:00.000000000",
          "2017-02-08T00:00:00.000000000",
          "2017-02-09T00:00:00.000000000",
          "2017-02-10T00:00:00.000000000",
          "2017-02-11T00:00:00.000000000",
          "2017-02-12T00:00:00.000000000",
          "2017-02-13T00:00:00.000000000",
          "2017-02-14T00:00:00.000000000",
          "2017-02-15T00:00:00.000000000",
          "2017-02-16T00:00:00.000000000",
          "2017-02-17T00:00:00.000000000",
          "2017-02-18T00:00:00.000000000",
          "2017-02-19T00:00:00.000000000",
          "2017-02-20T00:00:00.000000000",
          "2017-02-21T00:00:00.000000000",
          "2017-02-22T00:00:00.000000000",
          "2017-02-23T00:00:00.000000000",
          "2017-02-24T00:00:00.000000000",
          "2017-02-25T00:00:00.000000000",
          "2017-02-26T00:00:00.000000000",
          "2017-02-27T00:00:00.000000000",
          "2017-02-28T00:00:00.000000000",
          "2017-03-01T00:00:00.000000000",
          "2017-03-02T00:00:00.000000000",
          "2017-03-03T00:00:00.000000000",
          "2017-03-04T00:00:00.000000000",
          "2017-03-05T00:00:00.000000000",
          "2017-03-06T00:00:00.000000000",
          "2017-03-07T00:00:00.000000000",
          "2017-03-08T00:00:00.000000000",
          "2017-03-09T00:00:00.000000000",
          "2017-03-10T00:00:00.000000000",
          "2017-03-11T00:00:00.000000000",
          "2017-03-12T00:00:00.000000000",
          "2017-03-13T00:00:00.000000000",
          "2017-03-14T00:00:00.000000000",
          "2017-03-15T00:00:00.000000000",
          "2017-03-16T00:00:00.000000000",
          "2017-03-17T00:00:00.000000000",
          "2017-03-18T00:00:00.000000000",
          "2017-03-19T00:00:00.000000000",
          "2017-03-20T00:00:00.000000000",
          "2017-03-21T00:00:00.000000000",
          "2017-03-22T00:00:00.000000000",
          "2017-03-23T00:00:00.000000000",
          "2017-03-24T00:00:00.000000000",
          "2017-03-25T00:00:00.000000000",
          "2017-03-26T00:00:00.000000000",
          "2017-03-27T00:00:00.000000000",
          "2017-03-28T00:00:00.000000000",
          "2017-03-29T00:00:00.000000000",
          "2017-03-30T00:00:00.000000000",
          "2017-03-31T00:00:00.000000000",
          "2017-04-01T00:00:00.000000000",
          "2017-04-02T00:00:00.000000000",
          "2017-04-03T00:00:00.000000000",
          "2017-04-04T00:00:00.000000000",
          "2017-04-05T00:00:00.000000000",
          "2017-04-06T00:00:00.000000000",
          "2017-04-07T00:00:00.000000000",
          "2017-04-08T00:00:00.000000000",
          "2017-04-09T00:00:00.000000000",
          "2017-04-10T00:00:00.000000000",
          "2017-04-11T00:00:00.000000000",
          "2017-04-12T00:00:00.000000000",
          "2017-04-13T00:00:00.000000000",
          "2017-04-14T00:00:00.000000000",
          "2017-04-15T00:00:00.000000000",
          "2017-04-16T00:00:00.000000000",
          "2017-04-17T00:00:00.000000000",
          "2017-04-18T00:00:00.000000000",
          "2017-04-19T00:00:00.000000000",
          "2017-04-20T00:00:00.000000000",
          "2017-04-21T00:00:00.000000000",
          "2017-04-22T00:00:00.000000000",
          "2017-04-23T00:00:00.000000000",
          "2017-04-24T00:00:00.000000000",
          "2017-04-25T00:00:00.000000000",
          "2017-04-26T00:00:00.000000000",
          "2017-04-27T00:00:00.000000000",
          "2017-04-28T00:00:00.000000000",
          "2017-04-29T00:00:00.000000000",
          "2017-04-30T00:00:00.000000000",
          "2017-05-01T00:00:00.000000000",
          "2017-05-02T00:00:00.000000000",
          "2017-05-03T00:00:00.000000000",
          "2017-05-04T00:00:00.000000000",
          "2017-05-05T00:00:00.000000000",
          "2017-05-06T00:00:00.000000000",
          "2017-05-07T00:00:00.000000000",
          "2017-05-08T00:00:00.000000000",
          "2017-05-09T00:00:00.000000000",
          "2017-05-10T00:00:00.000000000",
          "2017-05-11T00:00:00.000000000",
          "2017-05-12T00:00:00.000000000",
          "2017-05-13T00:00:00.000000000",
          "2017-05-14T00:00:00.000000000",
          "2017-05-15T00:00:00.000000000",
          "2017-05-16T00:00:00.000000000",
          "2017-05-17T00:00:00.000000000",
          "2017-05-18T00:00:00.000000000",
          "2017-05-19T00:00:00.000000000",
          "2017-05-20T00:00:00.000000000",
          "2017-05-21T00:00:00.000000000",
          "2017-05-22T00:00:00.000000000",
          "2017-05-23T00:00:00.000000000",
          "2017-05-24T00:00:00.000000000",
          "2017-05-25T00:00:00.000000000",
          "2017-05-26T00:00:00.000000000",
          "2017-05-27T00:00:00.000000000",
          "2017-05-28T00:00:00.000000000",
          "2017-05-29T00:00:00.000000000",
          "2017-05-30T00:00:00.000000000",
          "2017-05-31T00:00:00.000000000",
          "2017-06-01T00:00:00.000000000",
          "2017-06-02T00:00:00.000000000",
          "2017-06-03T00:00:00.000000000",
          "2017-06-04T00:00:00.000000000",
          "2017-06-05T00:00:00.000000000",
          "2017-06-06T00:00:00.000000000",
          "2017-06-07T00:00:00.000000000",
          "2017-06-08T00:00:00.000000000",
          "2017-06-09T00:00:00.000000000",
          "2017-06-10T00:00:00.000000000",
          "2017-06-11T00:00:00.000000000",
          "2017-06-12T00:00:00.000000000",
          "2017-06-13T00:00:00.000000000",
          "2017-06-14T00:00:00.000000000",
          "2017-06-15T00:00:00.000000000",
          "2017-06-16T00:00:00.000000000",
          "2017-06-17T00:00:00.000000000",
          "2017-06-18T00:00:00.000000000",
          "2017-06-19T00:00:00.000000000",
          "2017-06-20T00:00:00.000000000",
          "2017-06-21T00:00:00.000000000",
          "2017-06-22T00:00:00.000000000",
          "2017-06-23T00:00:00.000000000",
          "2017-06-24T00:00:00.000000000",
          "2017-06-25T00:00:00.000000000",
          "2017-06-26T00:00:00.000000000",
          "2017-06-27T00:00:00.000000000",
          "2017-06-28T00:00:00.000000000",
          "2017-06-29T00:00:00.000000000",
          "2017-06-30T00:00:00.000000000",
          "2017-07-01T00:00:00.000000000",
          "2017-07-02T00:00:00.000000000",
          "2017-07-03T00:00:00.000000000",
          "2017-07-04T00:00:00.000000000",
          "2017-07-05T00:00:00.000000000",
          "2017-07-06T00:00:00.000000000",
          "2017-07-07T00:00:00.000000000",
          "2017-07-08T00:00:00.000000000",
          "2017-07-09T00:00:00.000000000",
          "2017-07-10T00:00:00.000000000",
          "2017-07-11T00:00:00.000000000",
          "2017-07-12T00:00:00.000000000",
          "2017-07-13T00:00:00.000000000",
          "2017-07-14T00:00:00.000000000",
          "2017-07-15T00:00:00.000000000",
          "2017-07-16T00:00:00.000000000",
          "2017-07-17T00:00:00.000000000",
          "2017-07-18T00:00:00.000000000",
          "2017-07-19T00:00:00.000000000",
          "2017-07-20T00:00:00.000000000",
          "2017-07-21T00:00:00.000000000",
          "2017-07-22T00:00:00.000000000",
          "2017-07-23T00:00:00.000000000",
          "2017-07-24T00:00:00.000000000",
          "2017-07-25T00:00:00.000000000",
          "2017-07-26T00:00:00.000000000",
          "2017-07-27T00:00:00.000000000",
          "2017-07-28T00:00:00.000000000",
          "2017-07-29T00:00:00.000000000",
          "2017-07-30T00:00:00.000000000",
          "2017-07-31T00:00:00.000000000",
          "2017-08-01T00:00:00.000000000",
          "2017-08-02T00:00:00.000000000",
          "2017-08-03T00:00:00.000000000",
          "2017-08-04T00:00:00.000000000",
          "2017-08-05T00:00:00.000000000",
          "2017-08-06T00:00:00.000000000",
          "2017-08-07T00:00:00.000000000",
          "2017-08-08T00:00:00.000000000",
          "2017-08-09T00:00:00.000000000",
          "2017-08-10T00:00:00.000000000",
          "2017-08-11T00:00:00.000000000",
          "2017-08-12T00:00:00.000000000",
          "2017-08-13T00:00:00.000000000",
          "2017-08-14T00:00:00.000000000",
          "2017-08-15T00:00:00.000000000",
          "2017-08-16T00:00:00.000000000",
          "2017-08-17T00:00:00.000000000",
          "2017-08-18T00:00:00.000000000",
          "2017-08-19T00:00:00.000000000",
          "2017-08-20T00:00:00.000000000",
          "2017-08-21T00:00:00.000000000",
          "2017-08-22T00:00:00.000000000",
          "2017-08-23T00:00:00.000000000",
          "2017-08-24T00:00:00.000000000",
          "2017-08-25T00:00:00.000000000",
          "2017-08-26T00:00:00.000000000",
          "2017-08-27T00:00:00.000000000",
          "2017-08-28T00:00:00.000000000",
          "2017-08-29T00:00:00.000000000",
          "2017-08-30T00:00:00.000000000",
          "2017-08-31T00:00:00.000000000",
          "2017-09-01T00:00:00.000000000",
          "2017-09-02T00:00:00.000000000",
          "2017-09-03T00:00:00.000000000",
          "2017-09-04T00:00:00.000000000",
          "2017-09-05T00:00:00.000000000",
          "2017-09-06T00:00:00.000000000",
          "2017-09-07T00:00:00.000000000",
          "2017-09-08T00:00:00.000000000",
          "2017-09-09T00:00:00.000000000",
          "2017-09-10T00:00:00.000000000",
          "2017-09-11T00:00:00.000000000",
          "2017-09-12T00:00:00.000000000",
          "2017-09-13T00:00:00.000000000",
          "2017-09-14T00:00:00.000000000",
          "2017-09-15T00:00:00.000000000",
          "2017-09-16T00:00:00.000000000",
          "2017-09-17T00:00:00.000000000",
          "2017-09-18T00:00:00.000000000",
          "2017-09-19T00:00:00.000000000",
          "2017-09-20T00:00:00.000000000",
          "2017-09-21T00:00:00.000000000",
          "2017-09-22T00:00:00.000000000",
          "2017-09-23T00:00:00.000000000",
          "2017-09-24T00:00:00.000000000",
          "2017-09-25T00:00:00.000000000",
          "2017-09-26T00:00:00.000000000",
          "2017-09-27T00:00:00.000000000",
          "2017-09-28T00:00:00.000000000",
          "2017-09-29T00:00:00.000000000",
          "2017-09-30T00:00:00.000000000",
          "2017-10-01T00:00:00.000000000",
          "2017-10-02T00:00:00.000000000",
          "2017-10-03T00:00:00.000000000",
          "2017-10-04T00:00:00.000000000",
          "2017-10-05T00:00:00.000000000",
          "2017-10-06T00:00:00.000000000",
          "2017-10-07T00:00:00.000000000",
          "2017-10-08T00:00:00.000000000",
          "2017-10-09T00:00:00.000000000",
          "2017-10-10T00:00:00.000000000",
          "2017-10-11T00:00:00.000000000",
          "2017-10-12T00:00:00.000000000",
          "2017-10-13T00:00:00.000000000",
          "2017-10-14T00:00:00.000000000",
          "2017-10-15T00:00:00.000000000",
          "2017-10-16T00:00:00.000000000",
          "2017-10-17T00:00:00.000000000",
          "2017-10-18T00:00:00.000000000",
          "2017-10-19T00:00:00.000000000",
          "2017-10-20T00:00:00.000000000",
          "2017-10-21T00:00:00.000000000",
          "2017-10-22T00:00:00.000000000",
          "2017-10-23T00:00:00.000000000",
          "2017-10-24T00:00:00.000000000",
          "2017-10-25T00:00:00.000000000",
          "2017-10-26T00:00:00.000000000",
          "2017-10-27T00:00:00.000000000",
          "2017-10-28T00:00:00.000000000",
          "2017-10-29T00:00:00.000000000",
          "2017-10-30T00:00:00.000000000",
          "2017-10-31T00:00:00.000000000",
          "2017-11-01T00:00:00.000000000",
          "2017-11-02T00:00:00.000000000",
          "2017-11-03T00:00:00.000000000",
          "2017-11-04T00:00:00.000000000",
          "2017-11-05T00:00:00.000000000",
          "2017-11-06T00:00:00.000000000",
          "2017-11-07T00:00:00.000000000",
          "2017-11-08T00:00:00.000000000",
          "2017-11-09T00:00:00.000000000",
          "2017-11-10T00:00:00.000000000",
          "2017-11-11T00:00:00.000000000",
          "2017-11-12T00:00:00.000000000",
          "2017-11-13T00:00:00.000000000",
          "2017-11-14T00:00:00.000000000",
          "2017-11-15T00:00:00.000000000",
          "2017-11-16T00:00:00.000000000",
          "2017-11-17T00:00:00.000000000",
          "2017-11-18T00:00:00.000000000",
          "2017-11-19T00:00:00.000000000",
          "2017-11-20T00:00:00.000000000",
          "2017-11-21T00:00:00.000000000",
          "2017-11-22T00:00:00.000000000",
          "2017-11-23T00:00:00.000000000",
          "2017-11-24T00:00:00.000000000",
          "2017-11-25T00:00:00.000000000",
          "2017-11-26T00:00:00.000000000",
          "2017-11-27T00:00:00.000000000",
          "2017-11-28T00:00:00.000000000",
          "2017-11-29T00:00:00.000000000",
          "2017-11-30T00:00:00.000000000",
          "2017-12-01T00:00:00.000000000",
          "2017-12-02T00:00:00.000000000",
          "2017-12-03T00:00:00.000000000",
          "2017-12-04T00:00:00.000000000",
          "2017-12-05T00:00:00.000000000",
          "2017-12-06T00:00:00.000000000",
          "2017-12-07T00:00:00.000000000",
          "2017-12-08T00:00:00.000000000",
          "2017-12-09T00:00:00.000000000",
          "2017-12-10T00:00:00.000000000",
          "2017-12-11T00:00:00.000000000",
          "2017-12-12T00:00:00.000000000",
          "2017-12-13T00:00:00.000000000",
          "2017-12-14T00:00:00.000000000",
          "2017-12-15T00:00:00.000000000",
          "2017-12-16T00:00:00.000000000",
          "2017-12-17T00:00:00.000000000",
          "2017-12-18T00:00:00.000000000",
          "2017-12-19T00:00:00.000000000",
          "2017-12-20T00:00:00.000000000",
          "2017-12-21T00:00:00.000000000",
          "2017-12-22T00:00:00.000000000",
          "2017-12-23T00:00:00.000000000",
          "2017-12-24T00:00:00.000000000",
          "2017-12-25T00:00:00.000000000",
          "2017-12-26T00:00:00.000000000",
          "2017-12-27T00:00:00.000000000",
          "2017-12-28T00:00:00.000000000",
          "2017-12-29T00:00:00.000000000",
          "2017-12-30T00:00:00.000000000",
          "2017-12-31T00:00:00.000000000",
          "2018-01-01T00:00:00.000000000",
          "2018-01-02T00:00:00.000000000",
          "2018-01-03T00:00:00.000000000",
          "2018-01-04T00:00:00.000000000",
          "2018-01-05T00:00:00.000000000",
          "2018-01-06T00:00:00.000000000",
          "2018-01-07T00:00:00.000000000",
          "2018-01-08T00:00:00.000000000",
          "2018-01-09T00:00:00.000000000",
          "2018-01-10T00:00:00.000000000",
          "2018-01-11T00:00:00.000000000",
          "2018-01-12T00:00:00.000000000",
          "2018-01-13T00:00:00.000000000",
          "2018-01-14T00:00:00.000000000",
          "2018-01-15T00:00:00.000000000",
          "2018-01-16T00:00:00.000000000",
          "2018-01-17T00:00:00.000000000",
          "2018-01-18T00:00:00.000000000",
          "2018-01-19T00:00:00.000000000",
          "2018-01-20T00:00:00.000000000",
          "2018-01-21T00:00:00.000000000",
          "2018-01-22T00:00:00.000000000",
          "2018-01-23T00:00:00.000000000",
          "2018-01-24T00:00:00.000000000",
          "2018-01-25T00:00:00.000000000",
          "2018-01-26T00:00:00.000000000",
          "2018-01-27T00:00:00.000000000",
          "2018-01-28T00:00:00.000000000",
          "2018-01-29T00:00:00.000000000",
          "2018-01-30T00:00:00.000000000",
          "2018-01-31T00:00:00.000000000",
          "2018-02-01T00:00:00.000000000",
          "2018-02-02T00:00:00.000000000",
          "2018-02-03T00:00:00.000000000",
          "2018-02-04T00:00:00.000000000",
          "2018-02-05T00:00:00.000000000",
          "2018-02-06T00:00:00.000000000",
          "2018-02-07T00:00:00.000000000",
          "2018-02-08T00:00:00.000000000",
          "2018-02-09T00:00:00.000000000",
          "2018-02-10T00:00:00.000000000",
          "2018-02-11T00:00:00.000000000",
          "2018-02-12T00:00:00.000000000",
          "2018-02-13T00:00:00.000000000",
          "2018-02-14T00:00:00.000000000",
          "2018-02-15T00:00:00.000000000",
          "2018-02-16T00:00:00.000000000",
          "2018-02-17T00:00:00.000000000",
          "2018-02-18T00:00:00.000000000",
          "2018-02-19T00:00:00.000000000",
          "2018-02-20T00:00:00.000000000",
          "2018-02-21T00:00:00.000000000",
          "2018-02-22T00:00:00.000000000",
          "2018-02-23T00:00:00.000000000",
          "2018-02-24T00:00:00.000000000",
          "2018-02-25T00:00:00.000000000",
          "2018-02-26T00:00:00.000000000",
          "2018-02-27T00:00:00.000000000",
          "2018-02-28T00:00:00.000000000",
          "2018-03-01T00:00:00.000000000",
          "2018-03-02T00:00:00.000000000",
          "2018-03-03T00:00:00.000000000",
          "2018-03-04T00:00:00.000000000",
          "2018-03-05T00:00:00.000000000",
          "2018-03-06T00:00:00.000000000",
          "2018-03-07T00:00:00.000000000",
          "2018-03-08T00:00:00.000000000",
          "2018-03-09T00:00:00.000000000",
          "2018-03-10T00:00:00.000000000",
          "2018-03-11T00:00:00.000000000",
          "2018-03-12T00:00:00.000000000",
          "2018-03-13T00:00:00.000000000",
          "2018-03-14T00:00:00.000000000",
          "2018-03-15T00:00:00.000000000",
          "2018-03-16T00:00:00.000000000",
          "2018-03-17T00:00:00.000000000",
          "2018-03-18T00:00:00.000000000",
          "2018-03-19T00:00:00.000000000",
          "2018-03-20T00:00:00.000000000",
          "2018-03-21T00:00:00.000000000",
          "2018-03-22T00:00:00.000000000",
          "2018-03-23T00:00:00.000000000",
          "2018-03-24T00:00:00.000000000",
          "2018-03-25T00:00:00.000000000",
          "2018-03-26T00:00:00.000000000",
          "2018-03-27T00:00:00.000000000",
          "2018-03-28T00:00:00.000000000",
          "2018-03-29T00:00:00.000000000",
          "2018-03-30T00:00:00.000000000",
          "2018-03-31T00:00:00.000000000",
          "2018-04-01T00:00:00.000000000",
          "2018-04-02T00:00:00.000000000",
          "2018-04-03T00:00:00.000000000",
          "2018-04-04T00:00:00.000000000",
          "2018-04-05T00:00:00.000000000",
          "2018-04-06T00:00:00.000000000",
          "2018-04-07T00:00:00.000000000",
          "2018-04-08T00:00:00.000000000",
          "2018-04-09T00:00:00.000000000",
          "2018-04-10T00:00:00.000000000",
          "2018-04-11T00:00:00.000000000",
          "2018-04-12T00:00:00.000000000",
          "2018-04-13T00:00:00.000000000",
          "2018-04-14T00:00:00.000000000",
          "2018-04-15T00:00:00.000000000",
          "2018-04-16T00:00:00.000000000",
          "2018-04-17T00:00:00.000000000",
          "2018-04-18T00:00:00.000000000",
          "2018-04-19T00:00:00.000000000",
          "2018-04-20T00:00:00.000000000",
          "2018-04-21T00:00:00.000000000",
          "2018-04-22T00:00:00.000000000",
          "2018-04-23T00:00:00.000000000",
          "2018-04-24T00:00:00.000000000"
         ],
         "y": {
          "bdata": "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",
          "dtype": "f8"
         }
        }
       ],
       "layout": {
        "height": 600,
        "showlegend": false,
        "template": {
         "data": {
          "bar": [
           {
            "error_x": {
             "color": "#2a3f5f"
            },
            "error_y": {
             "color": "#2a3f5f"
            },
            "marker": {
             "line": {
              "color": "#E5ECF6",
              "width": 0.5
             },
             "pattern": {
              "fillmode": "overlay",
              "size": 10,
              "solidity": 0.2
             }
            },
            "type": "bar"
           }
          ],
          "barpolar": [
           {
            "marker": {
             "line": {
              "color": "#E5ECF6",
              "width": 0.5
             },
             "pattern": {
              "fillmode": "overlay",
              "size": 10,
              "solidity": 0.2
             }
            },
            "type": "barpolar"
           }
          ],
          "carpet": [
           {
            "aaxis": {
             "endlinecolor": "#2a3f5f",
             "gridcolor": "white",
             "linecolor": "white",
             "minorgridcolor": "white",
             "startlinecolor": "#2a3f5f"
            },
            "baxis": {
             "endlinecolor": "#2a3f5f",
             "gridcolor": "white",
             "linecolor": "white",
             "minorgridcolor": "white",
             "startlinecolor": "#2a3f5f"
            },
            "type": "carpet"
           }
          ],
          "choropleth": [
           {
            "colorbar": {
             "outlinewidth": 0,
             "ticks": ""
            },
            "type": "choropleth"
           }
          ],
          "contour": [
           {
            "colorbar": {
             "outlinewidth": 0,
             "ticks": ""
            },
            "colorscale": [
             [
              0,
              "#0d0887"
             ],
             [
              0.1111111111111111,
              "#46039f"
             ],
             [
              0.2222222222222222,
              "#7201a8"
             ],
             [
              0.3333333333333333,
              "#9c179e"
             ],
             [
              0.4444444444444444,
              "#bd3786"
             ],
             [
              0.5555555555555556,
              "#d8576b"
             ],
             [
              0.6666666666666666,
              "#ed7953"
             ],
             [
              0.7777777777777778,
              "#fb9f3a"
             ],
             [
              0.8888888888888888,
              "#fdca26"
             ],
             [
              1,
              "#f0f921"
             ]
            ],
            "type": "contour"
           }
          ],
          "contourcarpet": [
           {
            "colorbar": {
             "outlinewidth": 0,
             "ticks": ""
            },
            "type": "contourcarpet"
           }
          ],
          "heatmap": [
           {
            "colorbar": {
             "outlinewidth": 0,
             "ticks": ""
            },
            "colorscale": [
             [
              0,
              "#0d0887"
             ],
             [
              0.1111111111111111,
              "#46039f"
             ],
             [
              0.2222222222222222,
              "#7201a8"
             ],
             [
              0.3333333333333333,
              "#9c179e"
             ],
             [
              0.4444444444444444,
              "#bd3786"
             ],
             [
              0.5555555555555556,
              "#d8576b"
             ],
             [
              0.6666666666666666,
              "#ed7953"
             ],
             [
              0.7777777777777778,
              "#fb9f3a"
             ],
             [
              0.8888888888888888,
              "#fdca26"
             ],
             [
              1,
              "#f0f921"
             ]
            ],
            "type": "heatmap"
           }
          ],
          "histogram": [
           {
            "marker": {
             "pattern": {
              "fillmode": "overlay",
              "size": 10,
              "solidity": 0.2
             }
            },
            "type": "histogram"
           }
          ],
          "histogram2d": [
           {
            "colorbar": {
             "outlinewidth": 0,
             "ticks": ""
            },
            "colorscale": [
             [
              0,
              "#0d0887"
             ],
             [
              0.1111111111111111,
              "#46039f"
             ],
             [
              0.2222222222222222,
              "#7201a8"
             ],
             [
              0.3333333333333333,
              "#9c179e"
             ],
             [
              0.4444444444444444,
              "#bd3786"
             ],
             [
              0.5555555555555556,
              "#d8576b"
             ],
             [
              0.6666666666666666,
              "#ed7953"
             ],
             [
              0.7777777777777778,
              "#fb9f3a"
             ],
             [
              0.8888888888888888,
              "#fdca26"
             ],
             [
              1,
              "#f0f921"
             ]
            ],
            "type": "histogram2d"
           }
          ],
          "histogram2dcontour": [
           {
            "colorbar": {
             "outlinewidth": 0,
             "ticks": ""
            },
            "colorscale": [
             [
              0,
              "#0d0887"
             ],
             [
              0.1111111111111111,
              "#46039f"
             ],
             [
              0.2222222222222222,
              "#7201a8"
             ],
             [
              0.3333333333333333,
              "#9c179e"
             ],
             [
              0.4444444444444444,
              "#bd3786"
             ],
             [
              0.5555555555555556,
              "#d8576b"
             ],
             [
              0.6666666666666666,
              "#ed7953"
             ],
             [
              0.7777777777777778,
              "#fb9f3a"
             ],
             [
              0.8888888888888888,
              "#fdca26"
             ],
             [
              1,
              "#f0f921"
             ]
            ],
            "type": "histogram2dcontour"
           }
          ],
          "mesh3d": [
           {
            "colorbar": {
             "outlinewidth": 0,
             "ticks": ""
            },
            "type": "mesh3d"
           }
          ],
          "parcoords": [
           {
            "line": {
             "colorbar": {
              "outlinewidth": 0,
              "ticks": ""
             }
            },
            "type": "parcoords"
           }
          ],
          "pie": [
           {
            "automargin": true,
            "type": "pie"
           }
          ],
          "scatter": [
           {
            "fillpattern": {
             "fillmode": "overlay",
             "size": 10,
             "solidity": 0.2
            },
            "type": "scatter"
           }
          ],
          "scatter3d": [
           {
            "line": {
             "colorbar": {
              "outlinewidth": 0,
              "ticks": ""
             }
            },
            "marker": {
             "colorbar": {
              "outlinewidth": 0,
              "ticks": ""
             }
            },
            "type": "scatter3d"
           }
          ],
          "scattercarpet": [
           {
            "marker": {
             "colorbar": {
              "outlinewidth": 0,
              "ticks": ""
             }
            },
            "type": "scattercarpet"
           }
          ],
          "scattergeo": [
           {
            "marker": {
             "colorbar": {
              "outlinewidth": 0,
              "ticks": ""
             }
            },
            "type": "scattergeo"
           }
          ],
          "scattergl": [
           {
            "marker": {
             "colorbar": {
              "outlinewidth": 0,
              "ticks": ""
             }
            },
            "type": "scattergl"
           }
          ],
          "scattermap": [
           {
            "marker": {
             "colorbar": {
              "outlinewidth": 0,
              "ticks": ""
             }
            },
            "type": "scattermap"
           }
          ],
          "scattermapbox": [
           {
            "marker": {
             "colorbar": {
              "outlinewidth": 0,
              "ticks": ""
             }
            },
            "type": "scattermapbox"
           }
          ],
          "scatterpolar": [
           {
            "marker": {
             "colorbar": {
              "outlinewidth": 0,
              "ticks": ""
             }
            },
            "type": "scatterpolar"
           }
          ],
          "scatterpolargl": [
           {
            "marker": {
             "colorbar": {
              "outlinewidth": 0,
              "ticks": ""
             }
            },
            "type": "scatterpolargl"
           }
          ],
          "scatterternary": [
           {
            "marker": {
             "colorbar": {
              "outlinewidth": 0,
              "ticks": ""
             }
            },
            "type": "scatterternary"
           }
          ],
          "surface": [
           {
            "colorbar": {
             "outlinewidth": 0,
             "ticks": ""
            },
            "colorscale": [
             [
              0,
              "#0d0887"
             ],
             [
              0.1111111111111111,
              "#46039f"
             ],
             [
              0.2222222222222222,
              "#7201a8"
             ],
             [
              0.3333333333333333,
              "#9c179e"
             ],
             [
              0.4444444444444444,
              "#bd3786"
             ],
             [
              0.5555555555555556,
              "#d8576b"
             ],
             [
              0.6666666666666666,
              "#ed7953"
             ],
             [
              0.7777777777777778,
              "#fb9f3a"
             ],
             [
              0.8888888888888888,
              "#fdca26"
             ],
             [
              1,
              "#f0f921"
             ]
            ],
            "type": "surface"
           }
          ],
          "table": [
           {
            "cells": {
             "fill": {
              "color": "#EBF0F8"
             },
             "line": {
              "color": "white"
             }
            },
            "header": {
             "fill": {
              "color": "#C8D4E3"
             },
             "line": {
              "color": "white"
             }
            },
            "type": "table"
           }
          ]
         },
         "layout": {
          "annotationdefaults": {
           "arrowcolor": "#2a3f5f",
           "arrowhead": 0,
           "arrowwidth": 1
          },
          "autotypenumbers": "strict",
          "coloraxis": {
           "colorbar": {
            "outlinewidth": 0,
            "ticks": ""
           }
          },
          "colorscale": {
           "diverging": [
            [
             0,
             "#8e0152"
            ],
            [
             0.1,
             "#c51b7d"
            ],
            [
             0.2,
             "#de77ae"
            ],
            [
             0.3,
             "#f1b6da"
            ],
            [
             0.4,
             "#fde0ef"
            ],
            [
             0.5,
             "#f7f7f7"
            ],
            [
             0.6,
             "#e6f5d0"
            ],
            [
             0.7,
             "#b8e186"
            ],
            [
             0.8,
             "#7fbc41"
            ],
            [
             0.9,
             "#4d9221"
            ],
            [
             1,
             "#276419"
            ]
           ],
           "sequential": [
            [
             0,
             "#0d0887"
            ],
            [
             0.1111111111111111,
             "#46039f"
            ],
            [
             0.2222222222222222,
             "#7201a8"
            ],
            [
             0.3333333333333333,
             "#9c179e"
            ],
            [
             0.4444444444444444,
             "#bd3786"
            ],
            [
             0.5555555555555556,
             "#d8576b"
            ],
            [
             0.6666666666666666,
             "#ed7953"
            ],
            [
             0.7777777777777778,
             "#fb9f3a"
            ],
            [
             0.8888888888888888,
             "#fdca26"
            ],
            [
             1,
             "#f0f921"
            ]
           ],
           "sequentialminus": [
            [
             0,
             "#0d0887"
            ],
            [
             0.1111111111111111,
             "#46039f"
            ],
            [
             0.2222222222222222,
             "#7201a8"
            ],
            [
             0.3333333333333333,
             "#9c179e"
            ],
            [
             0.4444444444444444,
             "#bd3786"
            ],
            [
             0.5555555555555556,
             "#d8576b"
            ],
            [
             0.6666666666666666,
             "#ed7953"
            ],
            [
             0.7777777777777778,
             "#fb9f3a"
            ],
            [
             0.8888888888888888,
             "#fdca26"
            ],
            [
             1,
             "#f0f921"
            ]
           ]
          },
          "colorway": [
           "#636efa",
           "#EF553B",
           "#00cc96",
           "#ab63fa",
           "#FFA15A",
           "#19d3f3",
           "#FF6692",
           "#B6E880",
           "#FF97FF",
           "#FECB52"
          ],
          "font": {
           "color": "#2a3f5f"
          },
          "geo": {
           "bgcolor": "white",
           "lakecolor": "white",
           "landcolor": "#E5ECF6",
           "showlakes": true,
           "showland": true,
           "subunitcolor": "white"
          },
          "hoverlabel": {
           "align": "left"
          },
          "hovermode": "closest",
          "mapbox": {
           "style": "light"
          },
          "paper_bgcolor": "white",
          "plot_bgcolor": "#E5ECF6",
          "polar": {
           "angularaxis": {
            "gridcolor": "white",
            "linecolor": "white",
            "ticks": ""
           },
           "bgcolor": "#E5ECF6",
           "radialaxis": {
            "gridcolor": "white",
            "linecolor": "white",
            "ticks": ""
           }
          },
          "scene": {
           "xaxis": {
            "backgroundcolor": "#E5ECF6",
            "gridcolor": "white",
            "gridwidth": 2,
            "linecolor": "white",
            "showbackground": true,
            "ticks": "",
            "zerolinecolor": "white"
           },
           "yaxis": {
            "backgroundcolor": "#E5ECF6",
            "gridcolor": "white",
            "gridwidth": 2,
            "linecolor": "white",
            "showbackground": true,
            "ticks": "",
            "zerolinecolor": "white"
           },
           "zaxis": {
            "backgroundcolor": "#E5ECF6",
            "gridcolor": "white",
            "gridwidth": 2,
            "linecolor": "white",
            "showbackground": true,
            "ticks": "",
            "zerolinecolor": "white"
           }
          },
          "shapedefaults": {
           "line": {
            "color": "#2a3f5f"
           }
          },
          "ternary": {
           "aaxis": {
            "gridcolor": "white",
            "linecolor": "white",
            "ticks": ""
           },
           "baxis": {
            "gridcolor": "white",
            "linecolor": "white",
            "ticks": ""
           },
           "bgcolor": "#E5ECF6",
           "caxis": {
            "gridcolor": "white",
            "linecolor": "white",
            "ticks": ""
           }
          },
          "title": {
           "x": 0.05
          },
          "xaxis": {
           "automargin": true,
           "gridcolor": "white",
           "linecolor": "white",
           "ticks": "",
           "title": {
            "standoff": 15
           },
           "zerolinecolor": "white",
           "zerolinewidth": 2
          },
          "yaxis": {
           "automargin": true,
           "gridcolor": "white",
           "linecolor": "white",
           "ticks": "",
           "title": {
            "standoff": 15
           },
           "zerolinecolor": "white",
           "zerolinewidth": 2
          }
         }
        },
        "width": 900,
        "xaxis": {
         "rangeselector": {
          "buttons": [
           {
            "count": 7,
            "label": "1w",
            "step": "day",
            "stepmode": "backward"
           },
           {
            "count": 1,
            "label": "1m",
            "step": "month",
            "stepmode": "backward"
           },
           {
            "count": 6,
            "label": "6m",
            "step": "month",
            "stepmode": "backward"
           },
           {
            "count": 1,
            "label": "1y",
            "step": "year",
            "stepmode": "backward"
           },
           {
            "step": "all"
           }
          ]
         },
         "rangeslider": {
          "visible": true
         },
         "title": {
          "text": "ds"
         },
         "type": "date"
        },
        "yaxis": {
         "title": {
          "text": "y"
         }
        }
       }
      }
     },
     "metadata": {},
     "output_type": "display_data"
    }
   ],
   "source": [
    "from prophet import Prophet\n",
    "from prophet.plot import plot_plotly, plot_components_plotly\n",
    "model = Prophet()\n",
    "model.fit(forecast_data)\n",
    "forecasts = model.make_future_dataframe(periods=365)\n",
    "predictions = model.predict(forecasts)\n",
    "plot_plotly(model, predictions)"
   ]
  },
  {
   "cell_type": "code",
   "execution_count": null,
   "id": "c1e6b14c",
   "metadata": {},
   "outputs": [],
   "source": []
  }
 ],
 "metadata": {
  "kernelspec": {
   "display_name": "Python 3",
   "language": "python",
   "name": "python3"
  },
  "language_info": {
   "codemirror_mode": {
    "name": "ipython",
    "version": 3
   },
   "file_extension": ".py",
   "mimetype": "text/x-python",
   "name": "python",
   "nbconvert_exporter": "python",
   "pygments_lexer": "ipython3",
   "version": "3.12.0"
  }
 },
 "nbformat": 4,
 "nbformat_minor": 5
}
